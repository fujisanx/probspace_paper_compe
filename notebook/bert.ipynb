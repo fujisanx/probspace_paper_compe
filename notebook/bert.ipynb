{
 "metadata": {
  "language_info": {
   "codemirror_mode": {
    "name": "ipython",
    "version": 3
   },
   "file_extension": ".py",
   "mimetype": "text/x-python",
   "name": "python",
   "nbconvert_exporter": "python",
   "pygments_lexer": "ipython3",
   "version": "3.8.5-final"
  },
  "orig_nbformat": 2,
  "kernelspec": {
   "name": "python3",
   "display_name": "Python 3.8.5 64-bit",
   "metadata": {
    "interpreter": {
     "hash": "767d51c1340bd893661ea55ea3124f6de3c7a262a8b4abca0554b478b1e2ff90"
    }
   }
  }
 },
 "nbformat": 4,
 "nbformat_minor": 2,
 "cells": [
  {
   "cell_type": "code",
   "execution_count": 1,
   "metadata": {},
   "outputs": [],
   "source": [
    "import pandas as pd\n",
    "import matplotlib.pyplot as plt\n",
    "from pathlib import Path\n",
    "import collections\n",
    "pd.set_option('display.max_columns', 500)\n",
    "\n",
    "import numpy as np\n",
    "import pandas as pd\n",
    "import tensorflow as tf\n",
    "import seaborn as sns\n",
    "import transformers\n",
    "\n",
    "import nltk\n",
    "import re\n",
    "\n",
    "\n",
    "from matplotlib import pyplot as plt\n",
    "from sklearn.model_selection import train_test_split\n",
    "from sklearn.metrics import accuracy_score, roc_auc_score, roc_curve\n",
    "from transformers import *\n",
    "\n",
    "plt.style.use('seaborn')\n",
    "\n",
    "MOLDEL_NAME = 'roberta-base'\n",
    "MAX_LEN = 312"
   ]
  },
  {
   "cell_type": "code",
   "execution_count": 2,
   "metadata": {},
   "outputs": [
    {
     "output_type": "execute_result",
     "data": {
      "text/plain": [
       "               id                     submitter  \\\n",
       "0  hep-ph/9902295               Michael Kraemer   \n",
       "1       1403.7138                      Aigen Li   \n",
       "2       1405.5857             Michael Mortonson   \n",
       "3      1807.01034  Evangelos Thomas Karamatskos   \n",
       "4      1905.05921                   Juanjuan Gu   \n",
       "\n",
       "                                             authors  \\\n",
       "0  Mark E. Hayes (University College London) and ...   \n",
       "1  Qi Li, S.L. Liang, Aigen Li (University of Mis...   \n",
       "2              Michael J. Mortonson, Uro\\v{s} Seljak   \n",
       "3  Evangelos T. Karamatskos, Sebastian Raabe, Ter...   \n",
       "4                           Juanjuan Gu and Yun Jing   \n",
       "\n",
       "                                               title  \\\n",
       "0                   Heavy-Flavour Production at HERA   \n",
       "1  Spectropolarimetric Constraints on the Nature ...   \n",
       "2  A joint analysis of Planck and BICEP2 B modes ...   \n",
       "3  Molecular movie of ultrafast coherent rotation...   \n",
       "4  A Modified Mixed Domain Method for Modeling Ac...   \n",
       "\n",
       "                                            comments  \\\n",
       "0  LaTeX, 21 pages, 13 Postscript figures. Summar...   \n",
       "1  5 pages, 2 figures; accepted for publication i...   \n",
       "2  13 pages, 4 figures; submitted to JCAP; refere...   \n",
       "3                                          9 Figures   \n",
       "4                                               None   \n",
       "\n",
       "                  journal-ref                            doi  \\\n",
       "0   J.Phys.G25:1477-1493,1999     10.1088/0954-3899/25/7/332   \n",
       "1                        None          10.1093/mnrasl/slu021   \n",
       "2             JCAP10(2014)035  10.1088/1475-7516/2014/10/035   \n",
       "3  Nat Commun 10, 3364 (2019)     10.1038/s41467-019-11122-y   \n",
       "4                        None             10.1121/10.0001454   \n",
       "\n",
       "                      report-no                                categories  \\\n",
       "0  CERN-TH/99-30, UCL/HEP 99-03                             hep-ph hep-ex   \n",
       "1                          None                               astro-ph.GA   \n",
       "2                          None           astro-ph.CO gr-qc hep-ph hep-th   \n",
       "3                          None  physics.chem-ph physics.atom-ph quant-ph   \n",
       "4                          None            physics.med-ph physics.comp-ph   \n",
       "\n",
       "                                             license  \\\n",
       "0                                               None   \n",
       "1  http://arxiv.org/licenses/nonexclusive-distrib...   \n",
       "2  http://arxiv.org/licenses/nonexclusive-distrib...   \n",
       "3  http://arxiv.org/licenses/nonexclusive-distrib...   \n",
       "4  http://arxiv.org/licenses/nonexclusive-distrib...   \n",
       "\n",
       "                                            abstract  \\\n",
       "0    We review the theoretical and experimental s...   \n",
       "1    While it is well recognized that interstella...   \n",
       "2    We analyze BICEP2 and Planck data using a mo...   \n",
       "3    Recording molecular movies on ultrafast time...   \n",
       "4    In this paper, phase correction and amplitud...   \n",
       "\n",
       "                                            versions update_date  \\\n",
       "0  [{'version': 'v1', 'created': 'Wed, 10 Feb 199...  2008-11-26   \n",
       "1  [{'version': 'v1', 'created': 'Thu, 27 Mar 201...  2015-06-19   \n",
       "2  [{'version': 'v1', 'created': 'Thu, 22 May 201...  2014-10-17   \n",
       "3  [{'version': 'v1', 'created': 'Tue, 3 Jul 2018...  2020-05-19   \n",
       "4  [{'version': 'v1', 'created': 'Wed, 15 May 201...  2020-07-15   \n",
       "\n",
       "                                      authors_parsed  doi_cites  cites  \n",
       "0  [[Hayes, Mark E., , University College London]...   0.693147    NaN  \n",
       "1  [[Li, Qi, , University of Missouri], [Liang, S...   2.197225    7.0  \n",
       "2      [[Mortonson, Michael J., ], [Seljak, Uroš, ]]   4.812184  188.0  \n",
       "3  [[Karamatskos, Evangelos T., ], [Raabe, Sebast...   1.945910    8.0  \n",
       "4                  [[Gu, Juanjuan, ], [Jing, Yun, ]]   0.000000    NaN  "
      ],
      "text/html": "<div>\n<style scoped>\n    .dataframe tbody tr th:only-of-type {\n        vertical-align: middle;\n    }\n\n    .dataframe tbody tr th {\n        vertical-align: top;\n    }\n\n    .dataframe thead th {\n        text-align: right;\n    }\n</style>\n<table border=\"1\" class=\"dataframe\">\n  <thead>\n    <tr style=\"text-align: right;\">\n      <th></th>\n      <th>id</th>\n      <th>submitter</th>\n      <th>authors</th>\n      <th>title</th>\n      <th>comments</th>\n      <th>journal-ref</th>\n      <th>doi</th>\n      <th>report-no</th>\n      <th>categories</th>\n      <th>license</th>\n      <th>abstract</th>\n      <th>versions</th>\n      <th>update_date</th>\n      <th>authors_parsed</th>\n      <th>doi_cites</th>\n      <th>cites</th>\n    </tr>\n  </thead>\n  <tbody>\n    <tr>\n      <th>0</th>\n      <td>hep-ph/9902295</td>\n      <td>Michael Kraemer</td>\n      <td>Mark E. Hayes (University College London) and ...</td>\n      <td>Heavy-Flavour Production at HERA</td>\n      <td>LaTeX, 21 pages, 13 Postscript figures. Summar...</td>\n      <td>J.Phys.G25:1477-1493,1999</td>\n      <td>10.1088/0954-3899/25/7/332</td>\n      <td>CERN-TH/99-30, UCL/HEP 99-03</td>\n      <td>hep-ph hep-ex</td>\n      <td>None</td>\n      <td>We review the theoretical and experimental s...</td>\n      <td>[{'version': 'v1', 'created': 'Wed, 10 Feb 199...</td>\n      <td>2008-11-26</td>\n      <td>[[Hayes, Mark E., , University College London]...</td>\n      <td>0.693147</td>\n      <td>NaN</td>\n    </tr>\n    <tr>\n      <th>1</th>\n      <td>1403.7138</td>\n      <td>Aigen Li</td>\n      <td>Qi Li, S.L. Liang, Aigen Li (University of Mis...</td>\n      <td>Spectropolarimetric Constraints on the Nature ...</td>\n      <td>5 pages, 2 figures; accepted for publication i...</td>\n      <td>None</td>\n      <td>10.1093/mnrasl/slu021</td>\n      <td>None</td>\n      <td>astro-ph.GA</td>\n      <td>http://arxiv.org/licenses/nonexclusive-distrib...</td>\n      <td>While it is well recognized that interstella...</td>\n      <td>[{'version': 'v1', 'created': 'Thu, 27 Mar 201...</td>\n      <td>2015-06-19</td>\n      <td>[[Li, Qi, , University of Missouri], [Liang, S...</td>\n      <td>2.197225</td>\n      <td>7.0</td>\n    </tr>\n    <tr>\n      <th>2</th>\n      <td>1405.5857</td>\n      <td>Michael Mortonson</td>\n      <td>Michael J. Mortonson, Uro\\v{s} Seljak</td>\n      <td>A joint analysis of Planck and BICEP2 B modes ...</td>\n      <td>13 pages, 4 figures; submitted to JCAP; refere...</td>\n      <td>JCAP10(2014)035</td>\n      <td>10.1088/1475-7516/2014/10/035</td>\n      <td>None</td>\n      <td>astro-ph.CO gr-qc hep-ph hep-th</td>\n      <td>http://arxiv.org/licenses/nonexclusive-distrib...</td>\n      <td>We analyze BICEP2 and Planck data using a mo...</td>\n      <td>[{'version': 'v1', 'created': 'Thu, 22 May 201...</td>\n      <td>2014-10-17</td>\n      <td>[[Mortonson, Michael J., ], [Seljak, Uroš, ]]</td>\n      <td>4.812184</td>\n      <td>188.0</td>\n    </tr>\n    <tr>\n      <th>3</th>\n      <td>1807.01034</td>\n      <td>Evangelos Thomas Karamatskos</td>\n      <td>Evangelos T. Karamatskos, Sebastian Raabe, Ter...</td>\n      <td>Molecular movie of ultrafast coherent rotation...</td>\n      <td>9 Figures</td>\n      <td>Nat Commun 10, 3364 (2019)</td>\n      <td>10.1038/s41467-019-11122-y</td>\n      <td>None</td>\n      <td>physics.chem-ph physics.atom-ph quant-ph</td>\n      <td>http://arxiv.org/licenses/nonexclusive-distrib...</td>\n      <td>Recording molecular movies on ultrafast time...</td>\n      <td>[{'version': 'v1', 'created': 'Tue, 3 Jul 2018...</td>\n      <td>2020-05-19</td>\n      <td>[[Karamatskos, Evangelos T., ], [Raabe, Sebast...</td>\n      <td>1.945910</td>\n      <td>8.0</td>\n    </tr>\n    <tr>\n      <th>4</th>\n      <td>1905.05921</td>\n      <td>Juanjuan Gu</td>\n      <td>Juanjuan Gu and Yun Jing</td>\n      <td>A Modified Mixed Domain Method for Modeling Ac...</td>\n      <td>None</td>\n      <td>None</td>\n      <td>10.1121/10.0001454</td>\n      <td>None</td>\n      <td>physics.med-ph physics.comp-ph</td>\n      <td>http://arxiv.org/licenses/nonexclusive-distrib...</td>\n      <td>In this paper, phase correction and amplitud...</td>\n      <td>[{'version': 'v1', 'created': 'Wed, 15 May 201...</td>\n      <td>2020-07-15</td>\n      <td>[[Gu, Juanjuan, ], [Jing, Yun, ]]</td>\n      <td>0.000000</td>\n      <td>NaN</td>\n    </tr>\n  </tbody>\n</table>\n</div>"
     },
     "metadata": {},
     "execution_count": 2
    }
   ],
   "source": [
    "df_train = pd.read_pickle('../data/train/raw.pickle')\n",
    "df_train.head()"
   ]
  },
  {
   "cell_type": "code",
   "execution_count": 3,
   "metadata": {},
   "outputs": [
    {
     "output_type": "execute_result",
     "data": {
      "text/plain": [
       "(851524, 16)"
      ]
     },
     "metadata": {},
     "execution_count": 3
    }
   ],
   "source": [
    "df_train.shape"
   ]
  },
  {
   "cell_type": "code",
   "execution_count": 4,
   "metadata": {},
   "outputs": [
    {
     "output_type": "stream",
     "name": "stderr",
     "text": [
      "<ipython-input-4-fad0058e69fc>:2: SettingWithCopyWarning: \nA value is trying to be set on a copy of a slice from a DataFrame.\nTry using .loc[row_indexer,col_indexer] = value instead\n\nSee the caveats in the documentation: https://pandas.pydata.org/pandas-docs/stable/user_guide/indexing.html#returning-a-view-versus-a-copy\n  df['text'] = df['title'] + df['abstract']\n"
     ]
    },
    {
     "output_type": "execute_result",
     "data": {
      "text/plain": [
       "               id                                               text  \\\n",
       "0  hep-ph/9902295  Heavy-Flavour Production at HERA  We review th...   \n",
       "1       1403.7138  Spectropolarimetric Constraints on the Nature ...   \n",
       "2       1405.5857  A joint analysis of Planck and BICEP2 B modes ...   \n",
       "3      1807.01034  Molecular movie of ultrafast coherent rotation...   \n",
       "4      1905.05921  A Modified Mixed Domain Method for Modeling Ac...   \n",
       "\n",
       "   doi_cites  \n",
       "0   0.693147  \n",
       "1   2.197225  \n",
       "2   4.812184  \n",
       "3   1.945910  \n",
       "4   0.000000  "
      ],
      "text/html": "<div>\n<style scoped>\n    .dataframe tbody tr th:only-of-type {\n        vertical-align: middle;\n    }\n\n    .dataframe tbody tr th {\n        vertical-align: top;\n    }\n\n    .dataframe thead th {\n        text-align: right;\n    }\n</style>\n<table border=\"1\" class=\"dataframe\">\n  <thead>\n    <tr style=\"text-align: right;\">\n      <th></th>\n      <th>id</th>\n      <th>text</th>\n      <th>doi_cites</th>\n    </tr>\n  </thead>\n  <tbody>\n    <tr>\n      <th>0</th>\n      <td>hep-ph/9902295</td>\n      <td>Heavy-Flavour Production at HERA  We review th...</td>\n      <td>0.693147</td>\n    </tr>\n    <tr>\n      <th>1</th>\n      <td>1403.7138</td>\n      <td>Spectropolarimetric Constraints on the Nature ...</td>\n      <td>2.197225</td>\n    </tr>\n    <tr>\n      <th>2</th>\n      <td>1405.5857</td>\n      <td>A joint analysis of Planck and BICEP2 B modes ...</td>\n      <td>4.812184</td>\n    </tr>\n    <tr>\n      <th>3</th>\n      <td>1807.01034</td>\n      <td>Molecular movie of ultrafast coherent rotation...</td>\n      <td>1.945910</td>\n    </tr>\n    <tr>\n      <th>4</th>\n      <td>1905.05921</td>\n      <td>A Modified Mixed Domain Method for Modeling Ac...</td>\n      <td>0.000000</td>\n    </tr>\n  </tbody>\n</table>\n</div>"
     },
     "metadata": {},
     "execution_count": 4
    }
   ],
   "source": [
    "df = df_train[['id', 'title', 'abstract', 'doi_cites']]\n",
    "df['text'] = df['title'] + df['abstract']\n",
    "df = df[['id', 'text', 'doi_cites']]\n",
    "df.head()"
   ]
  },
  {
   "cell_type": "code",
   "execution_count": 5,
   "metadata": {},
   "outputs": [
    {
     "output_type": "execute_result",
     "data": {
      "text/plain": [
       "(851524, 3)"
      ]
     },
     "metadata": {},
     "execution_count": 5
    }
   ],
   "source": [
    "df.shape"
   ]
  },
  {
   "cell_type": "code",
   "execution_count": 18,
   "metadata": {},
   "outputs": [
    {
     "output_type": "stream",
     "name": "stdout",
     "text": [
      "10000\n"
     ]
    },
    {
     "output_type": "execute_result",
     "data": {
      "text/plain": [
       "(15117, 15117)"
      ]
     },
     "metadata": {},
     "execution_count": 18
    }
   ],
   "source": [
    "from transformers import AutoTokenizer\n",
    "\n",
    "def encode_texts(texts, maxlen=312):\n",
    "    tokenizer = AutoTokenizer.from_pretrained(MOLDEL_NAME)\n",
    "    enc_di = tokenizer.batch_encode_plus(\n",
    "        list(texts), \n",
    "        truncation=True,\n",
    "        padding='longest',\n",
    "        max_length=maxlen\n",
    "    )\n",
    "    return enc_di['input_ids'], enc_di['attention_mask']\n",
    "\n",
    "\n",
    "# 一気にやるとメモリ枯渇するので分割\n",
    "num = 100000\n",
    "ids, att = encode_texts(df['text'].values[:num])\n",
    "for i in range(num, len(df), num):\n",
    "    print(i)\n",
    "    end_num = i + num\n",
    "    if num + i > len(df):\n",
    "        end_num = len(df)\n",
    "    ids_temp, att_temp = encode_texts(df['text'].values[i:end_num])\n",
    "    ids = np.vstack([ids, ids_temp])\n",
    "    att = np.vstack([att, att_temp])\n",
    "len(ids), len(att)"
   ]
  },
  {
   "cell_type": "code",
   "execution_count": 20,
   "metadata": {},
   "outputs": [
    {
     "output_type": "execute_result",
     "data": {
      "text/plain": [
       "(312, 312)"
      ]
     },
     "metadata": {},
     "execution_count": 20
    }
   ],
   "source": [
    "len(ids[0]), len(att[0])"
   ]
  },
  {
   "cell_type": "code",
   "execution_count": 21,
   "metadata": {},
   "outputs": [],
   "source": [
    "def create_model():\n",
    "    \"\"\" Creates the model. It is composed of the XLNet main block and then\n",
    "    a classification head its added\n",
    "    \"\"\"\n",
    "    ids = tf.keras.layers.Input((MAX_LEN,), dtype=tf.int32, name=\"ids\")\n",
    "    att = tf.keras.layers.Input((MAX_LEN,), dtype=tf.int32, name=\"atttention_mask\")\n",
    "\n",
    "    bert_model = TFRobertaModel.from_pretrained(MOLDEL_NAME)\n",
    "    x = bert_model(ids, attention_mask=att)[0]\n",
    "    #x = tf.keras.layers.Dropout(0.1, name=\"dropout\")(x[0]) \n",
    "    #x = tf.keras.layers.Conv1D(1,1, name=\"conv1d\")(x)\n",
    "    x = tf.squeeze(x[:, -1:, :], axis=1)\n",
    "    #x = tf.keras.layers.Flatten()(x)\n",
    "    #doc_encoding = tf.keras.layers.Dropout(.1)(doc_encoding)\n",
    "    outputs = tf.keras.layers.Dense(1, name='outputs')(x)\n",
    "\n",
    "    # Compile model\n",
    "    model = tf.keras.Model(inputs=[ids, att], outputs=[outputs])\n",
    "    model.compile(optimizer=tf.keras.optimizers.Adam(lr=2e-5), loss='mse', metrics='mse')\n",
    "\n",
    "    return model"
   ]
  },
  {
   "cell_type": "code",
   "execution_count": 22,
   "metadata": {},
   "outputs": [
    {
     "output_type": "stream",
     "name": "stderr",
     "text": [
      "Some layers from the model checkpoint at roberta-base were not used when initializing TFRobertaModel: ['lm_head']\n",
      "- This IS expected if you are initializing TFRobertaModel from the checkpoint of a model trained on another task or with another architecture (e.g. initializing a BertForSequenceClassification model from a BertForPreTraining model).\n",
      "- This IS NOT expected if you are initializing TFRobertaModel from the checkpoint of a model that you expect to be exactly identical (initializing a BertForSequenceClassification model from a BertForSequenceClassification model).\n",
      "All the layers of TFRobertaModel were initialized from the model checkpoint at roberta-base.\n",
      "If your task is similar to the task the model of the checkpoint was trained on, you can already use TFRobertaModel for predictions without further training.\n",
      "WARNING:tensorflow:The parameters `output_attentions`, `output_hidden_states` and `use_cache` cannot be updated when calling a model.They have to be set to True/False in the config object (i.e.: `config=XConfig.from_pretrained('name', output_attentions=True)`).\n",
      "WARNING:tensorflow:The parameter `return_dict` cannot be set in graph mode and will always be set to `True`.\n",
      "Model: \"functional_11\"\n",
      "__________________________________________________________________________________________________\n",
      "Layer (type)                    Output Shape         Param #     Connected to                     \n",
      "==================================================================================================\n",
      "ids (InputLayer)                [(None, 312)]        0                                            \n",
      "__________________________________________________________________________________________________\n",
      "atttention_mask (InputLayer)    [(None, 312)]        0                                            \n",
      "__________________________________________________________________________________________________\n",
      "tf_roberta_model_2 (TFRobertaMo TFBaseModelOutputWit 124645632   ids[0][0]                        \n",
      "                                                                 atttention_mask[0][0]            \n",
      "__________________________________________________________________________________________________\n",
      "tf_op_layer_strided_slice_2 (Te [(None, 1, 768)]     0           tf_roberta_model_2[0][0]         \n",
      "__________________________________________________________________________________________________\n",
      "tf_op_layer_Squeeze_2 (TensorFl [(None, 768)]        0           tf_op_layer_strided_slice_2[0][0]\n",
      "__________________________________________________________________________________________________\n",
      "outputs (Dense)                 (None, 1)            769         tf_op_layer_Squeeze_2[0][0]      \n",
      "==================================================================================================\n",
      "Total params: 124,646,401\n",
      "Trainable params: 124,646,401\n",
      "Non-trainable params: 0\n",
      "__________________________________________________________________________________________________\n"
     ]
    }
   ],
   "source": [
    "model = create_model()\n",
    "model.summary()"
   ]
  },
  {
   "cell_type": "code",
   "execution_count": 23,
   "metadata": {},
   "outputs": [
    {
     "output_type": "stream",
     "name": "stdout",
     "text": [
      "WARNING:tensorflow:The parameters `output_attentions`, `output_hidden_states` and `use_cache` cannot be updated when calling a model.They have to be set to True/False in the config object (i.e.: `config=XConfig.from_pretrained('name', output_attentions=True)`).\n",
      "WARNING:tensorflow:The parameter `return_dict` cannot be set in graph mode and will always be set to `True`.\n",
      "60/60 [==============================] - 82s 1s/step\n"
     ]
    },
    {
     "output_type": "execute_result",
     "data": {
      "text/plain": [
       "(15117, 768)"
      ]
     },
     "metadata": {},
     "execution_count": 23
    }
   ],
   "source": [
    "layer_name = 'tf_op_layer_Squeeze_2'\n",
    "hidden_layer_model = tf.keras.Model(inputs=model.input, outputs=model.get_layer(layer_name).output)\n",
    "bert_vec = hidden_layer_model.predict([ids, att], batch_size=256, verbose=1)\n",
    "bert_vec.shape"
   ]
  },
  {
   "cell_type": "code",
   "execution_count": 24,
   "metadata": {},
   "outputs": [],
   "source": [
    "np.save('bert_vec_cites_not_null.npz', bert_vec)"
   ]
  },
  {
   "cell_type": "code",
   "execution_count": 25,
   "metadata": {},
   "outputs": [
    {
     "output_type": "execute_result",
     "data": {
      "text/plain": [
       "erta_vec_586  roberta_vec_587  roberta_vec_588  roberta_vec_589  \\\n",
       "0        -0.185876         0.041590        12.282816         0.079741   \n",
       "1         0.050570         0.033566        12.149046         0.052788   \n",
       "2         0.017085        -0.036725        11.943683         0.009125   \n",
       "3        -0.167623         0.084762        11.718389        -0.038374   \n",
       "4        -0.103646         0.108661        11.651844        -0.063221   \n",
       "\n",
       "   roberta_vec_590  roberta_vec_591  roberta_vec_592  roberta_vec_593  \\\n",
       "0        -0.060993         0.063440        -0.268049        -0.094870   \n",
       "1        -0.019711         0.077738        -0.249763        -0.025224   \n",
       "2        -0.021048         0.045698        -0.227533        -0.049069   \n",
       "3        -0.011906        -0.001632        -0.224642        -0.079878   \n",
       "4        -0.013029         0.032770        -0.256653         0.004424   \n",
       "\n",
       "   roberta_vec_594  roberta_vec_595  roberta_vec_596  roberta_vec_597  \\\n",
       "0         0.024665         0.001880         0.187180         0.040667   \n",
       "1         0.030602        -0.058953         0.241092         0.107833   \n",
       "2        -0.027898         0.021803         0.141909         0.143262   \n",
       "3        -0.099328         0.124719         0.179040         0.142606   \n",
       "4        -0.158540         0.057062         0.279952         0.185350   \n",
       "\n",
       "   roberta_vec_598  roberta_vec_599  roberta_vec_600  roberta_vec_601  \\\n",
       "0         0.006068         0.023697         0.187934        -0.221596   \n",
       "1        -0.050415        -0.096370         0.116405        -0.205613   \n",
       "2         0.028343         0.013603         0.211610        -0.150498   \n",
       "3        -0.036361        -0.080203         0.120659        -0.049413   \n",
       "4        -0.026612        -0.073181         0.144206        -0.092292   \n",
       "\n",
       "   roberta_vec_602  roberta_vec_603  roberta_vec_604  roberta_vec_605  \\\n",
       "0         0.068942         0.005736         0.098046         0.084538   \n",
       "1         0.103472         0.020359         0.087780         0.165174   \n",
       "2        -0.003177         0.041957        -0.032630         0.211481   \n",
       "3         0.000616         0.114762         0.136759         0.128589   \n",
       "4         0.073268         0.087679         0.119163         0.097052   \n",
       "\n",
       "   roberta_vec_606  roberta_vec_607  roberta_vec_608  roberta_vec_609  \\\n",
       "0         0.091436        -0.074916         0.082979         0.174427   \n",
       "1         0.151956        -0.155135         0.048719         0.136277   \n",
       "2         0.146104        -0.185986         0.156548         0.081175   \n",
       "3         0.083282        -0.119280         0.175465         0.175211   \n",
       "4         0.128711        -0.163158         0.196666         0.096923   \n",
       "\n",
       "   roberta_vec_610  roberta_vec_611  roberta_vec_612  roberta_vec_613  \\\n",
       "0        -0.010615         0.956542        -0.157765         0.202592   \n",
       "1         0.014289         0.941260        -0.143702         0.072925   \n",
       "2         0.050995         0.899738        -0.161586         0.089926   \n",
       "3         0.079239         0.902776        -0.046504         0.255126   \n",
       "4         0.021693         0.768567        -0.057968         0.151456   \n",
       "\n",
       "   roberta_vec_614  roberta_vec_615  roberta_vec_616  roberta_vec_617  \\\n",
       "0        -0.065107         0.086034         0.082509         0.116933   \n",
       "1        -0.135912         0.126020         0.117271         0.201530   \n",
       "2        -0.130796        -0.123190         0.086665         0.235653   \n",
       "3        -0.002165        -0.024777         0.089408         0.198304   \n",
       "4        -0.043386        -0.004558         0.144182         0.187076   \n",
       "\n",
       "   roberta_vec_618  roberta_vec_619  roberta_vec_620  roberta_vec_621  \\\n",
       "0        -0.130661         0.056648        -0.001675        -0.010225   \n",
       "1        -0.107007         0.218389         0.065998        -0.083668   \n",
       "2        -0.042723         0.308070         0.091798        -0.021499   \n",
       "3         0.016981         0.230631         0.072909        -0.130362   \n",
       "4         0.072016         0.245870         0.112004        -0.171178   \n",
       "\n",
       "   roberta_vec_622  roberta_vec_623  roberta_vec_624  roberta_vec_625  \\\n",
       "0         0.085153        -0.174518        -0.064504         0.161261   \n",
       "1         0.053277        -0.147597         0.029762         0.036007   \n",
       "2        -0.014432        -0.194382        -0.075963        -0.058627   \n",
       "3        -0.013177        -0.092629        -0.196001         0.119407   \n",
       "4         0.033259        -0.128406        -0.077126         0.080339   \n",
       "\n",
       "   roberta_vec_626  roberta_vec_627  roberta_vec_628  roberta_vec_629  \\\n",
       "0         0.148312        -0.075701        -0.122330        -0.085408   \n",
       "1        -0.030452        -0.116128        -0.074170        -0.051684   \n",
       "2         0.029009        -0.040424        -0.000913        -0.051034   \n",
       "3         0.157684        -0.082814         0.007755        -0.103149   \n",
       "4         0.073449        -0.066963         0.034276        -0.062217   \n",
       "\n",
       "   roberta_vec_630  roberta_vec_631  roberta_vec_632  roberta_vec_633  \\\n",
       "0         0.294268        -0.416573         0.074603        -0.209788   \n",
       "1         0.312923        -0.386000         0.135494        -0.153733   \n",
       "2         0.290411        -0.335732         0.170565        -0.109928   \n",
       "3         0.284048        -0.280611         0.074010        -0.182096   \n",
       "4         0.260491        -0.303431         0.150829        -0.128606   \n",
       "\n",
       "   roberta_vec_634  roberta_vec_635  roberta_vec_636  roberta_vec_637  \\\n",
       "0         0.263318         0.310230         0.106331        -0.020113   \n",
       "1         0.340041         0.280454        -0.007710        -0.049217   \n",
       "2         0.268078         0.145914        -0.000980        -0.030464   \n",
       "3         0.179465         0.221553         0.046697        -0.015358   \n",
       "4         0.227643         0.210428         0.000352         0.009954   \n",
       "\n",
       "   roberta_vec_638  roberta_vec_639  roberta_vec_640  roberta_vec_641  \\\n",
       "0        -0.048917        -0.070626         0.096161        -0.188461   \n",
       "1        -0.141264         0.125780         0.236436        -0.288352   \n",
       "2        -0.043086         0.071312         0.179723        -0.211874   \n",
       "3         0.039650         0.081511         0.152500        -0.169331   \n",
       "4         0.003607         0.166239         0.208197        -0.103583   \n",
       "\n",
       "   roberta_vec_642  roberta_vec_643  roberta_vec_644  roberta_vec_645  \\\n",
       "0        -0.075923        -0.234436        -0.020224        -0.090146   \n",
       "1        -0.001873        -0.319654         0.173400        -0.170278   \n",
       "2        -0.034422        -0.307077         0.115623        -0.215856   \n",
       "3         0.018030        -0.237969         0.178311        -0.111561   \n",
       "4        -0.023853        -0.391357         0.242652        -0.155245   \n",
       "\n",
       "   roberta_vec_646  roberta_vec_647  roberta_vec_648  roberta_vec_649  \\\n",
       "0         0.016027        -0.018889        -0.114500        -0.154983   \n",
       "1        -0.004907        -0.229392        -0.096131        -0.110653   \n",
       "2         0.036417         0.080084        -0.064783        -0.117606   \n",
       "3         0.018086         0.100239        -0.067606        -0.186209   \n",
       "4         0.061709         0.067378        -0.110414        -0.202818   \n",
       "\n",
       "   roberta_vec_650  roberta_vec_651  roberta_vec_652  roberta_vec_653  \\\n",
       "0         0.169091         0.098314        -0.164059         0.183723   \n",
       "1         0.114807        -0.077159        -0.306470         0.196648   \n",
       "2         0.127752        -0.012882        -0.205301         0.157589   \n",
       "3         0.084413         0.027594        -0.156649         0.218658   \n",
       "4         0.078849         0.033232        -0.106000         0.203802   \n",
       "\n",
       "   roberta_vec_654  roberta_vec_655  roberta_vec_656  roberta_vec_657  \\\n",
       "0         0.187806        -0.131551        -0.050215        -0.003589   \n",
       "1         0.239305        -0.083120        -0.006266        -0.016332   \n",
       "2         0.201962        -0.038278        -0.064192        -0.049258   \n",
       "3         0.102454        -0.092495        -0.029048         0.020467   \n",
       "4         0.149935        -0.084985         0.015760        -0.048469   \n",
       "\n",
       "   roberta_vec_658  roberta_vec_659  roberta_vec_660  roberta_vec_661  \\\n",
       "0         0.114386        -0.010999        -0.022542         0.019642   \n",
       "1         0.137176        -0.049121         0.032097         0.005268   \n",
       "2         0.068961        -0.065382         0.155502        -0.050035   \n",
       "3         0.097208         0.068601         0.086373        -0.188948   \n",
       "4         0.037743         0.096856         0.143798        -0.136856   \n",
       "\n",
       "   roberta_vec_662  roberta_vec_663  roberta_vec_664  roberta_vec_665  \\\n",
       "0         0.036398        -0.196691        -0.317724        -0.190680   \n",
       "1        -0.033742        -0.187795        -0.041616        -0.180207   \n",
       "2        -0.160276        -0.177191        -0.369967        -0.243220   \n",
       "3        -0.147831        -0.122629        -0.531026        -0.195737   \n",
       "4        -0.153232        -0.142397        -0.389400        -0.224074   \n",
       "\n",
       "   roberta_vec_666  roberta_vec_667  roberta_vec_668  roberta_vec_669  \\\n",
       "0        -0.218587        -0.481349         0.132161        -0.064054   \n",
       "1        -0.083809        -0.611474         0.132549        -0.097444   \n",
       "2        -0.121856        -0.589593         0.068379        -0.086653   \n",
       "3        -0.144605        -0.535961         0.136488        -0.121504   \n",
       "4        -0.056422        -0.552498         0.065720        -0.176695   \n",
       "\n",
       "   roberta_vec_670  roberta_vec_671  roberta_vec_672  roberta_vec_673  \\\n",
       "0        -0.135440        -0.064407        -0.314367         0.120350   \n",
       "1        -0.145588        -0.041082        -0.310184         0.206319   \n",
       "2        -0.168638        -0.069073        -0.301360         0.129226   \n",
       "3        -0.160985        -0.042444        -0.374259         0.128434   \n",
       "4        -0.079383        -0.159391        -0.431184         0.239871   \n",
       "\n",
       "   roberta_vec_674  roberta_vec_675  roberta_vec_676  roberta_vec_677  \\\n",
       "0        -0.229907        -0.007436        -0.172259         0.153599   \n",
       "1        -0.203444        -0.015584        -0.259579         0.176335   \n",
       "2        -0.260017         0.015221        -0.192370         0.160849   \n",
       "3        -0.260724         0.105819        -0.173876         0.085959   \n",
       "4        -0.236745        -0.009576        -0.231364         0.272019   \n",
       "\n",
       "   roberta_vec_678  roberta_vec_679  roberta_vec_680  roberta_vec_681  \\\n",
       "0         0.202984         0.076411         0.012433        -0.207095   \n",
       "1         0.069659         0.012299         0.034244        -0.047717   \n",
       "2         0.069858         0.022968         0.029516        -0.123990   \n",
       "3        -0.007114         0.041356        -0.002045        -0.151803   \n",
       "4        -0.037922         0.021827        -0.032716        -0.068437   \n",
       "\n",
       "   roberta_vec_682  roberta_vec_683  roberta_vec_684  roberta_vec_685  \\\n",
       "0         0.033421        -0.124092         0.215223        -0.086132   \n",
       "1         0.055669         0.003719         0.157838         0.011114   \n",
       "2        -0.063065         0.016799         0.150945        -0.042326   \n",
       "3        -0.026553        -0.087048         0.191028        -0.033562   \n",
       "4        -0.025033        -0.066474         0.184263         0.019257   \n",
       "\n",
       "   roberta_vec_686  roberta_vec_687  roberta_vec_688  roberta_vec_689  \\\n",
       "0         0.223904        -0.158670        -0.441802        -0.005265   \n",
       "1         0.159168        -0.178828        -0.446934        -0.108646   \n",
       "2         0.166288        -0.224466        -0.486029        -0.094058   \n",
       "3         0.107551        -0.343149        -0.405529        -0.163232   \n",
       "4         0.092456        -0.381083        -0.404728        -0.135549   \n",
       "\n",
       "   roberta_vec_690  roberta_vec_691  roberta_vec_692  roberta_vec_693  \\\n",
       "0        -0.076523         0.007779        -0.222167         0.287094   \n",
       "1        -0.151625        -0.023107        -0.169719         0.207508   \n",
       "2        -0.081841         0.025652        -0.132757         0.218547   \n",
       "3        -0.044187         0.012854        -0.204581         0.237232   \n",
       "4        -0.092909        -0.032019        -0.154564         0.245694   \n",
       "\n",
       "   roberta_vec_694  roberta_vec_695  roberta_vec_696  roberta_vec_697  \\\n",
       "0         0.008407        -0.118400         0.111839         0.096921   \n",
       "1         0.013606        -0.166397         0.069439         0.024586   \n",
       "2         0.033704        -0.149657         0.231645        -0.030209   \n",
       "3         0.145715        -0.125335         0.063213         0.022032   \n",
       "4         0.074664        -0.105019         0.138730        -0.051127   \n",
       "\n",
       "   roberta_vec_698  roberta_vec_699  roberta_vec_700  roberta_vec_701  \\\n",
       "0        -0.109888        -0.032591        -0.262088        -0.143762   \n",
       "1         0.034726         0.034124        -0.228854        -0.116306   \n",
       "2         0.024474         0.034954        -0.164471         0.055304   \n",
       "3        -0.027339         0.020471        -0.217706        -0.001401   \n",
       "4        -0.003614        -0.033994        -0.271795        -0.037047   \n",
       "\n",
       "   roberta_vec_702  roberta_vec_703  roberta_vec_704  roberta_vec_705  \\\n",
       "0         0.001745        -0.218345         0.092003         0.029601   \n",
       "1         0.059327        -0.123236         0.111901        -0.049153   \n",
       "2         0.095869        -0.088905         0.045986         0.045848   \n",
       "3         0.026243        -0.193529         0.096699         0.059963   \n",
       "4         0.037355        -0.192260         0.073082         0.057636   \n",
       "\n",
       "   roberta_vec_706  roberta_vec_707  roberta_vec_708  roberta_vec_709  \\\n",
       "0         0.020191         0.111559         0.005574         0.073102   \n",
       "1         0.095247         0.112716        -0.023128         0.058711   \n",
       "2         0.143413         0.154731         0.029386         0.088313   \n",
       "3         0.140285         0.135448         0.055009         0.066489   \n",
       "4         0.151957         0.184729         0.029239         0.083366   \n",
       "\n",
       "   roberta_vec_710  roberta_vec_711  roberta_vec_712  roberta_vec_713  \\\n",
       "0         0.047232         0.086060        -0.080468        -0.066836   \n",
       "1         0.217587        -0.042789        -0.056089         0.032627   \n",
       "2         0.053296         0.047181        -0.065630         0.069703   \n",
       "3        -0.012882        -0.105614         0.000890         0.034355   \n",
       "4        -0.029940        -0.066711         0.070731         0.069432   \n",
       "\n",
       "   roberta_vec_714  roberta_vec_715  roberta_vec_716  roberta_vec_717  \\\n",
       "0        -0.307097        -0.099523        -0.264944        -0.165200   \n",
       "1        -0.305321         0.011219        -0.307083        -0.103627   \n",
       "2        -0.299505         0.075170        -0.240123        -0.079219   \n",
       "3        -0.243062        -0.077763        -0.166024        -0.111253   \n",
       "4        -0.227426         0.069980        -0.165079        -0.067444   \n",
       "\n",
       "   roberta_vec_718  roberta_vec_719  roberta_vec_720  roberta_vec_721  \\\n",
       "0        -0.270445         0.170967         0.298262         0.029693   \n",
       "1        -0.063050         0.115984         0.333934         0.055513   \n",
       "2        -0.327267        -0.042809         0.261281         0.048127   \n",
       "3        -0.237102        -0.003095         0.293362         0.116610   \n",
       "4        -0.143729         0.032275         0.372293         0.041818   \n",
       "\n",
       "   roberta_vec_722  roberta_vec_723  roberta_vec_724  roberta_vec_725  \\\n",
       "0         0.077656         0.060142        -0.168183         0.077958   \n",
       "1         0.008051         0.104721        -0.171578         0.106401   \n",
       "2         0.019458         0.078568        -0.075148         0.000128   \n",
       "3         0.061845        -0.008980        -0.138449         0.131612   \n",
       "4         0.032854         0.146240        -0.137018         0.190802   \n",
       "\n",
       "   roberta_vec_726  roberta_vec_727  roberta_vec_728  roberta_vec_729  \\\n",
       "0         0.168891         0.268703        -0.149408         0.017111   \n",
       "1         0.010308         0.284912        -0.166739         0.050573   \n",
       "2         0.282459         0.175455        -0.112744         0.021762   \n",
       "3         0.244518         0.182840        -0.164329         0.032314   \n",
       "4         0.108555         0.170401        -0.170474         0.065800   \n",
       "\n",
       "   roberta_vec_730  roberta_vec_731  roberta_vec_732  roberta_vec_733  \\\n",
       "0        -0.243692        -0.190973         0.018555        -0.244975   \n",
       "1        -0.231710        -0.157238        -0.059044        -0.136545   \n",
       "2        -0.165469        -0.224393         0.010819        -0.105791   \n",
       "3        -0.118185        -0.233659        -0.006937        -0.106601   \n",
       "4        -0.162053        -0.241368         0.072358        -0.170512   \n",
       "\n",
       "   roberta_vec_734  roberta_vec_735  roberta_vec_736  roberta_vec_737  \\\n",
       "0         0.347429         0.465995         0.145426         0.111209   \n",
       "1         0.288966         0.348855         0.023084         0.088987   \n",
       "2         0.194084         0.509446         0.113878         0.128766   \n",
       "3         0.157456         0.394210         0.110254         0.207392   \n",
       "4         0.181729         0.394393         0.065402         0.205735   \n",
       "\n",
       "   roberta_vec_738  roberta_vec_739  roberta_vec_740  roberta_vec_741  \\\n",
       "0        -0.079083        -0.170695        -0.197767        -0.445161   \n",
       "1        -0.136358        -0.047009        -0.123210        -0.567249   \n",
       "2        -0.175802        -0.106955        -0.074288        -0.475873   \n",
       "3        -0.067668        -0.081145        -0.097108        -0.460185   \n",
       "4        -0.103268        -0.039133        -0.052853        -0.421413   \n",
       "\n",
       "   roberta_vec_742  roberta_vec_743  roberta_vec_744  roberta_vec_745  \\\n",
       "0         0.029228         0.070849        -0.132407         0.278908   \n",
       "1        -0.003853         0.035672        -0.251738         0.176084   \n",
       "2         0.123529         0.007325        -0.199647         0.186245   \n",
       "3        -0.036846        -0.012913        -0.114179         0.144275   \n",
       "4         0.066120        -0.036619        -0.129683         0.152110   \n",
       "\n",
       "   roberta_vec_746  roberta_vec_747  roberta_vec_748  roberta_vec_749  \\\n",
       "0         0.070082        -0.276633         0.595741        -0.456886   \n",
       "1         0.085949        -0.187019         0.486607        -0.545987   \n",
       "2         0.054156        -0.242084         0.522150        -0.427954   \n",
       "3         0.079694        -0.229887         0.509667        -0.542613   \n",
       "4         0.058852        -0.200716         0.425438        -0.633506   \n",
       "\n",
       "   roberta_vec_750  roberta_vec_751  roberta_vec_752  roberta_vec_753  \\\n",
       "0        -0.110131         0.033729        -0.337985         0.117239   \n",
       "1        -0.139555        -0.130976        -0.378054         0.055729   \n",
       "2        -0.208415        -0.076315        -0.206017         0.068706   \n",
       "3        -0.205718        -0.047161        -0.217698         0.119367   \n",
       "4        -0.184883        -0.046711        -0.277424         0.150955   \n",
       "\n",
       "   roberta_vec_754  roberta_vec_755  roberta_vec_756  roberta_vec_757  \\\n",
       "0         0.234729        -0.072439         0.113650         0.048002   \n",
       "1         0.309306        -0.156030         0.109429        -0.000374   \n",
       "2         0.202041        -0.066067         0.023081         0.112127   \n",
       "3         0.281846        -0.062160         0.066264         0.083418   \n",
       "4         0.174308        -0.191348         0.121687        -0.002648   \n",
       "\n",
       "   roberta_vec_758  roberta_vec_759  roberta_vec_760  roberta_vec_761  \\\n",
       "0        -0.158772        -0.019317         0.086273         0.033125   \n",
       "1        -0.064217        -0.051321         0.107150         0.062490   \n",
       "2        -0.219112         0.008264        -0.003492         0.049195   \n",
       "3        -0.142987        -0.000292        -0.025965         0.085525   \n",
       "4        -0.149996         0.036184        -0.095719         0.059427   \n",
       "\n",
       "   roberta_vec_762  roberta_vec_763  roberta_vec_764  roberta_vec_765  \\\n",
       "0         0.099122         0.154706         0.245593         0.108821   \n",
       "1         0.142579         0.072491         0.352781         0.152339   \n",
       "2         0.105896         0.144375         0.173970         0.156530   \n",
       "3         0.040288         0.167405         0.262107         0.174512   \n",
       "4         0.130815         0.155930         0.243257         0.070662   \n",
       "\n",
       "   roberta_vec_766  roberta_vec_767  \n",
       "0        -0.001333         0.027004  \n",
       "1         0.023221        -0.117772  \n",
       "2         0.093464        -0.037191  \n",
       "3        -0.008561        -0.022450  \n",
       "4         0.079929        -0.050331  \n",
       "\n",
       "[5 rows x 769 columns]"
      ],
      "text/html": "<div>\n<style scoped>\n    .dataframe tbody tr th:only-of-type {\n        vertical-align: middle;\n    }\n\n    .dataframe tbody tr th {\n        vertical-align: top;\n    }\n\n    .dataframe thead th {\n        text-align: right;\n    }\n</style>\n<table border=\"1\" class=\"dataframe\">\n  <thead>\n    <tr style=\"text-align: right;\">\n      <th></th>\n      <th>id</th>\n      <th>roberta_vec_0</th>\n      <th>roberta_vec_1</th>\n      <th>roberta_vec_2</th>\n      <th>roberta_vec_3</th>\n      <th>roberta_vec_4</th>\n      <th>roberta_vec_5</th>\n      <th>roberta_vec_6</th>\n      <th>roberta_vec_7</th>\n      <th>roberta_vec_8</th>\n      <th>roberta_vec_9</th>\n      <th>roberta_vec_10</th>\n      <th>roberta_vec_11</th>\n      <th>roberta_vec_12</th>\n      <th>roberta_vec_13</th>\n      <th>roberta_vec_14</th>\n      <th>roberta_vec_15</th>\n      <th>roberta_vec_16</th>\n      <th>roberta_vec_17</th>\n      <th>roberta_vec_18</th>\n      <th>roberta_vec_19</th>\n      <th>roberta_vec_20</th>\n      <th>roberta_vec_21</th>\n      <th>roberta_vec_22</th>\n      <th>roberta_vec_23</th>\n      <th>roberta_vec_24</th>\n      <th>roberta_vec_25</th>\n      <th>roberta_vec_26</th>\n      <th>roberta_vec_27</th>\n      <th>roberta_vec_28</th>\n      <th>roberta_vec_29</th>\n      <th>roberta_vec_30</th>\n      <th>roberta_vec_31</th>\n      <th>roberta_vec_32</th>\n      <th>roberta_vec_33</th>\n      <th>roberta_vec_34</th>\n      <th>roberta_vec_35</th>\n      <th>roberta_vec_36</th>\n      <th>roberta_vec_37</th>\n      <th>roberta_vec_38</th>\n      <th>roberta_vec_39</th>\n      <th>roberta_vec_40</th>\n      <th>roberta_vec_41</th>\n      <th>roberta_vec_42</th>\n      <th>roberta_vec_43</th>\n      <th>roberta_vec_44</th>\n      <th>roberta_vec_45</th>\n      <th>roberta_vec_46</th>\n      <th>roberta_vec_47</th>\n      <th>roberta_vec_48</th>\n      <th>roberta_vec_49</th>\n      <th>roberta_vec_50</th>\n      <th>roberta_vec_51</th>\n      <th>roberta_vec_52</th>\n      <th>roberta_vec_53</th>\n      <th>roberta_vec_54</th>\n      <th>roberta_vec_55</th>\n      <th>roberta_vec_56</th>\n      <th>roberta_vec_57</th>\n      <th>roberta_vec_58</th>\n      <th>roberta_vec_59</th>\n      <th>roberta_vec_60</th>\n      <th>roberta_vec_61</th>\n      <th>roberta_vec_62</th>\n      <th>roberta_vec_63</th>\n      <th>roberta_vec_64</th>\n      <th>roberta_vec_65</th>\n      <th>roberta_vec_66</th>\n      <th>roberta_vec_67</th>\n      <th>roberta_vec_68</th>\n      <th>roberta_vec_69</th>\n      <th>roberta_vec_70</th>\n      <th>roberta_vec_71</th>\n      <th>roberta_vec_72</th>\n      <th>roberta_vec_73</th>\n      <th>roberta_vec_74</th>\n      <th>roberta_vec_75</th>\n      <th>roberta_vec_76</th>\n      <th>roberta_vec_77</th>\n      <th>roberta_vec_78</th>\n      <th>roberta_vec_79</th>\n      <th>roberta_vec_80</th>\n      <th>roberta_vec_81</th>\n      <th>roberta_vec_82</th>\n      <th>roberta_vec_83</th>\n      <th>roberta_vec_84</th>\n      <th>roberta_vec_85</th>\n      <th>roberta_vec_86</th>\n      <th>roberta_vec_87</th>\n      <th>roberta_vec_88</th>\n      <th>roberta_vec_89</th>\n      <th>roberta_vec_90</th>\n      <th>roberta_vec_91</th>\n      <th>roberta_vec_92</th>\n      <th>roberta_vec_93</th>\n      <th>roberta_vec_94</th>\n      <th>roberta_vec_95</th>\n      <th>roberta_vec_96</th>\n      <th>roberta_vec_97</th>\n      <th>roberta_vec_98</th>\n      <th>roberta_vec_99</th>\n      <th>roberta_vec_100</th>\n      <th>roberta_vec_101</th>\n      <th>roberta_vec_102</th>\n      <th>roberta_vec_103</th>\n      <th>roberta_vec_104</th>\n      <th>roberta_vec_105</th>\n      <th>roberta_vec_106</th>\n      <th>roberta_vec_107</th>\n      <th>roberta_vec_108</th>\n      <th>roberta_vec_109</th>\n      <th>roberta_vec_110</th>\n      <th>roberta_vec_111</th>\n      <th>roberta_vec_112</th>\n      <th>roberta_vec_113</th>\n      <th>roberta_vec_114</th>\n      <th>roberta_vec_115</th>\n      <th>roberta_vec_116</th>\n      <th>roberta_vec_117</th>\n      <th>roberta_vec_118</th>\n      <th>roberta_vec_119</th>\n      <th>roberta_vec_120</th>\n      <th>roberta_vec_121</th>\n      <th>roberta_vec_122</th>\n      <th>roberta_vec_123</th>\n      <th>roberta_vec_124</th>\n      <th>roberta_vec_125</th>\n      <th>roberta_vec_126</th>\n      <th>roberta_vec_127</th>\n      <th>roberta_vec_128</th>\n      <th>roberta_vec_129</th>\n      <th>roberta_vec_130</th>\n      <th>roberta_vec_131</th>\n      <th>roberta_vec_132</th>\n      <th>roberta_vec_133</th>\n      <th>roberta_vec_134</th>\n      <th>roberta_vec_135</th>\n      <th>roberta_vec_136</th>\n      <th>roberta_vec_137</th>\n      <th>roberta_vec_138</th>\n      <th>roberta_vec_139</th>\n      <th>roberta_vec_140</th>\n      <th>roberta_vec_141</th>\n      <th>roberta_vec_142</th>\n      <th>roberta_vec_143</th>\n      <th>roberta_vec_144</th>\n      <th>roberta_vec_145</th>\n      <th>roberta_vec_146</th>\n      <th>roberta_vec_147</th>\n      <th>roberta_vec_148</th>\n      <th>roberta_vec_149</th>\n      <th>roberta_vec_150</th>\n      <th>roberta_vec_151</th>\n      <th>roberta_vec_152</th>\n      <th>roberta_vec_153</th>\n      <th>roberta_vec_154</th>\n      <th>roberta_vec_155</th>\n      <th>roberta_vec_156</th>\n      <th>roberta_vec_157</th>\n      <th>roberta_vec_158</th>\n      <th>roberta_vec_159</th>\n      <th>roberta_vec_160</th>\n      <th>roberta_vec_161</th>\n      <th>roberta_vec_162</th>\n      <th>roberta_vec_163</th>\n      <th>roberta_vec_164</th>\n      <th>roberta_vec_165</th>\n      <th>roberta_vec_166</th>\n      <th>roberta_vec_167</th>\n      <th>roberta_vec_168</th>\n      <th>roberta_vec_169</th>\n      <th>roberta_vec_170</th>\n      <th>roberta_vec_171</th>\n      <th>roberta_vec_172</th>\n      <th>roberta_vec_173</th>\n      <th>roberta_vec_174</th>\n      <th>roberta_vec_175</th>\n      <th>roberta_vec_176</th>\n      <th>roberta_vec_177</th>\n      <th>roberta_vec_178</th>\n      <th>roberta_vec_179</th>\n      <th>roberta_vec_180</th>\n      <th>roberta_vec_181</th>\n      <th>roberta_vec_182</th>\n      <th>roberta_vec_183</th>\n      <th>roberta_vec_184</th>\n      <th>roberta_vec_185</th>\n      <th>roberta_vec_186</th>\n      <th>roberta_vec_187</th>\n      <th>roberta_vec_188</th>\n      <th>roberta_vec_189</th>\n      <th>roberta_vec_190</th>\n      <th>roberta_vec_191</th>\n      <th>roberta_vec_192</th>\n      <th>roberta_vec_193</th>\n      <th>roberta_vec_194</th>\n      <th>roberta_vec_195</th>\n      <th>roberta_vec_196</th>\n      <th>roberta_vec_197</th>\n      <th>roberta_vec_198</th>\n      <th>roberta_vec_199</th>\n      <th>roberta_vec_200</th>\n      <th>roberta_vec_201</th>\n      <th>roberta_vec_202</th>\n      <th>roberta_vec_203</th>\n      <th>roberta_vec_204</th>\n      <th>roberta_vec_205</th>\n      <th>roberta_vec_206</th>\n      <th>roberta_vec_207</th>\n      <th>roberta_vec_208</th>\n      <th>roberta_vec_209</th>\n      <th>roberta_vec_210</th>\n      <th>roberta_vec_211</th>\n      <th>roberta_vec_212</th>\n      <th>roberta_vec_213</th>\n      <th>roberta_vec_214</th>\n      <th>roberta_vec_215</th>\n      <th>roberta_vec_216</th>\n      <th>roberta_vec_217</th>\n      <th>roberta_vec_218</th>\n      <th>roberta_vec_219</th>\n      <th>roberta_vec_220</th>\n      <th>roberta_vec_221</th>\n      <th>roberta_vec_222</th>\n      <th>roberta_vec_223</th>\n      <th>roberta_vec_224</th>\n      <th>roberta_vec_225</th>\n      <th>roberta_vec_226</th>\n      <th>roberta_vec_227</th>\n      <th>roberta_vec_228</th>\n      <th>roberta_vec_229</th>\n      <th>roberta_vec_230</th>\n      <th>roberta_vec_231</th>\n      <th>roberta_vec_232</th>\n      <th>roberta_vec_233</th>\n      <th>roberta_vec_234</th>\n      <th>roberta_vec_235</th>\n      <th>roberta_vec_236</th>\n      <th>roberta_vec_237</th>\n      <th>roberta_vec_238</th>\n      <th>roberta_vec_239</th>\n      <th>roberta_vec_240</th>\n      <th>roberta_vec_241</th>\n      <th>roberta_vec_242</th>\n      <th>roberta_vec_243</th>\n      <th>roberta_vec_244</th>\n      <th>roberta_vec_245</th>\n      <th>roberta_vec_246</th>\n      <th>roberta_vec_247</th>\n      <th>roberta_vec_248</th>\n      <th>...</th>\n      <th>roberta_vec_518</th>\n      <th>roberta_vec_519</th>\n      <th>roberta_vec_520</th>\n      <th>roberta_vec_521</th>\n      <th>roberta_vec_522</th>\n      <th>roberta_vec_523</th>\n      <th>roberta_vec_524</th>\n      <th>roberta_vec_525</th>\n      <th>roberta_vec_526</th>\n      <th>roberta_vec_527</th>\n      <th>roberta_vec_528</th>\n      <th>roberta_vec_529</th>\n      <th>roberta_vec_530</th>\n      <th>roberta_vec_531</th>\n      <th>roberta_vec_532</th>\n      <th>roberta_vec_533</th>\n      <th>roberta_vec_534</th>\n      <th>roberta_vec_535</th>\n      <th>roberta_vec_536</th>\n      <th>roberta_vec_537</th>\n      <th>roberta_vec_538</th>\n      <th>roberta_vec_539</th>\n      <th>roberta_vec_540</th>\n      <th>roberta_vec_541</th>\n      <th>roberta_vec_542</th>\n      <th>roberta_vec_543</th>\n      <th>roberta_vec_544</th>\n      <th>roberta_vec_545</th>\n      <th>roberta_vec_546</th>\n      <th>roberta_vec_547</th>\n      <th>roberta_vec_548</th>\n      <th>roberta_vec_549</th>\n      <th>roberta_vec_550</th>\n      <th>roberta_vec_551</th>\n      <th>roberta_vec_552</th>\n      <th>roberta_vec_553</th>\n      <th>roberta_vec_554</th>\n      <th>roberta_vec_555</th>\n      <th>roberta_vec_556</th>\n      <th>roberta_vec_557</th>\n      <th>roberta_vec_558</th>\n      <th>roberta_vec_559</th>\n      <th>roberta_vec_560</th>\n      <th>roberta_vec_561</th>\n      <th>roberta_vec_562</th>\n      <th>roberta_vec_563</th>\n      <th>roberta_vec_564</th>\n      <th>roberta_vec_565</th>\n      <th>roberta_vec_566</th>\n      <th>roberta_vec_567</th>\n      <th>roberta_vec_568</th>\n      <th>roberta_vec_569</th>\n      <th>roberta_vec_570</th>\n      <th>roberta_vec_571</th>\n      <th>roberta_vec_572</th>\n      <th>roberta_vec_573</th>\n      <th>roberta_vec_574</th>\n      <th>roberta_vec_575</th>\n      <th>roberta_vec_576</th>\n      <th>roberta_vec_577</th>\n      <th>roberta_vec_578</th>\n      <th>roberta_vec_579</th>\n      <th>roberta_vec_580</th>\n      <th>roberta_vec_581</th>\n      <th>roberta_vec_582</th>\n      <th>roberta_vec_583</th>\n      <th>roberta_vec_584</th>\n      <th>roberta_vec_585</th>\n      <th>roberta_vec_586</th>\n      <th>roberta_vec_587</th>\n      <th>roberta_vec_588</th>\n      <th>roberta_vec_589</th>\n      <th>roberta_vec_590</th>\n      <th>roberta_vec_591</th>\n      <th>roberta_vec_592</th>\n      <th>roberta_vec_593</th>\n      <th>roberta_vec_594</th>\n      <th>roberta_vec_595</th>\n      <th>roberta_vec_596</th>\n      <th>roberta_vec_597</th>\n      <th>roberta_vec_598</th>\n      <th>roberta_vec_599</th>\n      <th>roberta_vec_600</th>\n      <th>roberta_vec_601</th>\n      <th>roberta_vec_602</th>\n      <th>roberta_vec_603</th>\n      <th>roberta_vec_604</th>\n      <th>roberta_vec_605</th>\n      <th>roberta_vec_606</th>\n      <th>roberta_vec_607</th>\n      <th>roberta_vec_608</th>\n      <th>roberta_vec_609</th>\n      <th>roberta_vec_610</th>\n      <th>roberta_vec_611</th>\n      <th>roberta_vec_612</th>\n      <th>roberta_vec_613</th>\n      <th>roberta_vec_614</th>\n      <th>roberta_vec_615</th>\n      <th>roberta_vec_616</th>\n      <th>roberta_vec_617</th>\n      <th>roberta_vec_618</th>\n      <th>roberta_vec_619</th>\n      <th>roberta_vec_620</th>\n      <th>roberta_vec_621</th>\n      <th>roberta_vec_622</th>\n      <th>roberta_vec_623</th>\n      <th>roberta_vec_624</th>\n      <th>roberta_vec_625</th>\n      <th>roberta_vec_626</th>\n      <th>roberta_vec_627</th>\n      <th>roberta_vec_628</th>\n      <th>roberta_vec_629</th>\n      <th>roberta_vec_630</th>\n      <th>roberta_vec_631</th>\n      <th>roberta_vec_632</th>\n      <th>roberta_vec_633</th>\n      <th>roberta_vec_634</th>\n      <th>roberta_vec_635</th>\n      <th>roberta_vec_636</th>\n      <th>roberta_vec_637</th>\n      <th>roberta_vec_638</th>\n      <th>roberta_vec_639</th>\n      <th>roberta_vec_640</th>\n      <th>roberta_vec_641</th>\n      <th>roberta_vec_642</th>\n      <th>roberta_vec_643</th>\n      <th>roberta_vec_644</th>\n      <th>roberta_vec_645</th>\n      <th>roberta_vec_646</th>\n      <th>roberta_vec_647</th>\n      <th>roberta_vec_648</th>\n      <th>roberta_vec_649</th>\n      <th>roberta_vec_650</th>\n      <th>roberta_vec_651</th>\n      <th>roberta_vec_652</th>\n      <th>roberta_vec_653</th>\n      <th>roberta_vec_654</th>\n      <th>roberta_vec_655</th>\n      <th>roberta_vec_656</th>\n      <th>roberta_vec_657</th>\n      <th>roberta_vec_658</th>\n      <th>roberta_vec_659</th>\n      <th>roberta_vec_660</th>\n      <th>roberta_vec_661</th>\n      <th>roberta_vec_662</th>\n      <th>roberta_vec_663</th>\n      <th>roberta_vec_664</th>\n      <th>roberta_vec_665</th>\n      <th>roberta_vec_666</th>\n      <th>roberta_vec_667</th>\n      <th>roberta_vec_668</th>\n      <th>roberta_vec_669</th>\n      <th>roberta_vec_670</th>\n      <th>roberta_vec_671</th>\n      <th>roberta_vec_672</th>\n      <th>roberta_vec_673</th>\n      <th>roberta_vec_674</th>\n      <th>roberta_vec_675</th>\n      <th>roberta_vec_676</th>\n      <th>roberta_vec_677</th>\n      <th>roberta_vec_678</th>\n      <th>roberta_vec_679</th>\n      <th>roberta_vec_680</th>\n      <th>roberta_vec_681</th>\n      <th>roberta_vec_682</th>\n      <th>roberta_vec_683</th>\n      <th>roberta_vec_684</th>\n      <th>roberta_vec_685</th>\n      <th>roberta_vec_686</th>\n      <th>roberta_vec_687</th>\n      <th>roberta_vec_688</th>\n      <th>roberta_vec_689</th>\n      <th>roberta_vec_690</th>\n      <th>roberta_vec_691</th>\n      <th>roberta_vec_692</th>\n      <th>roberta_vec_693</th>\n      <th>roberta_vec_694</th>\n      <th>roberta_vec_695</th>\n      <th>roberta_vec_696</th>\n      <th>roberta_vec_697</th>\n      <th>roberta_vec_698</th>\n      <th>roberta_vec_699</th>\n      <th>roberta_vec_700</th>\n      <th>roberta_vec_701</th>\n      <th>roberta_vec_702</th>\n      <th>roberta_vec_703</th>\n      <th>roberta_vec_704</th>\n      <th>roberta_vec_705</th>\n      <th>roberta_vec_706</th>\n      <th>roberta_vec_707</th>\n      <th>roberta_vec_708</th>\n      <th>roberta_vec_709</th>\n      <th>roberta_vec_710</th>\n      <th>roberta_vec_711</th>\n      <th>roberta_vec_712</th>\n      <th>roberta_vec_713</th>\n      <th>roberta_vec_714</th>\n      <th>roberta_vec_715</th>\n      <th>roberta_vec_716</th>\n      <th>roberta_vec_717</th>\n      <th>roberta_vec_718</th>\n      <th>roberta_vec_719</th>\n      <th>roberta_vec_720</th>\n      <th>roberta_vec_721</th>\n      <th>roberta_vec_722</th>\n      <th>roberta_vec_723</th>\n      <th>roberta_vec_724</th>\n      <th>roberta_vec_725</th>\n      <th>roberta_vec_726</th>\n      <th>roberta_vec_727</th>\n      <th>roberta_vec_728</th>\n      <th>roberta_vec_729</th>\n      <th>roberta_vec_730</th>\n      <th>roberta_vec_731</th>\n      <th>roberta_vec_732</th>\n      <th>roberta_vec_733</th>\n      <th>roberta_vec_734</th>\n      <th>roberta_vec_735</th>\n      <th>roberta_vec_736</th>\n      <th>roberta_vec_737</th>\n      <th>roberta_vec_738</th>\n      <th>roberta_vec_739</th>\n      <th>roberta_vec_740</th>\n      <th>roberta_vec_741</th>\n      <th>roberta_vec_742</th>\n      <th>roberta_vec_743</th>\n      <th>roberta_vec_744</th>\n      <th>roberta_vec_745</th>\n      <th>roberta_vec_746</th>\n      <th>roberta_vec_747</th>\n      <th>roberta_vec_748</th>\n      <th>roberta_vec_749</th>\n      <th>roberta_vec_750</th>\n      <th>roberta_vec_751</th>\n      <th>roberta_vec_752</th>\n      <th>roberta_vec_753</th>\n      <th>roberta_vec_754</th>\n      <th>roberta_vec_755</th>\n      <th>roberta_vec_756</th>\n      <th>roberta_vec_757</th>\n      <th>roberta_vec_758</th>\n      <th>roberta_vec_759</th>\n      <th>roberta_vec_760</th>\n      <th>roberta_vec_761</th>\n      <th>roberta_vec_762</th>\n      <th>roberta_vec_763</th>\n      <th>roberta_vec_764</th>\n      <th>roberta_vec_765</th>\n      <th>roberta_vec_766</th>\n      <th>roberta_vec_767</th>\n    </tr>\n  </thead>\n  <tbody>\n    <tr>\n      <th>0</th>\n      <td>hep-ph/9902295</td>\n      <td>0.029891</td>\n      <td>0.073973</td>\n      <td>-0.094534</td>\n      <td>0.126522</td>\n      <td>0.181991</td>\n      <td>0.180853</td>\n      <td>0.266522</td>\n      <td>0.097094</td>\n      <td>-0.123095</td>\n      <td>-0.095310</td>\n      <td>-0.179767</td>\n      <td>-0.457392</td>\n      <td>-0.080620</td>\n      <td>0.089512</td>\n      <td>0.082543</td>\n      <td>0.058552</td>\n      <td>0.027953</td>\n      <td>0.203759</td>\n      <td>0.072223</td>\n      <td>0.050499</td>\n      <td>-0.263804</td>\n      <td>0.327592</td>\n      <td>-0.103400</td>\n      <td>-0.121484</td>\n      <td>0.250285</td>\n      <td>0.074155</td>\n      <td>0.144880</td>\n      <td>0.259375</td>\n      <td>-0.288159</td>\n      <td>0.185025</td>\n      <td>-0.030508</td>\n      <td>0.070924</td>\n      <td>0.074667</td>\n      <td>0.036750</td>\n      <td>-0.061805</td>\n      <td>0.060579</td>\n      <td>-0.036916</td>\n      <td>0.039057</td>\n      <td>-0.296855</td>\n      <td>0.009289</td>\n      <td>-0.116685</td>\n      <td>0.715590</td>\n      <td>0.101258</td>\n      <td>-0.220261</td>\n      <td>-0.076486</td>\n      <td>-0.188758</td>\n      <td>-0.017060</td>\n      <td>0.037125</td>\n      <td>0.057709</td>\n      <td>0.166822</td>\n      <td>-0.043452</td>\n      <td>-0.019516</td>\n      <td>-0.173006</td>\n      <td>0.089757</td>\n      <td>-0.190869</td>\n      <td>0.095406</td>\n      <td>0.060052</td>\n      <td>-0.132407</td>\n      <td>0.005342</td>\n      <td>0.033320</td>\n      <td>0.024427</td>\n      <td>-0.118014</td>\n      <td>0.251357</td>\n      <td>0.040674</td>\n      <td>-0.027957</td>\n      <td>-0.026394</td>\n      <td>0.024263</td>\n      <td>0.372732</td>\n      <td>-0.025801</td>\n      <td>-0.246002</td>\n      <td>0.109832</td>\n      <td>-0.017500</td>\n      <td>-0.001231</td>\n      <td>0.143727</td>\n      <td>0.264198</td>\n      <td>0.107633</td>\n      <td>0.060340</td>\n      <td>-0.318682</td>\n      <td>0.006398</td>\n      <td>0.099760</td>\n      <td>-0.036413</td>\n      <td>0.055242</td>\n      <td>1.750735</td>\n      <td>0.118613</td>\n      <td>0.177189</td>\n      <td>-0.080642</td>\n      <td>0.044355</td>\n      <td>0.100218</td>\n      <td>-0.051002</td>\n      <td>-0.008707</td>\n      <td>-0.134474</td>\n      <td>-0.004757</td>\n      <td>-0.011541</td>\n      <td>-0.217713</td>\n      <td>-0.042322</td>\n      <td>0.052909</td>\n      <td>0.071231</td>\n      <td>-1.152318</td>\n      <td>-0.056206</td>\n      <td>-0.060179</td>\n      <td>0.189230</td>\n      <td>-0.190384</td>\n      <td>-0.025456</td>\n      <td>-0.110303</td>\n      <td>-0.197674</td>\n      <td>0.367068</td>\n      <td>0.155162</td>\n      <td>0.074811</td>\n      <td>0.099640</td>\n      <td>-0.164789</td>\n      <td>-0.005851</td>\n      <td>0.046500</td>\n      <td>-0.082355</td>\n      <td>0.045490</td>\n      <td>0.089042</td>\n      <td>-0.197250</td>\n      <td>0.304634</td>\n      <td>0.225055</td>\n      <td>-0.028008</td>\n      <td>0.400766</td>\n      <td>0.061376</td>\n      <td>0.030082</td>\n      <td>0.118571</td>\n      <td>-0.081431</td>\n      <td>0.120853</td>\n      <td>0.292195</td>\n      <td>-0.141171</td>\n      <td>0.152237</td>\n      <td>-0.059104</td>\n      <td>0.141703</td>\n      <td>0.194321</td>\n      <td>-0.700524</td>\n      <td>-0.223517</td>\n      <td>-0.198950</td>\n      <td>-0.048475</td>\n      <td>0.045590</td>\n      <td>0.032415</td>\n      <td>0.005680</td>\n      <td>-0.050341</td>\n      <td>0.018153</td>\n      <td>0.211495</td>\n      <td>0.210816</td>\n      <td>-0.227017</td>\n      <td>-0.245958</td>\n      <td>0.129851</td>\n      <td>0.194608</td>\n      <td>-0.074843</td>\n      <td>-0.347806</td>\n      <td>0.008898</td>\n      <td>0.330879</td>\n      <td>0.291852</td>\n      <td>0.063475</td>\n      <td>-0.278245</td>\n      <td>-0.312510</td>\n      <td>-0.021102</td>\n      <td>0.703451</td>\n      <td>0.140124</td>\n      <td>-0.089052</td>\n      <td>-0.132394</td>\n      <td>0.020074</td>\n      <td>-0.022465</td>\n      <td>-0.017278</td>\n      <td>0.210464</td>\n      <td>-0.011987</td>\n      <td>0.079176</td>\n      <td>0.043043</td>\n      <td>-0.103480</td>\n      <td>0.110626</td>\n      <td>-0.036202</td>\n      <td>0.118242</td>\n      <td>-0.063492</td>\n      <td>-0.068646</td>\n      <td>0.113279</td>\n      <td>0.071068</td>\n      <td>-0.098169</td>\n      <td>-0.019378</td>\n      <td>-0.040457</td>\n      <td>-0.086607</td>\n      <td>0.030731</td>\n      <td>0.072026</td>\n      <td>-0.039192</td>\n      <td>0.114556</td>\n      <td>-0.050776</td>\n      <td>-0.167901</td>\n      <td>0.117924</td>\n      <td>0.215771</td>\n      <td>-0.063886</td>\n      <td>0.233640</td>\n      <td>0.017298</td>\n      <td>-0.082844</td>\n      <td>-0.067025</td>\n      <td>-0.149464</td>\n      <td>-0.188189</td>\n      <td>-0.230590</td>\n      <td>-0.033488</td>\n      <td>-0.188438</td>\n      <td>0.027001</td>\n      <td>0.040944</td>\n      <td>0.488956</td>\n      <td>-0.082526</td>\n      <td>0.172990</td>\n      <td>-0.299410</td>\n      <td>0.126077</td>\n      <td>-0.053900</td>\n      <td>0.195646</td>\n      <td>0.008763</td>\n      <td>-0.449042</td>\n      <td>0.146812</td>\n      <td>0.036107</td>\n      <td>-0.134739</td>\n      <td>0.037157</td>\n      <td>-0.022641</td>\n      <td>-0.343432</td>\n      <td>0.162106</td>\n      <td>-0.195311</td>\n      <td>0.222396</td>\n      <td>0.097842</td>\n      <td>-0.307882</td>\n      <td>-0.325424</td>\n      <td>-0.210876</td>\n      <td>0.034118</td>\n      <td>0.114727</td>\n      <td>-0.092626</td>\n      <td>0.038293</td>\n      <td>-0.076999</td>\n      <td>0.035965</td>\n      <td>-0.001640</td>\n      <td>-0.067477</td>\n      <td>0.206820</td>\n      <td>-0.090941</td>\n      <td>0.011562</td>\n      <td>0.523355</td>\n      <td>0.205579</td>\n      <td>0.027943</td>\n      <td>0.256336</td>\n      <td>-0.408816</td>\n      <td>-0.036333</td>\n      <td>-0.039951</td>\n      <td>-0.067919</td>\n      <td>-0.153039</td>\n      <td>-0.669205</td>\n      <td>0.106416</td>\n      <td>0.140609</td>\n      <td>0.073663</td>\n      <td>-0.095072</td>\n      <td>-0.029422</td>\n      <td>-0.021315</td>\n      <td>0.024537</td>\n      <td>0.019863</td>\n      <td>...</td>\n      <td>0.030044</td>\n      <td>0.373361</td>\n      <td>0.072374</td>\n      <td>0.007171</td>\n      <td>0.050314</td>\n      <td>0.078846</td>\n      <td>-0.125926</td>\n      <td>0.117607</td>\n      <td>-0.182267</td>\n      <td>-0.018583</td>\n      <td>0.010673</td>\n      <td>-0.101328</td>\n      <td>0.451349</td>\n      <td>-0.107005</td>\n      <td>0.303963</td>\n      <td>0.109850</td>\n      <td>-0.300183</td>\n      <td>-0.026005</td>\n      <td>0.120307</td>\n      <td>-0.143743</td>\n      <td>-0.053908</td>\n      <td>0.038879</td>\n      <td>-0.207219</td>\n      <td>0.136312</td>\n      <td>0.055207</td>\n      <td>0.080172</td>\n      <td>-0.067663</td>\n      <td>-0.183928</td>\n      <td>0.204984</td>\n      <td>-0.001481</td>\n      <td>0.160431</td>\n      <td>0.064906</td>\n      <td>-0.046666</td>\n      <td>0.114594</td>\n      <td>0.185505</td>\n      <td>0.041588</td>\n      <td>-0.106086</td>\n      <td>0.324065</td>\n      <td>-0.014526</td>\n      <td>-0.138719</td>\n      <td>-0.217771</td>\n      <td>0.388382</td>\n      <td>0.036732</td>\n      <td>0.290681</td>\n      <td>-0.118576</td>\n      <td>-0.056008</td>\n      <td>0.174637</td>\n      <td>-0.108908</td>\n      <td>0.021874</td>\n      <td>0.055263</td>\n      <td>0.050176</td>\n      <td>0.018494</td>\n      <td>1.638244</td>\n      <td>0.292534</td>\n      <td>-0.157802</td>\n      <td>-0.064801</td>\n      <td>0.262028</td>\n      <td>0.053501</td>\n      <td>-0.101853</td>\n      <td>0.026971</td>\n      <td>0.278975</td>\n      <td>0.123910</td>\n      <td>0.080051</td>\n      <td>-0.116013</td>\n      <td>-0.184120</td>\n      <td>0.175828</td>\n      <td>-0.047083</td>\n      <td>-0.045451</td>\n      <td>-0.185876</td>\n      <td>0.041590</td>\n      <td>12.282816</td>\n      <td>0.079741</td>\n      <td>-0.060993</td>\n      <td>0.063440</td>\n      <td>-0.268049</td>\n      <td>-0.094870</td>\n      <td>0.024665</td>\n      <td>0.001880</td>\n      <td>0.187180</td>\n      <td>0.040667</td>\n      <td>0.006068</td>\n      <td>0.023697</td>\n      <td>0.187934</td>\n      <td>-0.221596</td>\n      <td>0.068942</td>\n      <td>0.005736</td>\n      <td>0.098046</td>\n      <td>0.084538</td>\n      <td>0.091436</td>\n      <td>-0.074916</td>\n      <td>0.082979</td>\n      <td>0.174427</td>\n      <td>-0.010615</td>\n      <td>0.956542</td>\n      <td>-0.157765</td>\n      <td>0.202592</td>\n      <td>-0.065107</td>\n      <td>0.086034</td>\n      <td>0.082509</td>\n      <td>0.116933</td>\n      <td>-0.130661</td>\n      <td>0.056648</td>\n      <td>-0.001675</td>\n      <td>-0.010225</td>\n      <td>0.085153</td>\n      <td>-0.174518</td>\n      <td>-0.064504</td>\n      <td>0.161261</td>\n      <td>0.148312</td>\n      <td>-0.075701</td>\n      <td>-0.122330</td>\n      <td>-0.085408</td>\n      <td>0.294268</td>\n      <td>-0.416573</td>\n      <td>0.074603</td>\n      <td>-0.209788</td>\n      <td>0.263318</td>\n      <td>0.310230</td>\n      <td>0.106331</td>\n      <td>-0.020113</td>\n      <td>-0.048917</td>\n      <td>-0.070626</td>\n      <td>0.096161</td>\n      <td>-0.188461</td>\n      <td>-0.075923</td>\n      <td>-0.234436</td>\n      <td>-0.020224</td>\n      <td>-0.090146</td>\n      <td>0.016027</td>\n      <td>-0.018889</td>\n      <td>-0.114500</td>\n      <td>-0.154983</td>\n      <td>0.169091</td>\n      <td>0.098314</td>\n      <td>-0.164059</td>\n      <td>0.183723</td>\n      <td>0.187806</td>\n      <td>-0.131551</td>\n      <td>-0.050215</td>\n      <td>-0.003589</td>\n      <td>0.114386</td>\n      <td>-0.010999</td>\n      <td>-0.022542</td>\n      <td>0.019642</td>\n      <td>0.036398</td>\n      <td>-0.196691</td>\n      <td>-0.317724</td>\n      <td>-0.190680</td>\n      <td>-0.218587</td>\n      <td>-0.481349</td>\n      <td>0.132161</td>\n      <td>-0.064054</td>\n      <td>-0.135440</td>\n      <td>-0.064407</td>\n      <td>-0.314367</td>\n      <td>0.120350</td>\n      <td>-0.229907</td>\n      <td>-0.007436</td>\n      <td>-0.172259</td>\n      <td>0.153599</td>\n      <td>0.202984</td>\n      <td>0.076411</td>\n      <td>0.012433</td>\n      <td>-0.207095</td>\n      <td>0.033421</td>\n      <td>-0.124092</td>\n      <td>0.215223</td>\n      <td>-0.086132</td>\n      <td>0.223904</td>\n      <td>-0.158670</td>\n      <td>-0.441802</td>\n      <td>-0.005265</td>\n      <td>-0.076523</td>\n      <td>0.007779</td>\n      <td>-0.222167</td>\n      <td>0.287094</td>\n      <td>0.008407</td>\n      <td>-0.118400</td>\n      <td>0.111839</td>\n      <td>0.096921</td>\n      <td>-0.109888</td>\n      <td>-0.032591</td>\n      <td>-0.262088</td>\n      <td>-0.143762</td>\n      <td>0.001745</td>\n      <td>-0.218345</td>\n      <td>0.092003</td>\n      <td>0.029601</td>\n      <td>0.020191</td>\n      <td>0.111559</td>\n      <td>0.005574</td>\n      <td>0.073102</td>\n      <td>0.047232</td>\n      <td>0.086060</td>\n      <td>-0.080468</td>\n      <td>-0.066836</td>\n      <td>-0.307097</td>\n      <td>-0.099523</td>\n      <td>-0.264944</td>\n      <td>-0.165200</td>\n      <td>-0.270445</td>\n      <td>0.170967</td>\n      <td>0.298262</td>\n      <td>0.029693</td>\n      <td>0.077656</td>\n      <td>0.060142</td>\n      <td>-0.168183</td>\n      <td>0.077958</td>\n      <td>0.168891</td>\n      <td>0.268703</td>\n      <td>-0.149408</td>\n      <td>0.017111</td>\n      <td>-0.243692</td>\n      <td>-0.190973</td>\n      <td>0.018555</td>\n      <td>-0.244975</td>\n      <td>0.347429</td>\n      <td>0.465995</td>\n      <td>0.145426</td>\n      <td>0.111209</td>\n      <td>-0.079083</td>\n      <td>-0.170695</td>\n      <td>-0.197767</td>\n      <td>-0.445161</td>\n      <td>0.029228</td>\n      <td>0.070849</td>\n      <td>-0.132407</td>\n      <td>0.278908</td>\n      <td>0.070082</td>\n      <td>-0.276633</td>\n      <td>0.595741</td>\n      <td>-0.456886</td>\n      <td>-0.110131</td>\n      <td>0.033729</td>\n      <td>-0.337985</td>\n      <td>0.117239</td>\n      <td>0.234729</td>\n      <td>-0.072439</td>\n      <td>0.113650</td>\n      <td>0.048002</td>\n      <td>-0.158772</td>\n      <td>-0.019317</td>\n      <td>0.086273</td>\n      <td>0.033125</td>\n      <td>0.099122</td>\n      <td>0.154706</td>\n      <td>0.245593</td>\n      <td>0.108821</td>\n      <td>-0.001333</td>\n      <td>0.027004</td>\n    </tr>\n    <tr>\n      <th>1</th>\n      <td>1403.7138</td>\n      <td>0.106689</td>\n      <td>0.096661</td>\n      <td>-0.085257</td>\n      <td>0.170849</td>\n      <td>0.228557</td>\n      <td>-0.015929</td>\n      <td>0.218602</td>\n      <td>0.115935</td>\n      <td>-0.114532</td>\n      <td>-0.041913</td>\n      <td>-0.280049</td>\n      <td>-0.316037</td>\n      <td>0.081699</td>\n      <td>0.000767</td>\n      <td>0.008402</td>\n      <td>0.159766</td>\n      <td>0.165167</td>\n      <td>0.177519</td>\n      <td>0.025201</td>\n      <td>0.106031</td>\n      <td>-0.182975</td>\n      <td>0.322555</td>\n      <td>-0.148209</td>\n      <td>-0.066234</td>\n      <td>0.360090</td>\n      <td>0.112757</td>\n      <td>0.080112</td>\n      <td>0.180167</td>\n      <td>-0.232795</td>\n      <td>0.117121</td>\n      <td>-0.000931</td>\n      <td>0.187347</td>\n      <td>0.064031</td>\n      <td>-0.040666</td>\n      <td>-0.050130</td>\n      <td>-0.061977</td>\n      <td>-0.007930</td>\n      <td>0.057334</td>\n      <td>-0.383450</td>\n      <td>0.079792</td>\n      <td>-0.039399</td>\n      <td>0.720806</td>\n      <td>-0.007725</td>\n      <td>-0.171891</td>\n      <td>-0.094048</td>\n      <td>-0.186083</td>\n      <td>0.009172</td>\n      <td>0.122302</td>\n      <td>-0.048451</td>\n      <td>0.140538</td>\n      <td>0.067924</td>\n      <td>-0.064853</td>\n      <td>-0.116790</td>\n      <td>0.019235</td>\n      <td>-0.042266</td>\n      <td>0.030180</td>\n      <td>-0.022746</td>\n      <td>0.147852</td>\n      <td>-0.005656</td>\n      <td>-0.027981</td>\n      <td>-0.025677</td>\n      <td>-0.317784</td>\n      <td>0.172559</td>\n      <td>0.265649</td>\n      <td>-0.004519</td>\n      <td>-0.007689</td>\n      <td>0.058715</td>\n      <td>0.233586</td>\n      <td>0.010346</td>\n      <td>-0.230091</td>\n      <td>-0.027315</td>\n      <td>-0.108018</td>\n      <td>0.033987</td>\n      <td>0.177319</td>\n      <td>0.159197</td>\n      <td>0.201489</td>\n      <td>0.148096</td>\n      <td>-0.681110</td>\n      <td>0.082591</td>\n      <td>0.205589</td>\n      <td>-0.072989</td>\n      <td>0.098726</td>\n      <td>1.460827</td>\n      <td>0.140312</td>\n      <td>0.129674</td>\n      <td>-0.100670</td>\n      <td>0.116050</td>\n      <td>0.083768</td>\n      <td>-0.044950</td>\n      <td>0.046189</td>\n      <td>-0.126911</td>\n      <td>-0.083236</td>\n      <td>-0.018723</td>\n      <td>-0.108265</td>\n      <td>-0.096291</td>\n      <td>-0.032141</td>\n      <td>0.030658</td>\n      <td>-1.423888</td>\n      <td>-0.018308</td>\n      <td>0.142786</td>\n      <td>0.098601</td>\n      <td>-0.203690</td>\n      <td>0.037845</td>\n      <td>-0.115890</td>\n      <td>-0.169963</td>\n      <td>0.434114</td>\n      <td>0.137431</td>\n      <td>0.093100</td>\n      <td>-0.006186</td>\n      <td>-0.111833</td>\n      <td>0.065362</td>\n      <td>0.113184</td>\n      <td>-0.104002</td>\n      <td>0.101748</td>\n      <td>0.098081</td>\n      <td>-0.103681</td>\n      <td>0.325966</td>\n      <td>0.243259</td>\n      <td>-0.155149</td>\n      <td>0.515708</td>\n      <td>0.039121</td>\n      <td>0.077220</td>\n      <td>0.087235</td>\n      <td>-0.028862</td>\n      <td>0.145868</td>\n      <td>0.163139</td>\n      <td>-0.020414</td>\n      <td>0.204764</td>\n      <td>-0.078171</td>\n      <td>0.234116</td>\n      <td>0.157518</td>\n      <td>-0.588080</td>\n      <td>-0.148251</td>\n      <td>-0.188761</td>\n      <td>-0.151361</td>\n      <td>0.079774</td>\n      <td>-0.083731</td>\n      <td>0.071460</td>\n      <td>-0.004751</td>\n      <td>0.042767</td>\n      <td>0.143576</td>\n      <td>0.157891</td>\n      <td>-0.209118</td>\n      <td>-0.197583</td>\n      <td>0.192532</td>\n      <td>0.118830</td>\n      <td>-0.032486</td>\n      <td>-0.197717</td>\n      <td>0.048301</td>\n      <td>0.166421</td>\n      <td>0.214181</td>\n      <td>0.148172</td>\n      <td>-0.289947</td>\n      <td>-0.323667</td>\n      <td>-0.150069</td>\n      <td>0.683203</td>\n      <td>0.108692</td>\n      <td>-0.145632</td>\n      <td>0.014729</td>\n      <td>-0.017408</td>\n      <td>0.033193</td>\n      <td>-0.085116</td>\n      <td>0.081296</td>\n      <td>0.014131</td>\n      <td>0.086181</td>\n      <td>-0.064274</td>\n      <td>-0.116177</td>\n      <td>0.068913</td>\n      <td>-0.100193</td>\n      <td>0.020076</td>\n      <td>-0.113650</td>\n      <td>-0.090350</td>\n      <td>0.143324</td>\n      <td>0.119548</td>\n      <td>-0.080569</td>\n      <td>0.082065</td>\n      <td>-0.137666</td>\n      <td>-0.063878</td>\n      <td>0.058815</td>\n      <td>0.093614</td>\n      <td>-0.023716</td>\n      <td>0.074879</td>\n      <td>0.098216</td>\n      <td>-0.122689</td>\n      <td>0.107038</td>\n      <td>-0.002196</td>\n      <td>-0.111367</td>\n      <td>0.323567</td>\n      <td>-0.017652</td>\n      <td>-0.080741</td>\n      <td>-0.024784</td>\n      <td>-0.084675</td>\n      <td>-0.156599</td>\n      <td>-0.215438</td>\n      <td>-0.034031</td>\n      <td>-0.152236</td>\n      <td>-0.050263</td>\n      <td>0.055357</td>\n      <td>0.250663</td>\n      <td>-0.114731</td>\n      <td>0.136917</td>\n      <td>-0.320303</td>\n      <td>0.062832</td>\n      <td>-0.018570</td>\n      <td>0.204020</td>\n      <td>0.014725</td>\n      <td>-0.373413</td>\n      <td>-0.021981</td>\n      <td>0.012825</td>\n      <td>-0.023030</td>\n      <td>0.082520</td>\n      <td>0.091580</td>\n      <td>-0.273733</td>\n      <td>0.183646</td>\n      <td>-0.168271</td>\n      <td>0.139121</td>\n      <td>0.060510</td>\n      <td>-0.232226</td>\n      <td>-0.308105</td>\n      <td>-0.158718</td>\n      <td>-0.017783</td>\n      <td>0.086882</td>\n      <td>-0.141424</td>\n      <td>-0.012542</td>\n      <td>0.042945</td>\n      <td>-0.085448</td>\n      <td>0.067201</td>\n      <td>-0.119579</td>\n      <td>0.102467</td>\n      <td>-0.116019</td>\n      <td>-0.001257</td>\n      <td>0.404416</td>\n      <td>0.313694</td>\n      <td>0.050169</td>\n      <td>0.136860</td>\n      <td>-0.399030</td>\n      <td>-0.009352</td>\n      <td>0.021727</td>\n      <td>-0.164164</td>\n      <td>-0.157287</td>\n      <td>-0.768654</td>\n      <td>-0.000166</td>\n      <td>0.200911</td>\n      <td>0.110998</td>\n      <td>-0.090584</td>\n      <td>0.149695</td>\n      <td>-0.045115</td>\n      <td>-0.195699</td>\n      <td>0.052729</td>\n      <td>...</td>\n      <td>0.081477</td>\n      <td>0.457815</td>\n      <td>0.069638</td>\n      <td>-0.022119</td>\n      <td>0.068916</td>\n      <td>-0.029299</td>\n      <td>-0.047933</td>\n      <td>0.130911</td>\n      <td>-0.107221</td>\n      <td>0.010681</td>\n      <td>0.017530</td>\n      <td>-0.012998</td>\n      <td>0.315592</td>\n      <td>-0.132335</td>\n      <td>0.325063</td>\n      <td>0.033086</td>\n      <td>-0.284308</td>\n      <td>-0.074773</td>\n      <td>0.102727</td>\n      <td>-0.216311</td>\n      <td>0.059021</td>\n      <td>0.078432</td>\n      <td>-0.181384</td>\n      <td>0.158258</td>\n      <td>0.045622</td>\n      <td>0.032226</td>\n      <td>0.096019</td>\n      <td>-0.211077</td>\n      <td>0.075733</td>\n      <td>-0.044160</td>\n      <td>0.129608</td>\n      <td>0.076760</td>\n      <td>-0.075360</td>\n      <td>0.466614</td>\n      <td>0.090322</td>\n      <td>0.150747</td>\n      <td>-0.085852</td>\n      <td>0.307366</td>\n      <td>0.205635</td>\n      <td>-0.059250</td>\n      <td>-0.317916</td>\n      <td>0.371092</td>\n      <td>0.113249</td>\n      <td>0.095618</td>\n      <td>-0.035221</td>\n      <td>-0.096874</td>\n      <td>0.058885</td>\n      <td>-0.083357</td>\n      <td>-0.082363</td>\n      <td>0.053920</td>\n      <td>0.117225</td>\n      <td>-0.099438</td>\n      <td>1.554892</td>\n      <td>0.286132</td>\n      <td>-0.303300</td>\n      <td>0.046252</td>\n      <td>0.269663</td>\n      <td>0.030778</td>\n      <td>-0.066629</td>\n      <td>0.099054</td>\n      <td>0.214823</td>\n      <td>0.186653</td>\n      <td>0.099686</td>\n      <td>-0.048642</td>\n      <td>-0.147051</td>\n      <td>0.068232</td>\n      <td>-0.058560</td>\n      <td>0.071003</td>\n      <td>0.050570</td>\n      <td>0.033566</td>\n      <td>12.149046</td>\n      <td>0.052788</td>\n      <td>-0.019711</td>\n      <td>0.077738</td>\n      <td>-0.249763</td>\n      <td>-0.025224</td>\n      <td>0.030602</td>\n      <td>-0.058953</td>\n      <td>0.241092</td>\n      <td>0.107833</td>\n      <td>-0.050415</td>\n      <td>-0.096370</td>\n      <td>0.116405</td>\n      <td>-0.205613</td>\n      <td>0.103472</td>\n      <td>0.020359</td>\n      <td>0.087780</td>\n      <td>0.165174</td>\n      <td>0.151956</td>\n      <td>-0.155135</td>\n      <td>0.048719</td>\n      <td>0.136277</td>\n      <td>0.014289</td>\n      <td>0.941260</td>\n      <td>-0.143702</td>\n      <td>0.072925</td>\n      <td>-0.135912</td>\n      <td>0.126020</td>\n      <td>0.117271</td>\n      <td>0.201530</td>\n      <td>-0.107007</td>\n      <td>0.218389</td>\n      <td>0.065998</td>\n      <td>-0.083668</td>\n      <td>0.053277</td>\n      <td>-0.147597</td>\n      <td>0.029762</td>\n      <td>0.036007</td>\n      <td>-0.030452</td>\n      <td>-0.116128</td>\n      <td>-0.074170</td>\n      <td>-0.051684</td>\n      <td>0.312923</td>\n      <td>-0.386000</td>\n      <td>0.135494</td>\n      <td>-0.153733</td>\n      <td>0.340041</td>\n      <td>0.280454</td>\n      <td>-0.007710</td>\n      <td>-0.049217</td>\n      <td>-0.141264</td>\n      <td>0.125780</td>\n      <td>0.236436</td>\n      <td>-0.288352</td>\n      <td>-0.001873</td>\n      <td>-0.319654</td>\n      <td>0.173400</td>\n      <td>-0.170278</td>\n      <td>-0.004907</td>\n      <td>-0.229392</td>\n      <td>-0.096131</td>\n      <td>-0.110653</td>\n      <td>0.114807</td>\n      <td>-0.077159</td>\n      <td>-0.306470</td>\n      <td>0.196648</td>\n      <td>0.239305</td>\n      <td>-0.083120</td>\n      <td>-0.006266</td>\n      <td>-0.016332</td>\n      <td>0.137176</td>\n      <td>-0.049121</td>\n      <td>0.032097</td>\n      <td>0.005268</td>\n      <td>-0.033742</td>\n      <td>-0.187795</td>\n      <td>-0.041616</td>\n      <td>-0.180207</td>\n      <td>-0.083809</td>\n      <td>-0.611474</td>\n      <td>0.132549</td>\n      <td>-0.097444</td>\n      <td>-0.145588</td>\n      <td>-0.041082</td>\n      <td>-0.310184</td>\n      <td>0.206319</td>\n      <td>-0.203444</td>\n      <td>-0.015584</td>\n      <td>-0.259579</td>\n      <td>0.176335</td>\n      <td>0.069659</td>\n      <td>0.012299</td>\n      <td>0.034244</td>\n      <td>-0.047717</td>\n      <td>0.055669</td>\n      <td>0.003719</td>\n      <td>0.157838</td>\n      <td>0.011114</td>\n      <td>0.159168</td>\n      <td>-0.178828</td>\n      <td>-0.446934</td>\n      <td>-0.108646</td>\n      <td>-0.151625</td>\n      <td>-0.023107</td>\n      <td>-0.169719</td>\n      <td>0.207508</td>\n      <td>0.013606</td>\n      <td>-0.166397</td>\n      <td>0.069439</td>\n      <td>0.024586</td>\n      <td>0.034726</td>\n      <td>0.034124</td>\n      <td>-0.228854</td>\n      <td>-0.116306</td>\n      <td>0.059327</td>\n      <td>-0.123236</td>\n      <td>0.111901</td>\n      <td>-0.049153</td>\n      <td>0.095247</td>\n      <td>0.112716</td>\n      <td>-0.023128</td>\n      <td>0.058711</td>\n      <td>0.217587</td>\n      <td>-0.042789</td>\n      <td>-0.056089</td>\n      <td>0.032627</td>\n      <td>-0.305321</td>\n      <td>0.011219</td>\n      <td>-0.307083</td>\n      <td>-0.103627</td>\n      <td>-0.063050</td>\n      <td>0.115984</td>\n      <td>0.333934</td>\n      <td>0.055513</td>\n      <td>0.008051</td>\n      <td>0.104721</td>\n      <td>-0.171578</td>\n      <td>0.106401</td>\n      <td>0.010308</td>\n      <td>0.284912</td>\n      <td>-0.166739</td>\n      <td>0.050573</td>\n      <td>-0.231710</td>\n      <td>-0.157238</td>\n      <td>-0.059044</td>\n      <td>-0.136545</td>\n      <td>0.288966</td>\n      <td>0.348855</td>\n      <td>0.023084</td>\n      <td>0.088987</td>\n      <td>-0.136358</td>\n      <td>-0.047009</td>\n      <td>-0.123210</td>\n      <td>-0.567249</td>\n      <td>-0.003853</td>\n      <td>0.035672</td>\n      <td>-0.251738</td>\n      <td>0.176084</td>\n      <td>0.085949</td>\n      <td>-0.187019</td>\n      <td>0.486607</td>\n      <td>-0.545987</td>\n      <td>-0.139555</td>\n      <td>-0.130976</td>\n      <td>-0.378054</td>\n      <td>0.055729</td>\n      <td>0.309306</td>\n      <td>-0.156030</td>\n      <td>0.109429</td>\n      <td>-0.000374</td>\n      <td>-0.064217</td>\n      <td>-0.051321</td>\n      <td>0.107150</td>\n      <td>0.062490</td>\n      <td>0.142579</td>\n      <td>0.072491</td>\n      <td>0.352781</td>\n      <td>0.152339</td>\n      <td>0.023221</td>\n      <td>-0.117772</td>\n    </tr>\n    <tr>\n      <th>2</th>\n      <td>1405.5857</td>\n      <td>0.058636</td>\n      <td>0.010714</td>\n      <td>-0.059075</td>\n      <td>0.174498</td>\n      <td>0.100554</td>\n      <td>-0.131889</td>\n      <td>0.225161</td>\n      <td>0.244286</td>\n      <td>0.006053</td>\n      <td>-0.035511</td>\n      <td>-0.138970</td>\n      <td>-0.300824</td>\n      <td>0.026777</td>\n      <td>-0.094231</td>\n      <td>0.070053</td>\n      <td>0.049529</td>\n      <td>0.032565</td>\n      <td>0.228549</td>\n      <td>-0.029385</td>\n      <td>0.202228</td>\n      <td>-0.196451</td>\n      <td>0.268336</td>\n      <td>-0.141619</td>\n      <td>-0.045674</td>\n      <td>0.251531</td>\n      <td>0.092396</td>\n      <td>-0.032728</td>\n      <td>0.143906</td>\n      <td>-0.253902</td>\n      <td>0.106192</td>\n      <td>0.025324</td>\n      <td>0.149742</td>\n      <td>-0.020356</td>\n      <td>-0.044923</td>\n      <td>-0.098189</td>\n      <td>-0.001313</td>\n      <td>-0.009215</td>\n      <td>0.025668</td>\n      <td>-0.242498</td>\n      <td>0.037107</td>\n      <td>-0.144369</td>\n      <td>0.629059</td>\n      <td>0.006858</td>\n      <td>-0.194995</td>\n      <td>-0.103956</td>\n      <td>-0.204220</td>\n      <td>0.076918</td>\n      <td>0.008045</td>\n      <td>-0.109790</td>\n      <td>0.213696</td>\n      <td>0.041697</td>\n      <td>0.010409</td>\n      <td>-0.092023</td>\n      <td>0.012192</td>\n      <td>0.049983</td>\n      <td>0.049678</td>\n      <td>0.025156</td>\n      <td>0.043410</td>\n      <td>0.065244</td>\n      <td>0.022134</td>\n      <td>0.073444</td>\n      <td>-0.187696</td>\n      <td>0.129353</td>\n      <td>0.149432</td>\n      <td>-0.172874</td>\n      <td>-0.044035</td>\n      <td>0.021388</td>\n      <td>0.312965</td>\n      <td>0.098221</td>\n      <td>-0.124847</td>\n      <td>0.055834</td>\n      <td>-0.125175</td>\n      <td>0.032435</td>\n      <td>0.128881</td>\n      <td>0.235134</td>\n      <td>0.140699</td>\n      <td>0.069918</td>\n      <td>-0.672858</td>\n      <td>0.009851</td>\n      <td>-0.029000</td>\n      <td>0.027043</td>\n      <td>-0.002515</td>\n      <td>1.163201</td>\n      <td>0.212105</td>\n      <td>0.192237</td>\n      <td>-0.029575</td>\n      <td>0.056986</td>\n      <td>0.041314</td>\n      <td>-0.052864</td>\n      <td>0.035421</td>\n      <td>0.022062</td>\n      <td>0.015643</td>\n      <td>-0.026877</td>\n      <td>0.081834</td>\n      <td>-0.032967</td>\n      <td>0.044244</td>\n      <td>0.107404</td>\n      <td>-0.799779</td>\n      <td>0.027633</td>\n      <td>0.050448</td>\n      <td>0.150503</td>\n      <td>-0.204648</td>\n      <td>0.100943</td>\n      <td>-0.063438</td>\n      <td>-0.115660</td>\n      <td>0.354749</td>\n      <td>0.053366</td>\n      <td>0.041253</td>\n      <td>-0.015168</td>\n      <td>-0.017427</td>\n      <td>0.013218</td>\n      <td>0.014239</td>\n      <td>-0.009076</td>\n      <td>0.149112</td>\n      <td>0.058685</td>\n      <td>-0.025347</td>\n      <td>0.161608</td>\n      <td>0.215013</td>\n      <td>-0.115882</td>\n      <td>0.378832</td>\n      <td>0.067918</td>\n      <td>0.053657</td>\n      <td>0.035087</td>\n      <td>0.019467</td>\n      <td>0.232082</td>\n      <td>0.133354</td>\n      <td>-0.099733</td>\n      <td>0.182296</td>\n      <td>-0.092707</td>\n      <td>0.146196</td>\n      <td>0.166810</td>\n      <td>-0.540334</td>\n      <td>-0.156816</td>\n      <td>-0.073869</td>\n      <td>-0.132254</td>\n      <td>0.040842</td>\n      <td>0.107210</td>\n      <td>0.153356</td>\n      <td>-0.050587</td>\n      <td>0.014879</td>\n      <td>0.059130</td>\n      <td>0.212193</td>\n      <td>-0.147306</td>\n      <td>-0.299204</td>\n      <td>0.169198</td>\n      <td>0.166360</td>\n      <td>-0.019866</td>\n      <td>-0.202794</td>\n      <td>0.077016</td>\n      <td>0.236030</td>\n      <td>0.133821</td>\n      <td>0.009633</td>\n      <td>-0.222554</td>\n      <td>-0.305388</td>\n      <td>0.086404</td>\n      <td>0.491844</td>\n      <td>0.043066</td>\n      <td>-0.104762</td>\n      <td>-0.050825</td>\n      <td>0.050087</td>\n      <td>0.077291</td>\n      <td>-0.013840</td>\n      <td>0.137109</td>\n      <td>-0.019664</td>\n      <td>0.106395</td>\n      <td>-0.061957</td>\n      <td>-0.056608</td>\n      <td>0.063086</td>\n      <td>-0.059875</td>\n      <td>0.010025</td>\n      <td>-0.054847</td>\n      <td>-0.039138</td>\n      <td>0.221609</td>\n      <td>0.029139</td>\n      <td>-0.082917</td>\n      <td>0.006236</td>\n      <td>-0.024076</td>\n      <td>-0.006428</td>\n      <td>-0.076604</td>\n      <td>0.005966</td>\n      <td>-0.058579</td>\n      <td>0.032553</td>\n      <td>-0.010159</td>\n      <td>-0.121083</td>\n      <td>0.096812</td>\n      <td>0.032963</td>\n      <td>0.008011</td>\n      <td>0.204217</td>\n      <td>-0.026281</td>\n      <td>-0.026648</td>\n      <td>-0.083031</td>\n      <td>-0.098149</td>\n      <td>-0.115228</td>\n      <td>-0.168603</td>\n      <td>0.034523</td>\n      <td>-0.229638</td>\n      <td>-0.015499</td>\n      <td>0.099428</td>\n      <td>0.316498</td>\n      <td>-0.059244</td>\n      <td>0.043453</td>\n      <td>-0.238379</td>\n      <td>-0.048957</td>\n      <td>0.029714</td>\n      <td>0.175877</td>\n      <td>-0.058545</td>\n      <td>-0.337008</td>\n      <td>0.139788</td>\n      <td>0.067161</td>\n      <td>-0.145479</td>\n      <td>0.020695</td>\n      <td>0.009076</td>\n      <td>-0.301170</td>\n      <td>0.149199</td>\n      <td>-0.067805</td>\n      <td>0.244772</td>\n      <td>0.102992</td>\n      <td>-0.486507</td>\n      <td>-0.255377</td>\n      <td>-0.370387</td>\n      <td>0.036015</td>\n      <td>0.131491</td>\n      <td>-0.050544</td>\n      <td>-0.000680</td>\n      <td>-0.045226</td>\n      <td>-0.034644</td>\n      <td>-0.040375</td>\n      <td>-0.047943</td>\n      <td>0.050667</td>\n      <td>-0.214451</td>\n      <td>0.039135</td>\n      <td>0.437912</td>\n      <td>0.147950</td>\n      <td>0.118242</td>\n      <td>0.141982</td>\n      <td>-0.171082</td>\n      <td>0.024772</td>\n      <td>-0.093310</td>\n      <td>-0.102587</td>\n      <td>-0.174004</td>\n      <td>-0.434453</td>\n      <td>-0.017174</td>\n      <td>0.117015</td>\n      <td>0.044358</td>\n      <td>-0.163389</td>\n      <td>0.056085</td>\n      <td>-0.041381</td>\n      <td>-0.064689</td>\n      <td>0.120794</td>\n      <td>...</td>\n      <td>0.161888</td>\n      <td>0.394872</td>\n      <td>-0.018865</td>\n      <td>-0.040577</td>\n      <td>0.049906</td>\n      <td>0.058182</td>\n      <td>0.003539</td>\n      <td>0.048700</td>\n      <td>-0.061696</td>\n      <td>0.023898</td>\n      <td>0.019088</td>\n      <td>0.065765</td>\n      <td>0.357156</td>\n      <td>-0.058940</td>\n      <td>0.223929</td>\n      <td>-0.029957</td>\n      <td>-0.171474</td>\n      <td>-0.064602</td>\n      <td>0.085286</td>\n      <td>-0.104078</td>\n      <td>0.013963</td>\n      <td>0.001375</td>\n      <td>-0.199610</td>\n      <td>0.120454</td>\n      <td>0.029318</td>\n      <td>-0.056383</td>\n      <td>0.008633</td>\n      <td>-0.183540</td>\n      <td>0.099670</td>\n      <td>0.110537</td>\n      <td>0.078604</td>\n      <td>0.184638</td>\n      <td>0.028015</td>\n      <td>0.213840</td>\n      <td>0.150936</td>\n      <td>0.156741</td>\n      <td>-0.150252</td>\n      <td>0.356990</td>\n      <td>0.111836</td>\n      <td>-0.013739</td>\n      <td>-0.165121</td>\n      <td>0.342721</td>\n      <td>-0.046606</td>\n      <td>0.091505</td>\n      <td>-0.017373</td>\n      <td>0.065098</td>\n      <td>0.136549</td>\n      <td>-0.198081</td>\n      <td>-0.075013</td>\n      <td>0.051467</td>\n      <td>0.043023</td>\n      <td>0.005960</td>\n      <td>1.449147</td>\n      <td>0.158738</td>\n      <td>-0.154632</td>\n      <td>-0.046137</td>\n      <td>0.202906</td>\n      <td>0.046001</td>\n      <td>0.046088</td>\n      <td>-0.092596</td>\n      <td>0.124631</td>\n      <td>0.058095</td>\n      <td>0.245624</td>\n      <td>-0.043082</td>\n      <td>-0.064476</td>\n      <td>0.022578</td>\n      <td>-0.102995</td>\n      <td>-0.200476</td>\n      <td>0.017085</td>\n      <td>-0.036725</td>\n      <td>11.943683</td>\n      <td>0.009125</td>\n      <td>-0.021048</td>\n      <td>0.045698</td>\n      <td>-0.227533</td>\n      <td>-0.049069</td>\n      <td>-0.027898</td>\n      <td>0.021803</td>\n      <td>0.141909</td>\n      <td>0.143262</td>\n      <td>0.028343</td>\n      <td>0.013603</td>\n      <td>0.211610</td>\n      <td>-0.150498</td>\n      <td>-0.003177</td>\n      <td>0.041957</td>\n      <td>-0.032630</td>\n      <td>0.211481</td>\n      <td>0.146104</td>\n      <td>-0.185986</td>\n      <td>0.156548</td>\n      <td>0.081175</td>\n      <td>0.050995</td>\n      <td>0.899738</td>\n      <td>-0.161586</td>\n      <td>0.089926</td>\n      <td>-0.130796</td>\n      <td>-0.123190</td>\n      <td>0.086665</td>\n      <td>0.235653</td>\n      <td>-0.042723</td>\n      <td>0.308070</td>\n      <td>0.091798</td>\n      <td>-0.021499</td>\n      <td>-0.014432</td>\n      <td>-0.194382</td>\n      <td>-0.075963</td>\n      <td>-0.058627</td>\n      <td>0.029009</td>\n      <td>-0.040424</td>\n      <td>-0.000913</td>\n      <td>-0.051034</td>\n      <td>0.290411</td>\n      <td>-0.335732</td>\n      <td>0.170565</td>\n      <td>-0.109928</td>\n      <td>0.268078</td>\n      <td>0.145914</td>\n      <td>-0.000980</td>\n      <td>-0.030464</td>\n      <td>-0.043086</td>\n      <td>0.071312</td>\n      <td>0.179723</td>\n      <td>-0.211874</td>\n      <td>-0.034422</td>\n      <td>-0.307077</td>\n      <td>0.115623</td>\n      <td>-0.215856</td>\n      <td>0.036417</td>\n      <td>0.080084</td>\n      <td>-0.064783</td>\n      <td>-0.117606</td>\n      <td>0.127752</td>\n      <td>-0.012882</td>\n      <td>-0.205301</td>\n      <td>0.157589</td>\n      <td>0.201962</td>\n      <td>-0.038278</td>\n      <td>-0.064192</td>\n      <td>-0.049258</td>\n      <td>0.068961</td>\n      <td>-0.065382</td>\n      <td>0.155502</td>\n      <td>-0.050035</td>\n      <td>-0.160276</td>\n      <td>-0.177191</td>\n      <td>-0.369967</td>\n      <td>-0.243220</td>\n      <td>-0.121856</td>\n      <td>-0.589593</td>\n      <td>0.068379</td>\n      <td>-0.086653</td>\n      <td>-0.168638</td>\n      <td>-0.069073</td>\n      <td>-0.301360</td>\n      <td>0.129226</td>\n      <td>-0.260017</td>\n      <td>0.015221</td>\n      <td>-0.192370</td>\n      <td>0.160849</td>\n      <td>0.069858</td>\n      <td>0.022968</td>\n      <td>0.029516</td>\n      <td>-0.123990</td>\n      <td>-0.063065</td>\n      <td>0.016799</td>\n      <td>0.150945</td>\n      <td>-0.042326</td>\n      <td>0.166288</td>\n      <td>-0.224466</td>\n      <td>-0.486029</td>\n      <td>-0.094058</td>\n      <td>-0.081841</td>\n      <td>0.025652</td>\n      <td>-0.132757</td>\n      <td>0.218547</td>\n      <td>0.033704</td>\n      <td>-0.149657</td>\n      <td>0.231645</td>\n      <td>-0.030209</td>\n      <td>0.024474</td>\n      <td>0.034954</td>\n      <td>-0.164471</td>\n      <td>0.055304</td>\n      <td>0.095869</td>\n      <td>-0.088905</td>\n      <td>0.045986</td>\n      <td>0.045848</td>\n      <td>0.143413</td>\n      <td>0.154731</td>\n      <td>0.029386</td>\n      <td>0.088313</td>\n      <td>0.053296</td>\n      <td>0.047181</td>\n      <td>-0.065630</td>\n      <td>0.069703</td>\n      <td>-0.299505</td>\n      <td>0.075170</td>\n      <td>-0.240123</td>\n      <td>-0.079219</td>\n      <td>-0.327267</td>\n      <td>-0.042809</td>\n      <td>0.261281</td>\n      <td>0.048127</td>\n      <td>0.019458</td>\n      <td>0.078568</td>\n      <td>-0.075148</td>\n      <td>0.000128</td>\n      <td>0.282459</td>\n      <td>0.175455</td>\n      <td>-0.112744</td>\n      <td>0.021762</td>\n      <td>-0.165469</td>\n      <td>-0.224393</td>\n      <td>0.010819</td>\n      <td>-0.105791</td>\n      <td>0.194084</td>\n      <td>0.509446</td>\n      <td>0.113878</td>\n      <td>0.128766</td>\n      <td>-0.175802</td>\n      <td>-0.106955</td>\n      <td>-0.074288</td>\n      <td>-0.475873</td>\n      <td>0.123529</td>\n      <td>0.007325</td>\n      <td>-0.199647</td>\n      <td>0.186245</td>\n      <td>0.054156</td>\n      <td>-0.242084</td>\n      <td>0.522150</td>\n      <td>-0.427954</td>\n      <td>-0.208415</td>\n      <td>-0.076315</td>\n      <td>-0.206017</td>\n      <td>0.068706</td>\n      <td>0.202041</td>\n      <td>-0.066067</td>\n      <td>0.023081</td>\n      <td>0.112127</td>\n      <td>-0.219112</td>\n      <td>0.008264</td>\n      <td>-0.003492</td>\n      <td>0.049195</td>\n      <td>0.105896</td>\n      <td>0.144375</td>\n      <td>0.173970</td>\n      <td>0.156530</td>\n      <td>0.093464</td>\n      <td>-0.037191</td>\n    </tr>\n    <tr>\n      <th>3</th>\n      <td>1807.01034</td>\n      <td>0.014395</td>\n      <td>0.040316</td>\n      <td>-0.006585</td>\n      <td>0.126848</td>\n      <td>0.212726</td>\n      <td>0.070803</td>\n      <td>0.241755</td>\n      <td>0.267412</td>\n      <td>-0.064004</td>\n      <td>-0.098026</td>\n      <td>-0.104129</td>\n      <td>-0.278143</td>\n      <td>-0.045478</td>\n      <td>-0.180248</td>\n      <td>0.162043</td>\n      <td>0.022745</td>\n      <td>0.039454</td>\n      <td>0.249000</td>\n      <td>0.066742</td>\n      <td>0.067162</td>\n      <td>-0.166020</td>\n      <td>0.239773</td>\n      <td>-0.052797</td>\n      <td>-0.072319</td>\n      <td>0.256792</td>\n      <td>0.137566</td>\n      <td>-0.085245</td>\n      <td>0.269796</td>\n      <td>-0.185596</td>\n      <td>0.050790</td>\n      <td>0.060654</td>\n      <td>0.019494</td>\n      <td>-0.013807</td>\n      <td>-0.025799</td>\n      <td>-0.139750</td>\n      <td>-0.012520</td>\n      <td>-0.024701</td>\n      <td>0.014373</td>\n      <td>-0.240063</td>\n      <td>0.095081</td>\n      <td>-0.253646</td>\n      <td>0.697968</td>\n      <td>0.111205</td>\n      <td>-0.203138</td>\n      <td>0.005281</td>\n      <td>-0.266690</td>\n      <td>0.091751</td>\n      <td>0.135966</td>\n      <td>-0.105726</td>\n      <td>0.140257</td>\n      <td>-0.127193</td>\n      <td>-0.068365</td>\n      <td>-0.097209</td>\n      <td>0.085209</td>\n      <td>-0.004637</td>\n      <td>0.020475</td>\n      <td>0.044677</td>\n      <td>0.073270</td>\n      <td>0.017781</td>\n      <td>0.129403</td>\n      <td>0.017203</td>\n      <td>-0.092696</td>\n      <td>0.130777</td>\n      <td>0.266385</td>\n      <td>-0.089212</td>\n      <td>-0.030700</td>\n      <td>0.016042</td>\n      <td>0.238878</td>\n      <td>-0.016649</td>\n      <td>-0.135385</td>\n      <td>0.039690</td>\n      <td>0.004393</td>\n      <td>-0.035969</td>\n      <td>0.105605</td>\n      <td>0.194074</td>\n      <td>0.008125</td>\n      <td>0.031153</td>\n      <td>-0.883288</td>\n      <td>-0.005592</td>\n      <td>0.035557</td>\n      <td>0.007486</td>\n      <td>0.086736</td>\n      <td>1.020782</td>\n      <td>0.146921</td>\n      <td>0.084700</td>\n      <td>-0.114722</td>\n      <td>0.002327</td>\n      <td>0.059267</td>\n      <td>0.023035</td>\n      <td>0.099756</td>\n      <td>-0.049315</td>\n      <td>0.000573</td>\n      <td>0.046366</td>\n      <td>-0.028310</td>\n      <td>-0.049696</td>\n      <td>0.060778</td>\n      <td>0.167912</td>\n      <td>-0.898141</td>\n      <td>-0.032359</td>\n      <td>0.047238</td>\n      <td>0.150196</td>\n      <td>-0.177945</td>\n      <td>0.095856</td>\n      <td>-0.055000</td>\n      <td>-0.187189</td>\n      <td>0.262604</td>\n      <td>0.134465</td>\n      <td>0.088091</td>\n      <td>-0.049437</td>\n      <td>-0.083170</td>\n      <td>-0.023037</td>\n      <td>-0.068187</td>\n      <td>-0.111820</td>\n      <td>0.220422</td>\n      <td>0.070814</td>\n      <td>-0.023280</td>\n      <td>0.192262</td>\n      <td>0.173185</td>\n      <td>-0.119966</td>\n      <td>0.318646</td>\n      <td>0.118725</td>\n      <td>0.066591</td>\n      <td>0.089681</td>\n      <td>-0.034637</td>\n      <td>0.179630</td>\n      <td>0.213383</td>\n      <td>-0.141436</td>\n      <td>0.154860</td>\n      <td>-0.064743</td>\n      <td>0.185055</td>\n      <td>0.077914</td>\n      <td>-0.570457</td>\n      <td>-0.169875</td>\n      <td>-0.086884</td>\n      <td>-0.011990</td>\n      <td>-0.002227</td>\n      <td>0.063539</td>\n      <td>0.116127</td>\n      <td>-0.022118</td>\n      <td>0.059615</td>\n      <td>0.151680</td>\n      <td>0.312870</td>\n      <td>-0.080331</td>\n      <td>-0.185251</td>\n      <td>0.175763</td>\n      <td>0.068033</td>\n      <td>-0.027991</td>\n      <td>-0.290627</td>\n      <td>0.001316</td>\n      <td>0.197334</td>\n      <td>0.173489</td>\n      <td>-0.009123</td>\n      <td>-0.255338</td>\n      <td>-0.276321</td>\n      <td>0.010751</td>\n      <td>0.323599</td>\n      <td>0.013591</td>\n      <td>-0.194354</td>\n      <td>-0.098156</td>\n      <td>0.085560</td>\n      <td>-0.013342</td>\n      <td>-0.056274</td>\n      <td>0.211737</td>\n      <td>-0.078829</td>\n      <td>0.143575</td>\n      <td>-0.016382</td>\n      <td>-0.113807</td>\n      <td>0.161036</td>\n      <td>-0.000522</td>\n      <td>-0.010081</td>\n      <td>-0.096027</td>\n      <td>-0.045169</td>\n      <td>0.205903</td>\n      <td>0.101635</td>\n      <td>-0.072784</td>\n      <td>-0.035826</td>\n      <td>-0.054418</td>\n      <td>-0.015063</td>\n      <td>-0.017550</td>\n      <td>0.041290</td>\n      <td>-0.098889</td>\n      <td>0.006737</td>\n      <td>-0.031829</td>\n      <td>-0.178458</td>\n      <td>0.072357</td>\n      <td>-0.011122</td>\n      <td>-0.114164</td>\n      <td>0.076534</td>\n      <td>-0.012500</td>\n      <td>-0.056580</td>\n      <td>0.054856</td>\n      <td>-0.035538</td>\n      <td>-0.118811</td>\n      <td>-0.221217</td>\n      <td>0.070619</td>\n      <td>-0.299445</td>\n      <td>0.028102</td>\n      <td>0.048711</td>\n      <td>0.318984</td>\n      <td>-0.028681</td>\n      <td>0.082179</td>\n      <td>-0.241116</td>\n      <td>0.132850</td>\n      <td>0.053384</td>\n      <td>0.305334</td>\n      <td>-0.076399</td>\n      <td>-0.382406</td>\n      <td>0.124662</td>\n      <td>-0.000141</td>\n      <td>-0.153085</td>\n      <td>0.013562</td>\n      <td>0.131116</td>\n      <td>-0.305380</td>\n      <td>0.137779</td>\n      <td>-0.123351</td>\n      <td>0.113804</td>\n      <td>0.023366</td>\n      <td>-0.691986</td>\n      <td>-0.226234</td>\n      <td>-0.439358</td>\n      <td>0.156078</td>\n      <td>0.122454</td>\n      <td>-0.069900</td>\n      <td>0.014667</td>\n      <td>-0.093751</td>\n      <td>0.159044</td>\n      <td>-0.017086</td>\n      <td>-0.039828</td>\n      <td>0.137597</td>\n      <td>-0.134000</td>\n      <td>0.075241</td>\n      <td>0.460601</td>\n      <td>0.194682</td>\n      <td>0.106394</td>\n      <td>0.162251</td>\n      <td>-0.102255</td>\n      <td>0.033476</td>\n      <td>-0.023335</td>\n      <td>-0.084755</td>\n      <td>-0.162164</td>\n      <td>-0.383545</td>\n      <td>0.146981</td>\n      <td>0.046603</td>\n      <td>0.103725</td>\n      <td>-0.108111</td>\n      <td>0.102718</td>\n      <td>-0.021282</td>\n      <td>-0.076587</td>\n      <td>0.044816</td>\n      <td>...</td>\n      <td>0.157126</td>\n      <td>0.309610</td>\n      <td>-0.003232</td>\n      <td>0.046127</td>\n      <td>0.078381</td>\n      <td>0.061917</td>\n      <td>0.015205</td>\n      <td>0.121157</td>\n      <td>-0.103559</td>\n      <td>-0.020847</td>\n      <td>-0.047766</td>\n      <td>-0.020523</td>\n      <td>0.301164</td>\n      <td>-0.085818</td>\n      <td>0.247234</td>\n      <td>-0.023593</td>\n      <td>-0.147539</td>\n      <td>-0.038534</td>\n      <td>0.039494</td>\n      <td>-0.194933</td>\n      <td>0.007838</td>\n      <td>-0.099993</td>\n      <td>-0.166663</td>\n      <td>0.063348</td>\n      <td>-0.041038</td>\n      <td>0.000037</td>\n      <td>-0.008255</td>\n      <td>-0.187349</td>\n      <td>0.238425</td>\n      <td>0.068897</td>\n      <td>0.083307</td>\n      <td>0.144361</td>\n      <td>-0.050611</td>\n      <td>0.421962</td>\n      <td>0.117088</td>\n      <td>0.146283</td>\n      <td>-0.136847</td>\n      <td>0.257327</td>\n      <td>0.109962</td>\n      <td>-0.036141</td>\n      <td>-0.100092</td>\n      <td>0.454077</td>\n      <td>-0.019662</td>\n      <td>0.073650</td>\n      <td>-0.050929</td>\n      <td>0.004876</td>\n      <td>0.077912</td>\n      <td>-0.092465</td>\n      <td>0.008673</td>\n      <td>0.043924</td>\n      <td>-0.102756</td>\n      <td>-0.011966</td>\n      <td>1.478923</td>\n      <td>0.141116</td>\n      <td>-0.104184</td>\n      <td>-0.212622</td>\n      <td>0.308052</td>\n      <td>0.027975</td>\n      <td>-0.096544</td>\n      <td>-0.030955</td>\n      <td>0.156021</td>\n      <td>0.030313</td>\n      <td>0.225954</td>\n      <td>-0.095054</td>\n      <td>-0.028980</td>\n      <td>0.018185</td>\n      <td>0.025814</td>\n      <td>-0.195067</td>\n      <td>-0.167623</td>\n      <td>0.084762</td>\n      <td>11.718389</td>\n      <td>-0.038374</td>\n      <td>-0.011906</td>\n      <td>-0.001632</td>\n      <td>-0.224642</td>\n      <td>-0.079878</td>\n      <td>-0.099328</td>\n      <td>0.124719</td>\n      <td>0.179040</td>\n      <td>0.142606</td>\n      <td>-0.036361</td>\n      <td>-0.080203</td>\n      <td>0.120659</td>\n      <td>-0.049413</td>\n      <td>0.000616</td>\n      <td>0.114762</td>\n      <td>0.136759</td>\n      <td>0.128589</td>\n      <td>0.083282</td>\n      <td>-0.119280</td>\n      <td>0.175465</td>\n      <td>0.175211</td>\n      <td>0.079239</td>\n      <td>0.902776</td>\n      <td>-0.046504</td>\n      <td>0.255126</td>\n      <td>-0.002165</td>\n      <td>-0.024777</td>\n      <td>0.089408</td>\n      <td>0.198304</td>\n      <td>0.016981</td>\n      <td>0.230631</td>\n      <td>0.072909</td>\n      <td>-0.130362</td>\n      <td>-0.013177</td>\n      <td>-0.092629</td>\n      <td>-0.196001</td>\n      <td>0.119407</td>\n      <td>0.157684</td>\n      <td>-0.082814</td>\n      <td>0.007755</td>\n      <td>-0.103149</td>\n      <td>0.284048</td>\n      <td>-0.280611</td>\n      <td>0.074010</td>\n      <td>-0.182096</td>\n      <td>0.179465</td>\n      <td>0.221553</td>\n      <td>0.046697</td>\n      <td>-0.015358</td>\n      <td>0.039650</td>\n      <td>0.081511</td>\n      <td>0.152500</td>\n      <td>-0.169331</td>\n      <td>0.018030</td>\n      <td>-0.237969</td>\n      <td>0.178311</td>\n      <td>-0.111561</td>\n      <td>0.018086</td>\n      <td>0.100239</td>\n      <td>-0.067606</td>\n      <td>-0.186209</td>\n      <td>0.084413</td>\n      <td>0.027594</td>\n      <td>-0.156649</td>\n      <td>0.218658</td>\n      <td>0.102454</td>\n      <td>-0.092495</td>\n      <td>-0.029048</td>\n      <td>0.020467</td>\n      <td>0.097208</td>\n      <td>0.068601</td>\n      <td>0.086373</td>\n      <td>-0.188948</td>\n      <td>-0.147831</td>\n      <td>-0.122629</td>\n      <td>-0.531026</td>\n      <td>-0.195737</td>\n      <td>-0.144605</td>\n      <td>-0.535961</td>\n      <td>0.136488</td>\n      <td>-0.121504</td>\n      <td>-0.160985</td>\n      <td>-0.042444</td>\n      <td>-0.374259</td>\n      <td>0.128434</td>\n      <td>-0.260724</td>\n      <td>0.105819</td>\n      <td>-0.173876</td>\n      <td>0.085959</td>\n      <td>-0.007114</td>\n      <td>0.041356</td>\n      <td>-0.002045</td>\n      <td>-0.151803</td>\n      <td>-0.026553</td>\n      <td>-0.087048</td>\n      <td>0.191028</td>\n      <td>-0.033562</td>\n      <td>0.107551</td>\n      <td>-0.343149</td>\n      <td>-0.405529</td>\n      <td>-0.163232</td>\n      <td>-0.044187</td>\n      <td>0.012854</td>\n      <td>-0.204581</td>\n      <td>0.237232</td>\n      <td>0.145715</td>\n      <td>-0.125335</td>\n      <td>0.063213</td>\n      <td>0.022032</td>\n      <td>-0.027339</td>\n      <td>0.020471</td>\n      <td>-0.217706</td>\n      <td>-0.001401</td>\n      <td>0.026243</td>\n      <td>-0.193529</td>\n      <td>0.096699</td>\n      <td>0.059963</td>\n      <td>0.140285</td>\n      <td>0.135448</td>\n      <td>0.055009</td>\n      <td>0.066489</td>\n      <td>-0.012882</td>\n      <td>-0.105614</td>\n      <td>0.000890</td>\n      <td>0.034355</td>\n      <td>-0.243062</td>\n      <td>-0.077763</td>\n      <td>-0.166024</td>\n      <td>-0.111253</td>\n      <td>-0.237102</td>\n      <td>-0.003095</td>\n      <td>0.293362</td>\n      <td>0.116610</td>\n      <td>0.061845</td>\n      <td>-0.008980</td>\n      <td>-0.138449</td>\n      <td>0.131612</td>\n      <td>0.244518</td>\n      <td>0.182840</td>\n      <td>-0.164329</td>\n      <td>0.032314</td>\n      <td>-0.118185</td>\n      <td>-0.233659</td>\n      <td>-0.006937</td>\n      <td>-0.106601</td>\n      <td>0.157456</td>\n      <td>0.394210</td>\n      <td>0.110254</td>\n      <td>0.207392</td>\n      <td>-0.067668</td>\n      <td>-0.081145</td>\n      <td>-0.097108</td>\n      <td>-0.460185</td>\n      <td>-0.036846</td>\n      <td>-0.012913</td>\n      <td>-0.114179</td>\n      <td>0.144275</td>\n      <td>0.079694</td>\n      <td>-0.229887</td>\n      <td>0.509667</td>\n      <td>-0.542613</td>\n      <td>-0.205718</td>\n      <td>-0.047161</td>\n      <td>-0.217698</td>\n      <td>0.119367</td>\n      <td>0.281846</td>\n      <td>-0.062160</td>\n      <td>0.066264</td>\n      <td>0.083418</td>\n      <td>-0.142987</td>\n      <td>-0.000292</td>\n      <td>-0.025965</td>\n      <td>0.085525</td>\n      <td>0.040288</td>\n      <td>0.167405</td>\n      <td>0.262107</td>\n      <td>0.174512</td>\n      <td>-0.008561</td>\n      <td>-0.022450</td>\n    </tr>\n    <tr>\n      <th>4</th>\n      <td>1905.05921</td>\n      <td>0.045024</td>\n      <td>0.061441</td>\n      <td>0.026114</td>\n      <td>0.186450</td>\n      <td>0.307958</td>\n      <td>0.072466</td>\n      <td>0.257011</td>\n      <td>0.268695</td>\n      <td>-0.061639</td>\n      <td>-0.094779</td>\n      <td>-0.121741</td>\n      <td>-0.250290</td>\n      <td>0.009397</td>\n      <td>-0.171356</td>\n      <td>0.094235</td>\n      <td>0.088163</td>\n      <td>0.067743</td>\n      <td>0.185107</td>\n      <td>-0.061381</td>\n      <td>0.002100</td>\n      <td>-0.185709</td>\n      <td>0.153642</td>\n      <td>-0.202368</td>\n      <td>-0.085331</td>\n      <td>0.208823</td>\n      <td>0.157383</td>\n      <td>0.015314</td>\n      <td>0.177820</td>\n      <td>-0.241283</td>\n      <td>0.041038</td>\n      <td>0.094112</td>\n      <td>0.104222</td>\n      <td>0.013423</td>\n      <td>-0.014741</td>\n      <td>-0.061360</td>\n      <td>-0.059740</td>\n      <td>-0.093536</td>\n      <td>0.040848</td>\n      <td>-0.202473</td>\n      <td>0.025084</td>\n      <td>-0.203459</td>\n      <td>0.682886</td>\n      <td>0.079395</td>\n      <td>-0.135364</td>\n      <td>0.007933</td>\n      <td>-0.294504</td>\n      <td>0.030884</td>\n      <td>0.089232</td>\n      <td>-0.133020</td>\n      <td>0.212464</td>\n      <td>-0.078407</td>\n      <td>-0.028086</td>\n      <td>-0.133585</td>\n      <td>0.022868</td>\n      <td>0.065664</td>\n      <td>-0.041062</td>\n      <td>0.066463</td>\n      <td>0.231022</td>\n      <td>0.091057</td>\n      <td>0.108240</td>\n      <td>-0.002117</td>\n      <td>-0.076744</td>\n      <td>0.075257</td>\n      <td>0.284456</td>\n      <td>-0.055942</td>\n      <td>-0.030060</td>\n      <td>0.067542</td>\n      <td>0.255630</td>\n      <td>-0.089150</td>\n      <td>-0.129420</td>\n      <td>0.024403</td>\n      <td>-0.132183</td>\n      <td>0.009920</td>\n      <td>0.183269</td>\n      <td>0.181521</td>\n      <td>0.086513</td>\n      <td>0.028355</td>\n      <td>-1.615930</td>\n      <td>0.053578</td>\n      <td>0.018184</td>\n      <td>-0.019003</td>\n      <td>0.063449</td>\n      <td>0.743330</td>\n      <td>0.188787</td>\n      <td>0.200535</td>\n      <td>0.015952</td>\n      <td>0.006422</td>\n      <td>0.062562</td>\n      <td>0.046106</td>\n      <td>0.124889</td>\n      <td>-0.079480</td>\n      <td>0.002685</td>\n      <td>0.075083</td>\n      <td>0.010744</td>\n      <td>0.105034</td>\n      <td>0.040061</td>\n      <td>0.111879</td>\n      <td>-0.977696</td>\n      <td>-0.022940</td>\n      <td>0.056089</td>\n      <td>0.138631</td>\n      <td>-0.157961</td>\n      <td>0.105337</td>\n      <td>-0.055579</td>\n      <td>-0.115602</td>\n      <td>0.285886</td>\n      <td>0.045770</td>\n      <td>0.106218</td>\n      <td>-0.065913</td>\n      <td>-0.167793</td>\n      <td>0.023226</td>\n      <td>0.022350</td>\n      <td>-0.047034</td>\n      <td>0.229539</td>\n      <td>0.035684</td>\n      <td>-0.092818</td>\n      <td>0.221824</td>\n      <td>0.156967</td>\n      <td>-0.169832</td>\n      <td>0.327100</td>\n      <td>0.018974</td>\n      <td>0.088442</td>\n      <td>-0.020907</td>\n      <td>0.093161</td>\n      <td>0.274468</td>\n      <td>0.168415</td>\n      <td>-0.037457</td>\n      <td>0.175039</td>\n      <td>-0.142163</td>\n      <td>0.243652</td>\n      <td>0.014862</td>\n      <td>-0.555045</td>\n      <td>-0.209317</td>\n      <td>-0.178369</td>\n      <td>-0.164118</td>\n      <td>0.051424</td>\n      <td>-0.082794</td>\n      <td>0.191170</td>\n      <td>-0.029072</td>\n      <td>-0.070847</td>\n      <td>0.096028</td>\n      <td>0.228004</td>\n      <td>-0.033884</td>\n      <td>-0.169825</td>\n      <td>0.137567</td>\n      <td>0.060474</td>\n      <td>-0.040224</td>\n      <td>-0.217791</td>\n      <td>0.022308</td>\n      <td>0.112378</td>\n      <td>0.103478</td>\n      <td>0.103084</td>\n      <td>-0.190879</td>\n      <td>-0.231992</td>\n      <td>0.096861</td>\n      <td>0.480173</td>\n      <td>-0.007636</td>\n      <td>-0.238974</td>\n      <td>-0.039465</td>\n      <td>0.191938</td>\n      <td>-0.051125</td>\n      <td>-0.074155</td>\n      <td>0.140969</td>\n      <td>-0.006411</td>\n      <td>0.176998</td>\n      <td>-0.057825</td>\n      <td>-0.125296</td>\n      <td>0.150800</td>\n      <td>0.127588</td>\n      <td>0.067897</td>\n      <td>-0.174030</td>\n      <td>0.017394</td>\n      <td>0.159570</td>\n      <td>0.147627</td>\n      <td>-0.074560</td>\n      <td>-0.031528</td>\n      <td>-0.117566</td>\n      <td>-0.025238</td>\n      <td>-0.107860</td>\n      <td>-0.012475</td>\n      <td>-0.104021</td>\n      <td>-0.033846</td>\n      <td>0.017542</td>\n      <td>-0.159165</td>\n      <td>0.066054</td>\n      <td>0.018775</td>\n      <td>-0.129476</td>\n      <td>0.088261</td>\n      <td>-0.091472</td>\n      <td>-0.106108</td>\n      <td>0.033383</td>\n      <td>-0.059297</td>\n      <td>-0.149944</td>\n      <td>-0.225755</td>\n      <td>-0.040606</td>\n      <td>-0.255070</td>\n      <td>0.002444</td>\n      <td>0.015893</td>\n      <td>0.263539</td>\n      <td>-0.037503</td>\n      <td>0.085573</td>\n      <td>-0.341842</td>\n      <td>0.117793</td>\n      <td>0.108258</td>\n      <td>0.339525</td>\n      <td>-0.068815</td>\n      <td>-0.333756</td>\n      <td>0.159553</td>\n      <td>0.021009</td>\n      <td>-0.091770</td>\n      <td>0.019718</td>\n      <td>0.084636</td>\n      <td>-0.292808</td>\n      <td>0.024914</td>\n      <td>-0.091420</td>\n      <td>0.053642</td>\n      <td>0.082632</td>\n      <td>-0.439348</td>\n      <td>-0.191939</td>\n      <td>-0.403662</td>\n      <td>0.101641</td>\n      <td>0.094936</td>\n      <td>-0.089206</td>\n      <td>-0.114034</td>\n      <td>-0.169870</td>\n      <td>0.130361</td>\n      <td>0.037054</td>\n      <td>-0.010573</td>\n      <td>0.186188</td>\n      <td>-0.106118</td>\n      <td>0.006441</td>\n      <td>0.393563</td>\n      <td>0.241401</td>\n      <td>0.142665</td>\n      <td>0.118523</td>\n      <td>-0.175827</td>\n      <td>0.054609</td>\n      <td>0.018519</td>\n      <td>-0.108494</td>\n      <td>-0.214344</td>\n      <td>-0.456074</td>\n      <td>0.061460</td>\n      <td>0.057831</td>\n      <td>0.066821</td>\n      <td>-0.116205</td>\n      <td>0.153234</td>\n      <td>-0.086866</td>\n      <td>-0.012465</td>\n      <td>0.003945</td>\n      <td>...</td>\n      <td>0.155976</td>\n      <td>0.334598</td>\n      <td>0.052263</td>\n      <td>0.014203</td>\n      <td>0.065645</td>\n      <td>0.021419</td>\n      <td>0.070152</td>\n      <td>0.060167</td>\n      <td>-0.075937</td>\n      <td>0.015064</td>\n      <td>0.033468</td>\n      <td>-0.011410</td>\n      <td>0.168035</td>\n      <td>-0.125233</td>\n      <td>0.246304</td>\n      <td>-0.048883</td>\n      <td>-0.210810</td>\n      <td>-0.090323</td>\n      <td>0.038766</td>\n      <td>-0.120851</td>\n      <td>0.086392</td>\n      <td>-0.097071</td>\n      <td>0.058819</td>\n      <td>0.102806</td>\n      <td>0.069638</td>\n      <td>0.018521</td>\n      <td>0.013644</td>\n      <td>-0.117160</td>\n      <td>0.269430</td>\n      <td>0.057706</td>\n      <td>0.085797</td>\n      <td>0.251591</td>\n      <td>-0.049474</td>\n      <td>0.498698</td>\n      <td>0.142232</td>\n      <td>0.112757</td>\n      <td>-0.088355</td>\n      <td>0.217441</td>\n      <td>0.224559</td>\n      <td>0.044062</td>\n      <td>-0.157754</td>\n      <td>0.462205</td>\n      <td>0.071578</td>\n      <td>0.045937</td>\n      <td>-0.017116</td>\n      <td>0.034172</td>\n      <td>0.005457</td>\n      <td>-0.087265</td>\n      <td>-0.045315</td>\n      <td>0.067920</td>\n      <td>-0.030377</td>\n      <td>-0.006359</td>\n      <td>1.455204</td>\n      <td>0.188507</td>\n      <td>-0.205016</td>\n      <td>-0.068080</td>\n      <td>0.292195</td>\n      <td>0.041927</td>\n      <td>-0.174890</td>\n      <td>-0.046047</td>\n      <td>0.206588</td>\n      <td>0.064226</td>\n      <td>0.367615</td>\n      <td>-0.070862</td>\n      <td>0.009342</td>\n      <td>0.090434</td>\n      <td>0.001255</td>\n      <td>-0.047360</td>\n      <td>-0.103646</td>\n      <td>0.108661</td>\n      <td>11.651844</td>\n      <td>-0.063221</td>\n      <td>-0.013029</td>\n      <td>0.032770</td>\n      <td>-0.256653</td>\n      <td>0.004424</td>\n      <td>-0.158540</td>\n      <td>0.057062</td>\n      <td>0.279952</td>\n      <td>0.185350</td>\n      <td>-0.026612</td>\n      <td>-0.073181</td>\n      <td>0.144206</td>\n      <td>-0.092292</td>\n      <td>0.073268</td>\n      <td>0.087679</td>\n      <td>0.119163</td>\n      <td>0.097052</td>\n      <td>0.128711</td>\n      <td>-0.163158</td>\n      <td>0.196666</td>\n      <td>0.096923</td>\n      <td>0.021693</td>\n      <td>0.768567</td>\n      <td>-0.057968</td>\n      <td>0.151456</td>\n      <td>-0.043386</td>\n      <td>-0.004558</td>\n      <td>0.144182</td>\n      <td>0.187076</td>\n      <td>0.072016</td>\n      <td>0.245870</td>\n      <td>0.112004</td>\n      <td>-0.171178</td>\n      <td>0.033259</td>\n      <td>-0.128406</td>\n      <td>-0.077126</td>\n      <td>0.080339</td>\n      <td>0.073449</td>\n      <td>-0.066963</td>\n      <td>0.034276</td>\n      <td>-0.062217</td>\n      <td>0.260491</td>\n      <td>-0.303431</td>\n      <td>0.150829</td>\n      <td>-0.128606</td>\n      <td>0.227643</td>\n      <td>0.210428</td>\n      <td>0.000352</td>\n      <td>0.009954</td>\n      <td>0.003607</td>\n      <td>0.166239</td>\n      <td>0.208197</td>\n      <td>-0.103583</td>\n      <td>-0.023853</td>\n      <td>-0.391357</td>\n      <td>0.242652</td>\n      <td>-0.155245</td>\n      <td>0.061709</td>\n      <td>0.067378</td>\n      <td>-0.110414</td>\n      <td>-0.202818</td>\n      <td>0.078849</td>\n      <td>0.033232</td>\n      <td>-0.106000</td>\n      <td>0.203802</td>\n      <td>0.149935</td>\n      <td>-0.084985</td>\n      <td>0.015760</td>\n      <td>-0.048469</td>\n      <td>0.037743</td>\n      <td>0.096856</td>\n      <td>0.143798</td>\n      <td>-0.136856</td>\n      <td>-0.153232</td>\n      <td>-0.142397</td>\n      <td>-0.389400</td>\n      <td>-0.224074</td>\n      <td>-0.056422</td>\n      <td>-0.552498</td>\n      <td>0.065720</td>\n      <td>-0.176695</td>\n      <td>-0.079383</td>\n      <td>-0.159391</td>\n      <td>-0.431184</td>\n      <td>0.239871</td>\n      <td>-0.236745</td>\n      <td>-0.009576</td>\n      <td>-0.231364</td>\n      <td>0.272019</td>\n      <td>-0.037922</td>\n      <td>0.021827</td>\n      <td>-0.032716</td>\n      <td>-0.068437</td>\n      <td>-0.025033</td>\n      <td>-0.066474</td>\n      <td>0.184263</td>\n      <td>0.019257</td>\n      <td>0.092456</td>\n      <td>-0.381083</td>\n      <td>-0.404728</td>\n      <td>-0.135549</td>\n      <td>-0.092909</td>\n      <td>-0.032019</td>\n      <td>-0.154564</td>\n      <td>0.245694</td>\n      <td>0.074664</td>\n      <td>-0.105019</td>\n      <td>0.138730</td>\n      <td>-0.051127</td>\n      <td>-0.003614</td>\n      <td>-0.033994</td>\n      <td>-0.271795</td>\n      <td>-0.037047</td>\n      <td>0.037355</td>\n      <td>-0.192260</td>\n      <td>0.073082</td>\n      <td>0.057636</td>\n      <td>0.151957</td>\n      <td>0.184729</td>\n      <td>0.029239</td>\n      <td>0.083366</td>\n      <td>-0.029940</td>\n      <td>-0.066711</td>\n      <td>0.070731</td>\n      <td>0.069432</td>\n      <td>-0.227426</td>\n      <td>0.069980</td>\n      <td>-0.165079</td>\n      <td>-0.067444</td>\n      <td>-0.143729</td>\n      <td>0.032275</td>\n      <td>0.372293</td>\n      <td>0.041818</td>\n      <td>0.032854</td>\n      <td>0.146240</td>\n      <td>-0.137018</td>\n      <td>0.190802</td>\n      <td>0.108555</td>\n      <td>0.170401</td>\n      <td>-0.170474</td>\n      <td>0.065800</td>\n      <td>-0.162053</td>\n      <td>-0.241368</td>\n      <td>0.072358</td>\n      <td>-0.170512</td>\n      <td>0.181729</td>\n      <td>0.394393</td>\n      <td>0.065402</td>\n      <td>0.205735</td>\n      <td>-0.103268</td>\n      <td>-0.039133</td>\n      <td>-0.052853</td>\n      <td>-0.421413</td>\n      <td>0.066120</td>\n      <td>-0.036619</td>\n      <td>-0.129683</td>\n      <td>0.152110</td>\n      <td>0.058852</td>\n      <td>-0.200716</td>\n      <td>0.425438</td>\n      <td>-0.633506</td>\n      <td>-0.184883</td>\n      <td>-0.046711</td>\n      <td>-0.277424</td>\n      <td>0.150955</td>\n      <td>0.174308</td>\n      <td>-0.191348</td>\n      <td>0.121687</td>\n      <td>-0.002648</td>\n      <td>-0.149996</td>\n      <td>0.036184</td>\n      <td>-0.095719</td>\n      <td>0.059427</td>\n      <td>0.130815</td>\n      <td>0.155930</td>\n      <td>0.243257</td>\n      <td>0.070662</td>\n      <td>0.079929</td>\n      <td>-0.050331</td>\n    </tr>\n  </tbody>\n</table>\n<p>5 rows × 769 columns</p>\n</div>"
     },
     "metadata": {},
     "execution_count": 25
    }
   ],
   "source": [
    "col_dict = {}\n",
    "for i in range(768):\n",
    "    col_dict[i] = f'roberta_vec_{i}'\n",
    "\n",
    "df_result = pd.concat([df_train[['id']], pd.DataFrame(bert_vec).rename(columns=col_dict)], axis=1)\n",
    "df_result.head()"
   ]
  },
  {
   "cell_type": "code",
   "execution_count": 32,
   "metadata": {},
   "outputs": [
    {
     "output_type": "execute_result",
     "data": {
      "text/plain": [
       "(15117, 769)"
      ]
     },
     "metadata": {},
     "execution_count": 32
    }
   ],
   "source": [
    "df_result = df_result[df_result['roberta_vec_0'].isnull()==False]\n",
    "df_result.shape"
   ]
  },
  {
   "cell_type": "code",
   "execution_count": 29,
   "metadata": {},
   "outputs": [
    {
     "output_type": "execute_result",
     "data": {
      "text/plain": [
       "(836407, 769)"
      ]
     },
     "metadata": {},
     "execution_count": 29
    }
   ],
   "source": [
    "df_temp = pd.read_pickle('../data/train/robaerta_raw_vec.pickle')\n",
    "df_temp = df_temp[df_temp['roberta_vec_0'].isnull()==False]\n",
    "df_temp.shape"
   ]
  },
  {
   "cell_type": "code",
   "execution_count": 33,
   "metadata": {},
   "outputs": [
    {
     "output_type": "execute_result",
     "data": {
      "text/plain": [
       "(851524, 769)"
      ]
     },
     "metadata": {},
     "execution_count": 33
    }
   ],
   "source": [
    "df_concat_result = pd.concat([df_result, df_temp])\n",
    "df_concat_result.shape"
   ]
  },
  {
   "cell_type": "code",
   "execution_count": 34,
   "metadata": {},
   "outputs": [],
   "source": [
    "df_result.to_pickle('../data/train/10_robaerta_raw_vec.pickle')"
   ]
  },
  {
   "cell_type": "code",
   "execution_count": 13,
   "metadata": {},
   "outputs": [
    {
     "output_type": "execute_result",
     "data": {
      "text/plain": [
       "(15117, 769)"
      ]
     },
     "metadata": {},
     "execution_count": 13
    }
   ],
   "source": [
    "df_temp = pd.read_pickle('../data/train/10_robaerta_raw_vec.pickle')\n",
    "df_temp.shape"
   ]
  },
  {
   "cell_type": "code",
   "execution_count": 16,
   "metadata": {},
   "outputs": [
    {
     "output_type": "execute_result",
     "data": {
      "text/plain": [
       "(836407, 769)"
      ]
     },
     "metadata": {},
     "execution_count": 16
    }
   ],
   "source": [
    "df_temp2 = pd.read_pickle('../data/train/robaerta_raw_vec.pickle')\n",
    "df_temp2 = df_temp2[df_temp2['roberta_vec_0'].isnull()==False]\n",
    "df_temp2.shape"
   ]
  },
  {
   "cell_type": "code",
   "execution_count": 17,
   "metadata": {},
   "outputs": [
    {
     "output_type": "execute_result",
     "data": {
      "text/plain": [
       "(851524, 769)"
      ]
     },
     "metadata": {},
     "execution_count": 17
    }
   ],
   "source": [
    "df_concat_result = pd.concat([df_temp, df_temp2])\n",
    "df_concat_result.shape"
   ]
  },
  {
   "cell_type": "code",
   "execution_count": 18,
   "metadata": {},
   "outputs": [],
   "source": [
    "df_concat_result.to_pickle('../data/train/10_robaerta_vec.pickle')"
   ]
  },
  {
   "cell_type": "code",
   "execution_count": null,
   "metadata": {},
   "outputs": [],
   "source": []
  }
 ]
}