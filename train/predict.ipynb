{
 "metadata": {
  "orig_nbformat": 2,
  "kernelspec": {
   "name": "python3",
   "display_name": "Python 3",
   "language": "python"
  }
 },
 "nbformat": 4,
 "nbformat_minor": 2,
 "cells": [
  {
   "cell_type": "code",
   "execution_count": 1,
   "metadata": {},
   "outputs": [],
   "source": [
    "import pandas as pd\n",
    "import numpy as np\n",
    "import json\n",
    "import os\n",
    "import random\n",
    "import string\n",
    "import re\n",
    "import matplotlib.pyplot as plt\n",
    "import pickle\n",
    "\n",
    "from pathlib import Path\n",
    "from tqdm import tqdm\n",
    "import tensorflow as tf\n",
    "from tensorflow import keras\n",
    "from tensorflow.keras import layers\n",
    "\n",
    "from catboost import CatBoostRegressor\n",
    "from catboost import Pool\n",
    "import lightgbm as lgb\n",
    "from sklearn.model_selection import KFold\n",
    "from sklearn.metrics import mean_squared_error,mean_squared_log_error\n",
    "import optuna.integration.lightgbm as lgbo\n",
    "from sklearn.preprocessing import StandardScaler\n",
    "\n",
    "import umap\n",
    "pd.set_option('display.max_columns', 2000)\n",
    "\n",
    "SEED = 777\n",
    "\n"
   ]
  },
  {
   "cell_type": "code",
   "execution_count": 2,
   "metadata": {},
   "outputs": [
    {
     "output_type": "execute_result",
     "data": {
      "text/plain": [
       "(59084, 2001)"
      ]
     },
     "metadata": {},
     "execution_count": 2
    }
   ],
   "source": [
    "df_predict = pd.read_pickle('../data/test/full_comp.pickle')\n",
    "df_predict.shape\n"
   ]
  },
  {
   "cell_type": "code",
   "execution_count": 3,
   "metadata": {},
   "outputs": [],
   "source": [
    "dorop_cols = []\n",
    "for col in df_predict.columns:\n",
    "    if '_x' in col:\n",
    "        dorop_cols.append(col)\n",
    "len(dorop_cols), dorop_cols\n",
    "df_predict = df_predict.drop(dorop_cols, axis=1)\n"
   ]
  },
  {
   "cell_type": "code",
   "execution_count": 4,
   "metadata": {},
   "outputs": [],
   "source": [
    "importance_0_cols = ['econ_y', 'eess_y', 'nlin_y', 'physics_y', 'acc-phys_y',\n",
    "       'adap-org_y', 'alg-geom_y', 'ao-sci_y', 'astro-ph_y', 'atom-ph_y',\n",
    "       'bayes-an_y', 'chao-dyn_y', 'chem-ph_y', 'cmp-lg_y', 'comp-gas_y',\n",
    "       'dg-ga_y', 'funct-an_y', 'gr-qc_y', 'math-ph_y', 'mtrl-th_y',\n",
    "       'nucl-ex_y', 'patt-sol_y', 'plasm-ph_y', 'q-alg_y', 'q-fin_y',\n",
    "       'solv-int_y', 'supr-con_y', 'acc_y', 'adap_y', 'alg_y', 'ao_y',\n",
    "       'astro_y', 'atom_y', 'bayes_y', 'chao_y', 'chem_y', 'cmp_y',\n",
    "       'comp_y', 'cond_y', 'dg_y', 'econ', 'eess', 'funct_y', 'gr_y',\n",
    "       'math', 'mtrl_y', 'nlin', 'patt_y', 'physics', 'plasm_y',\n",
    "       'quant_y', 'solv_y', 'stat', 'supr_y', 'astro-ph.ga',\n",
    "       'astro-ph.he', 'astro-ph.sr', 'cond-mat.dis-nn',\n",
    "       'cond-mat.mes-hall', 'cond-mat.other', 'cond-mat.soft',\n",
    "       'cond-mat.stat-mech', 'cs.ai', 'cs.ar', 'cs.cc', 'cs.ce', 'cs.cg',\n",
    "       'cs.cl', 'cs.cr', 'cs.cv', 'cs.cy', 'cs.db', 'cs.dc', 'cs.dl',\n",
    "       'cs.dm', 'cs.et', 'cs.fl', 'cs.gl', 'cs.gr', 'cs.gt', 'cs.hc',\n",
    "       'cs.ir', 'cs.it', 'cs.lo', 'cs.ma', 'cs.mm', 'cs.ms', 'cs.na',\n",
    "       'cs.ne', 'cs.ni', 'cs.oh', 'cs.os', 'cs.pf', 'cs.pl', 'cs.ro',\n",
    "       'cs.sc', 'cs.sd', 'cs.se', 'cs.sy', 'econ.em', 'econ.gn',\n",
    "       'econ.th', 'eess.as', 'eess.iv', 'eess.sp', 'eess.sy', 'math.ac',\n",
    "       'math.ap', 'math.at', 'math.ca', 'math.ct', 'math.cv', 'math.dg',\n",
    "       'math.ds', 'math.fa', 'math.gm', 'math.gn', 'math.gr', 'math.gt',\n",
    "       'math.ho', 'math.it', 'math.kt', 'math.lo', 'math.mg', 'math.mp',\n",
    "       'math.na', 'math.nt', 'math.oa', 'math.oc', 'math.qa', 'math.ra',\n",
    "       'math.rt', 'math.sg', 'math.sp', 'math.st', 'nlin.ao', 'nlin.cd',\n",
    "       'nlin.cg', 'nlin.ps', 'nlin.si', 'physics.acc-ph', 'physics.ao-ph',\n",
    "       'physics.app-ph', 'physics.atm-clus', 'physics.bio-ph',\n",
    "       'physics.chem-ph', 'physics.class-ph', 'physics.comp-ph',\n",
    "       'physics.data-an', 'physics.ed-ph', 'physics.flu-dyn',\n",
    "       'physics.gen-ph', 'physics.geo-ph', 'physics.hist-ph',\n",
    "       'physics.ins-det', 'physics.med-ph', 'physics.optics',\n",
    "       'physics.plasm-ph', 'physics.pop-ph', 'physics.soc-ph', 'q-bio.bm',\n",
    "       'q-bio.cb', 'q-bio.gn', 'q-bio.mn', 'q-bio.nc', 'q-bio.ot',\n",
    "       'q-bio.pe', 'q-bio.qm', 'q-bio.sc', 'q-bio.to', 'q-fin.cp',\n",
    "       'q-fin.ec', 'q-fin.gn', 'q-fin.mf', 'q-fin.pm', 'q-fin.pr',\n",
    "       'q-fin.rm', 'q-fin.st', 'q-fin.tr', 'stat.ap', 'stat.co',\n",
    "       'stat.me', 'stat.ml', 'stat.ot', 'doi_cites_min_doi_id_label',\n",
    "       'doi_cites_min_pub_publisher_label',\n",
    "       'doi_cites_median_pub_publisher_label', 'doi_cites_min_update_ym',\n",
    "       'doi_cites_min_first_created_ym', 'doi_cites_min_license_label',\n",
    "       'doi_cites_max_license_label', 'doi_cites_q10_license_label',\n",
    "       'doi_cites_q75_license_label', 'doi_cites_min_category_main_label',\n",
    "       'doi_cites_q10_category_main_label',\n",
    "       'doi_cites_q25_category_main_label',\n",
    "       'doi_cites_min_category_main_detail_label',\n",
    "       'doi_cites_median_category_main_detail_label',\n",
    "       'doi_cites_q10_category_main_detail_label',\n",
    "       'doi_cites_q25_category_main_detail_label',\n",
    "       'doi_cites_min_category_name_parent_label',\n",
    "       'doi_cites_q10_category_name_parent_label',\n",
    "       'doi_cites_min_category_name_parent_main_label',\n",
    "       'doi_cites_q10_category_name_parent_main_label',\n",
    "       'doi_cites_min_category_name_label',\n",
    "       'pred_doi_cites_min_doi_id_label',\n",
    "       'pred_doi_cites_min_pub_publisher_label',\n",
    "       'pred_doi_cites_median_pub_publisher_label',\n",
    "       'pred_doi_cites_q75_pub_publisher_label',\n",
    "       'pred_doi_cites_min_update_ym', 'pred_doi_cites_q10_update_ym',\n",
    "       'pred_doi_cites_min_first_created_ym',\n",
    "       'pred_doi_cites_q10_first_created_ym',\n",
    "       'pred_doi_cites_mean_license_label',\n",
    "       'pred_doi_cites_count_license_label',\n",
    "       'pred_doi_cites_sum_license_label',\n",
    "       'pred_doi_cites_min_license_label',\n",
    "       'pred_doi_cites_std_license_label',\n",
    "       'pred_doi_cites_q10_license_label',\n",
    "       'pred_doi_cites_q25_license_label',\n",
    "       'pred_doi_cites_q75_license_label',\n",
    "       'pred_doi_cites_mean_category_main_label',\n",
    "       'pred_doi_cites_min_category_main_label',\n",
    "       'pred_doi_cites_median_category_main_label',\n",
    "       'pred_doi_cites_q10_category_main_label',\n",
    "       'pred_doi_cites_q25_category_main_label',\n",
    "       'pred_doi_cites_mean_category_main_detail_label',\n",
    "       'pred_doi_cites_sum_category_main_detail_label',\n",
    "       'pred_doi_cites_min_category_main_detail_label',\n",
    "       'pred_doi_cites_median_category_main_detail_label',\n",
    "       'pred_doi_cites_q10_category_main_detail_label',\n",
    "       'pred_doi_cites_q25_category_main_detail_label',\n",
    "       'pred_doi_cites_q75_category_main_detail_label',\n",
    "       'pred_doi_cites_min_category_name_parent_label',\n",
    "       'pred_doi_cites_median_category_name_parent_label',\n",
    "       'pred_doi_cites_q10_category_name_parent_label',\n",
    "       'pred_doi_cites_q25_category_name_parent_label',\n",
    "       'pred_doi_cites_min_category_name_parent_main_label',\n",
    "       'pred_doi_cites_median_category_name_parent_main_label',\n",
    "       'pred_doi_cites_q10_category_name_parent_main_label',\n",
    "       'pred_doi_cites_q25_category_name_parent_main_label',\n",
    "       'pred_doi_cites_min_category_name_label',\n",
    "       'diff_rate_doi_cites_pred_doi_cites',\n",
    "       'diff_rate_doi_cites_mean_submitter_label_pred_doi_cites_mean_submitter_label',\n",
    "       'diff_rate_doi_cites_mean_doi_id_label_doi_cites_mean_pub_publisher_label',\n",
    "       'diff_rate_doi_cites_mean_doi_id_label_pred_doi_cites_mean_doi_id_label',\n",
    "       'diff_rate_doi_cites_mean_doi_id_label_pred_doi_cites_mean_pub_publisher_label',\n",
    "       'diff_rate_doi_cites_mean_author_first_label_pred_doi_cites_mean_author_first_label',\n",
    "       'diff_doi_cites_mean_author_first_label_pred_doi_cites_mean_category_name_parent_main_label',\n",
    "       'diff_doi_cites_mean_pub_publisher_label_doi_cites_mean_category_main_detail_label',\n",
    "       'diff_rate_doi_cites_mean_pub_publisher_label_pred_doi_cites_mean_pub_publisher_label',\n",
    "       'diff_doi_cites_mean_pub_publisher_label_pred_doi_cites_mean_category_main_detail_label',\n",
    "       'diff_rate_doi_cites_mean_pub_publisher_label_pred_doi_cites_mean_category_main_detail_label',\n",
    "       'diff_rate_doi_cites_mean_update_ym_pred_doi_cites_mean_update_ym',\n",
    "       'diff_doi_cites_mean_update_ym_pred_doi_cites_mean_category_main_detail_label',\n",
    "       'diff_doi_cites_mean_update_ym_pred_doi_cites_mean_category_name_parent_label',\n",
    "       'diff_rate_doi_cites_mean_first_created_ym_pred_doi_cites_mean_first_created_ym',\n",
    "       'diff_rate_doi_cites_mean_license_label_doi_cites_mean_category_main_detail_label',\n",
    "       'diff_doi_cites_mean_license_label_pred_doi_cites_mean_license_label',\n",
    "       'diff_rate_doi_cites_mean_license_label_pred_doi_cites_mean_license_label',\n",
    "       'diff_doi_cites_mean_license_label_pred_doi_cites_mean_category_main_detail_label',\n",
    "       'diff_rate_doi_cites_mean_license_label_pred_doi_cites_mean_category_main_detail_label',\n",
    "       'diff_rate_doi_cites_mean_license_label_pred_doi_cites_mean_category_name_parent_main_label',\n",
    "       'diff_doi_cites_mean_category_main_label_doi_cites_mean_category_main_detail_label',\n",
    "       'diff_rate_doi_cites_mean_category_main_label_doi_cites_mean_category_main_detail_label',\n",
    "       'diff_rate_doi_cites_mean_category_main_label_pred_doi_cites_mean_category_main_label',\n",
    "       'diff_rate_doi_cites_mean_category_main_label_pred_doi_cites_mean_category_main_detail_label',\n",
    "       'diff_rate_doi_cites_mean_category_main_detail_label_doi_cites_mean_category_name_parent_label',\n",
    "       'diff_doi_cites_mean_category_main_detail_label_pred_doi_cites_mean_doi_id_label',\n",
    "       'diff_rate_doi_cites_mean_category_main_detail_label_pred_doi_cites_mean_pub_publisher_label',\n",
    "       'diff_rate_doi_cites_mean_category_main_detail_label_pred_doi_cites_mean_update_ym',\n",
    "       'diff_rate_doi_cites_mean_category_main_detail_label_pred_doi_cites_mean_license_label',\n",
    "       'diff_rate_doi_cites_mean_category_main_detail_label_pred_doi_cites_mean_category_main_label',\n",
    "       'diff_rate_doi_cites_mean_category_main_detail_label_pred_doi_cites_mean_category_main_detail_label',\n",
    "       'diff_doi_cites_mean_category_main_detail_label_pred_doi_cites_mean_category_name_parent_label',\n",
    "       'diff_rate_doi_cites_mean_category_main_detail_label_pred_doi_cites_mean_category_name_parent_label',\n",
    "       'diff_rate_doi_cites_mean_category_main_detail_label_pred_doi_cites_mean_category_name_parent_main_label',\n",
    "       'diff_doi_cites_mean_category_main_detail_label_pred_doi_cites_mean_category_name_label',\n",
    "       'diff_rate_doi_cites_mean_category_main_detail_label_pred_doi_cites_mean_category_name_label',\n",
    "       'diff_rate_doi_cites_mean_category_name_parent_label_pred_doi_cites_mean_update_ym',\n",
    "       'diff_doi_cites_mean_category_name_parent_label_pred_doi_cites_mean_category_main_label',\n",
    "       'diff_rate_doi_cites_mean_category_name_parent_label_pred_doi_cites_mean_category_main_detail_label',\n",
    "       'diff_rate_doi_cites_mean_category_name_parent_label_pred_doi_cites_mean_category_name_parent_label',\n",
    "       'diff_doi_cites_mean_category_name_parent_main_label_pred_doi_cites_mean_license_label',\n",
    "       'diff_rate_doi_cites_mean_category_name_parent_main_label_pred_doi_cites_mean_license_label',\n",
    "       'diff_doi_cites_mean_category_name_parent_main_label_pred_doi_cites_mean_category_main_detail_label',\n",
    "       'diff_rate_doi_cites_mean_category_name_parent_main_label_pred_doi_cites_mean_category_main_detail_label',\n",
    "       'diff_rate_doi_cites_mean_category_name_parent_main_label_pred_doi_cites_mean_category_name_parent_main_label',\n",
    "       'diff_rate_doi_cites_mean_category_name_label_pred_doi_cites_mean_pub_publisher_label',\n",
    "       'diff_doi_cites_mean_category_name_label_pred_doi_cites_mean_category_main_detail_label',\n",
    "       'diff_rate_doi_cites_mean_category_name_label_pred_doi_cites_mean_category_name_label',\n",
    "       'diff_pred_doi_cites_mean_submitter_label_pred_doi_cites_mean_doi_id_label',\n",
    "       'diff_rate_pred_doi_cites_mean_submitter_label_pred_doi_cites_mean_category_main_detail_label',\n",
    "       'diff_pred_doi_cites_mean_doi_id_label_pred_doi_cites_mean_author_first_label',\n",
    "       'diff_rate_pred_doi_cites_mean_doi_id_label_pred_doi_cites_mean_pub_publisher_label',\n",
    "       'diff_pred_doi_cites_mean_doi_id_label_pred_doi_cites_mean_update_ym',\n",
    "       'diff_pred_doi_cites_mean_doi_id_label_pred_doi_cites_mean_first_created_ym',\n",
    "       'diff_rate_pred_doi_cites_mean_doi_id_label_pred_doi_cites_mean_license_label',\n",
    "       'diff_rate_pred_doi_cites_mean_doi_id_label_pred_doi_cites_mean_category_main_label',\n",
    "       'diff_pred_doi_cites_mean_doi_id_label_pred_doi_cites_mean_category_main_detail_label',\n",
    "       'diff_rate_pred_doi_cites_mean_doi_id_label_pred_doi_cites_mean_category_main_detail_label',\n",
    "       'diff_rate_pred_doi_cites_mean_doi_id_label_pred_doi_cites_mean_category_name_label',\n",
    "       'diff_pred_doi_cites_mean_author_first_label_pred_doi_cites_mean_pub_publisher_label',\n",
    "       'diff_rate_pred_doi_cites_mean_author_first_label_pred_doi_cites_mean_update_ym',\n",
    "       'diff_pred_doi_cites_mean_author_first_label_pred_doi_cites_mean_category_main_label',\n",
    "       'diff_rate_pred_doi_cites_mean_author_first_label_pred_doi_cites_mean_category_main_label',\n",
    "       'diff_rate_pred_doi_cites_mean_author_first_label_pred_doi_cites_mean_category_main_detail_label',\n",
    "       'diff_pred_doi_cites_mean_author_first_label_pred_doi_cites_mean_category_name_parent_label',\n",
    "       'diff_pred_doi_cites_mean_author_first_label_pred_doi_cites_mean_category_name_parent_main_label',\n",
    "       'diff_rate_pred_doi_cites_mean_pub_publisher_label_pred_doi_cites_mean_update_ym',\n",
    "       'diff_pred_doi_cites_mean_pub_publisher_label_pred_doi_cites_mean_first_created_ym',\n",
    "       'diff_rate_pred_doi_cites_mean_pub_publisher_label_pred_doi_cites_mean_first_created_ym',\n",
    "       'diff_pred_doi_cites_mean_pub_publisher_label_pred_doi_cites_mean_license_label',\n",
    "       'diff_rate_pred_doi_cites_mean_pub_publisher_label_pred_doi_cites_mean_license_label',\n",
    "       'diff_pred_doi_cites_mean_pub_publisher_label_pred_doi_cites_mean_category_main_label',\n",
    "       'diff_rate_pred_doi_cites_mean_pub_publisher_label_pred_doi_cites_mean_category_main_label',\n",
    "       'diff_pred_doi_cites_mean_pub_publisher_label_pred_doi_cites_mean_category_main_detail_label',\n",
    "       'diff_rate_pred_doi_cites_mean_pub_publisher_label_pred_doi_cites_mean_category_main_detail_label',\n",
    "       'diff_rate_pred_doi_cites_mean_pub_publisher_label_pred_doi_cites_mean_category_name_parent_main_label',\n",
    "       'diff_pred_doi_cites_mean_pub_publisher_label_pred_doi_cites_mean_category_name_label',\n",
    "       'diff_rate_pred_doi_cites_mean_update_ym_pred_doi_cites_mean_license_label',\n",
    "       'diff_pred_doi_cites_mean_update_ym_pred_doi_cites_mean_category_main_label',\n",
    "       'diff_rate_pred_doi_cites_mean_update_ym_pred_doi_cites_mean_category_main_label',\n",
    "       'diff_pred_doi_cites_mean_update_ym_pred_doi_cites_mean_category_main_detail_label',\n",
    "       'diff_rate_pred_doi_cites_mean_update_ym_pred_doi_cites_mean_category_main_detail_label',\n",
    "       'diff_rate_pred_doi_cites_mean_update_ym_pred_doi_cites_mean_category_name_parent_label',\n",
    "       'diff_pred_doi_cites_mean_update_ym_pred_doi_cites_mean_category_name_parent_main_label',\n",
    "       'diff_pred_doi_cites_mean_first_created_ym_pred_doi_cites_mean_license_label',\n",
    "       'diff_rate_pred_doi_cites_mean_first_created_ym_pred_doi_cites_mean_category_name_parent_main_label',\n",
    "       'diff_pred_doi_cites_mean_license_label_pred_doi_cites_mean_category_main_label',\n",
    "       'diff_rate_pred_doi_cites_mean_license_label_pred_doi_cites_mean_category_main_label',\n",
    "       'diff_pred_doi_cites_mean_license_label_pred_doi_cites_mean_category_main_detail_label',\n",
    "       'diff_rate_pred_doi_cites_mean_license_label_pred_doi_cites_mean_category_main_detail_label',\n",
    "       'diff_pred_doi_cites_mean_license_label_pred_doi_cites_mean_category_name_parent_label',\n",
    "       'diff_pred_doi_cites_mean_license_label_pred_doi_cites_mean_category_name_parent_main_label',\n",
    "       'diff_rate_pred_doi_cites_mean_license_label_pred_doi_cites_mean_category_name_parent_main_label',\n",
    "       'diff_pred_doi_cites_mean_category_main_label_pred_doi_cites_mean_category_main_detail_label',\n",
    "       'diff_rate_pred_doi_cites_mean_category_main_label_pred_doi_cites_mean_category_main_detail_label',\n",
    "       'diff_pred_doi_cites_mean_category_main_label_pred_doi_cites_mean_category_name_parent_main_label',\n",
    "       'diff_rate_pred_doi_cites_mean_category_main_label_pred_doi_cites_mean_category_name_parent_main_label',\n",
    "       'diff_pred_doi_cites_mean_category_main_detail_label_pred_doi_cites_mean_category_name_parent_label',\n",
    "       'diff_rate_pred_doi_cites_mean_category_main_detail_label_pred_doi_cites_mean_category_name_parent_label',\n",
    "       'diff_rate_pred_doi_cites_mean_category_main_detail_label_pred_doi_cites_mean_category_name_parent_main_label',\n",
    "       'diff_pred_doi_cites_mean_category_main_detail_label_pred_doi_cites_mean_category_name_label',\n",
    "       'diff_rate_pred_doi_cites_mean_category_main_detail_label_pred_doi_cites_mean_category_name_label',\n",
    "       'diff_rate_pred_doi_cites_mean_category_name_parent_label_pred_doi_cites_mean_category_name_label',\n",
    "       'diff_pred_doi_cites_mean_category_name_parent_main_label_pred_doi_cites_mean_category_name_label',\n",
    "       'diff_rate_pred_doi_cites_mean_category_name_parent_main_label_pred_doi_cites_mean_category_name_label',\n",
    "       'is_null_comments', 'is_null_journal-ref']\n"
   ]
  },
  {
   "cell_type": "code",
   "execution_count": 5,
   "metadata": {},
   "outputs": [],
   "source": [
    "importance_0_cols.extend(['id', 'authors', 'title', 'comments',\n",
    "    'journal-ref', 'doi', 'report-no', 'categories', 'license',\n",
    "    'abstract', 'versions', 'authors_parsed', 'pub_publisher',\n",
    "    'update_date_y', 'first_created_date', 'last_created_date', 'doi_id', 'submitter', 'author_first', 'category_main', 'category_main_detail', 'category_name_parent_main_unique', 'category_name_parent_unique', 'category_name_unique',\n",
    "    'submitter_label','doi_id_label','author_first_label','pub_publisher_label',\n",
    "    'license_label','category_main_label','category_name_parent_label','category_name_parent_main_label', 'category_name_label'\n",
    "    ])"
   ]
  },
  {
   "cell_type": "code",
   "execution_count": 6,
   "metadata": {},
   "outputs": [
    {
     "output_type": "stream",
     "name": "stdout",
     "text": [
      "fold 0\n",
      "fold 1\n",
      "fold 2\n",
      "fold 3\n",
      "fold 4\n",
      "fold 5\n",
      "fold 6\n",
      "fold 7\n",
      "fold 8\n",
      "fold 9\n"
     ]
    },
    {
     "output_type": "execute_result",
     "data": {
      "text/plain": [
       "(59084,)"
      ]
     },
     "metadata": {},
     "execution_count": 6
    }
   ],
   "source": [
    "result_y_lgb = []\n",
    "\n",
    "predict_data = df_predict.copy()\n",
    "predict_data = predict_data.drop(importance_0_cols, axis=1)\n",
    "test_index = []\n",
    "result = np.zeros([10, len(df_predict)])\n",
    "for fold_no in range(10):\n",
    "    with open(f'../models/lgb_{fold_no}.pickle', mode='rb') as f:\n",
    "        model = pickle.load(f)\n",
    "        \n",
    "    result[fold_no] = model.predict(predict_data)\n",
    "    print(f\"fold {fold_no}\")\n",
    "\n",
    "result.shape\n",
    "lgb = result.mean(axis=0)\n",
    "lgb.shape"
   ]
  },
  {
   "cell_type": "code",
   "execution_count": 7,
   "metadata": {},
   "outputs": [
    {
     "output_type": "stream",
     "name": "stdout",
     "text": [
      "fold 0\n",
      "fold 1\n",
      "fold 2\n",
      "fold 3\n",
      "fold 4\n",
      "fold 5\n",
      "fold 6\n",
      "fold 7\n",
      "fold 8\n",
      "fold 9\n"
     ]
    },
    {
     "output_type": "execute_result",
     "data": {
      "text/plain": [
       "(59084,)"
      ]
     },
     "metadata": {},
     "execution_count": 7
    }
   ],
   "source": [
    "predict_data = df_predict.copy()\n",
    "predict_data = predict_data.drop(importance_0_cols, axis=1)\n",
    "result = np.zeros([10, len(df_predict)])\n",
    "for fold_no in range(10):\n",
    "    with open(f'../models/cat_{fold_no}.pickle', mode='rb') as f:\n",
    "        model = pickle.load(f)\n",
    "        \n",
    "    result[fold_no] = model.predict(predict_data)\n",
    "    print(f\"fold {fold_no}\")\n",
    "\n",
    "result.shape\n",
    "cat = result.mean(axis=0)\n",
    "cat.shape"
   ]
  },
  {
   "cell_type": "code",
   "execution_count": 8,
   "metadata": {},
   "outputs": [
    {
     "output_type": "stream",
     "name": "stdout",
     "text": [
      "fold 0\n",
      "fold 1\n",
      "fold 2\n",
      "fold 3\n",
      "fold 4\n",
      "fold 5\n",
      "fold 6\n",
      "fold 7\n",
      "fold 8\n",
      "fold 9\n"
     ]
    },
    {
     "output_type": "execute_result",
     "data": {
      "text/plain": [
       "(59084,)"
      ]
     },
     "metadata": {},
     "execution_count": 8
    }
   ],
   "source": [
    "predict_data = df_predict.copy()\n",
    "predict_data = predict_data.drop(importance_0_cols, axis=1)\n",
    "predict_data = predict_data.fillna(0)\n",
    "\n",
    "result = np.zeros([10, len(df_predict)])\n",
    "for fold_no in range(10):\n",
    "    with open(f'../models/rf_{fold_no}.pickle', mode='rb') as f:\n",
    "        model = pickle.load(f)\n",
    "        \n",
    "    result[fold_no] = model.predict(predict_data)\n",
    "    print(f\"fold {fold_no}\")\n",
    "\n",
    "rf = result.mean(axis=0)\n",
    "rf.shape"
   ]
  },
  {
   "cell_type": "code",
   "execution_count": 9,
   "metadata": {},
   "outputs": [
    {
     "output_type": "stream",
     "name": "stdout",
     "text": [
      "fold 0\n",
      "fold 1\n",
      "fold 2\n",
      "fold 3\n",
      "fold 4\n",
      "fold 5\n",
      "fold 6\n",
      "fold 7\n",
      "fold 8\n",
      "fold 9\n"
     ]
    },
    {
     "output_type": "execute_result",
     "data": {
      "text/plain": [
       "(59084,)"
      ]
     },
     "metadata": {},
     "execution_count": 9
    }
   ],
   "source": [
    "predict_data = df_predict.copy()\n",
    "predict_data = predict_data.drop(importance_0_cols, axis=1)\n",
    "result = np.zeros([10, len(df_predict)])\n",
    "\n",
    "scaler = StandardScaler()\n",
    "predict_data = predict_data.fillna(0)\n",
    "predict_data = scaler.fit_transform(predict_data)\n",
    "for fold_no in range(10):\n",
    "    with open(f'../models/reg_{fold_no}.pickle', mode='rb') as f:\n",
    "        model = pickle.load(f)\n",
    "        \n",
    "    result[fold_no] = model.predict(predict_data)\n",
    "    print(f\"fold {fold_no}\")\n",
    "\n",
    "reg = result.mean(axis=0)\n",
    "reg.shape"
   ]
  },
  {
   "cell_type": "code",
   "execution_count": 10,
   "metadata": {},
   "outputs": [
    {
     "output_type": "execute_result",
     "data": {
      "text/plain": [
       "        lgb       cat        rf       reg\n",
       "0  2.533340  2.536602  2.454509  2.621725\n",
       "1  3.223628  3.268987  3.269495  3.176651\n",
       "2  4.517712  4.404238  4.455597  4.517788"
      ],
      "text/html": "<div>\n<style scoped>\n    .dataframe tbody tr th:only-of-type {\n        vertical-align: middle;\n    }\n\n    .dataframe tbody tr th {\n        vertical-align: top;\n    }\n\n    .dataframe thead th {\n        text-align: right;\n    }\n</style>\n<table border=\"1\" class=\"dataframe\">\n  <thead>\n    <tr style=\"text-align: right;\">\n      <th></th>\n      <th>lgb</th>\n      <th>cat</th>\n      <th>rf</th>\n      <th>reg</th>\n    </tr>\n  </thead>\n  <tbody>\n    <tr>\n      <th>0</th>\n      <td>2.533340</td>\n      <td>2.536602</td>\n      <td>2.454509</td>\n      <td>2.621725</td>\n    </tr>\n    <tr>\n      <th>1</th>\n      <td>3.223628</td>\n      <td>3.268987</td>\n      <td>3.269495</td>\n      <td>3.176651</td>\n    </tr>\n    <tr>\n      <th>2</th>\n      <td>4.517712</td>\n      <td>4.404238</td>\n      <td>4.455597</td>\n      <td>4.517788</td>\n    </tr>\n  </tbody>\n</table>\n</div>"
     },
     "metadata": {},
     "execution_count": 10
    }
   ],
   "source": [
    "df_result = pd.DataFrame(lgb, columns=['lgb'])\n",
    "df_result = pd.concat([df_result, pd.DataFrame(cat, columns=['cat'])], axis=1)\n",
    "df_result = pd.concat([df_result, pd.DataFrame(rf, columns=['rf'])], axis=1)\n",
    "df_result = pd.concat([df_result, pd.DataFrame(reg, columns=['reg'])], axis=1)\n",
    "df_result.head(3)"
   ]
  },
  {
   "cell_type": "code",
   "execution_count": 11,
   "metadata": {},
   "outputs": [
    {
     "output_type": "execute_result",
     "data": {
      "text/plain": [
       "(59084,)"
      ]
     },
     "metadata": {},
     "execution_count": 11
    }
   ],
   "source": [
    "result = np.zeros([5, len(df_result)])\n",
    "for fold_no in range(5):\n",
    "    with open(f'../models/2nd_svr_{fold_no}.pickle', mode='rb') as f:\n",
    "        model = pickle.load(f)\n",
    "    result[fold_no] = model.predict(df_result)\n",
    "reg1 = result.mean(axis=0)\n",
    "reg1.shape"
   ]
  },
  {
   "cell_type": "code",
   "execution_count": 13,
   "metadata": {},
   "outputs": [
    {
     "output_type": "execute_result",
     "data": {
      "text/plain": [
       "(59084,)"
      ]
     },
     "metadata": {},
     "execution_count": 13
    }
   ],
   "source": [
    "result = np.zeros([5, len(df_result)])\n",
    "for fold_no in range(5):\n",
    "    with open(f'../models/2nd_ridge_{fold_no}.pickle', mode='rb') as f:\n",
    "        model = pickle.load(f)\n",
    "    result[fold_no] = model.predict(df_result)\n",
    "reg2 = result.mean(axis=0)\n",
    "reg2.shape"
   ]
  },
  {
   "cell_type": "code",
   "execution_count": 14,
   "metadata": {},
   "outputs": [
    {
     "output_type": "execute_result",
     "data": {
      "text/plain": [
       "array([2.5625493 , 3.22331812, 4.49367742, ..., 2.4442215 , 1.54098233,\n",
       "       4.03625707])"
      ]
     },
     "metadata": {},
     "execution_count": 14
    }
   ],
   "source": [
    "result = (reg1 + reg2) / 2\n",
    "result"
   ]
  },
  {
   "cell_type": "code",
   "execution_count": 15,
   "metadata": {},
   "outputs": [
    {
     "output_type": "execute_result",
     "data": {
      "text/plain": [
       "array([11.96883661, 24.11130431, 88.44978629, ..., 10.52157657,\n",
       "        3.66917468, 55.61404342])"
      ]
     },
     "metadata": {},
     "execution_count": 15
    }
   ],
   "source": [
    "test_predicted = np.expm1(result)\n",
    "test_predicted"
   ]
  },
  {
   "cell_type": "code",
   "execution_count": 16,
   "metadata": {},
   "outputs": [],
   "source": [
    "submit_df = pd.DataFrame({'id': df_predict['id']})\n",
    "submit_df['cites'] = np.where(test_predicted < 0, 0, test_predicted)\n",
    "submit_df.to_csv(\"submission.csv\", index=False)"
   ]
  },
  {
   "cell_type": "code",
   "execution_count": 17,
   "metadata": {},
   "outputs": [
    {
     "output_type": "execute_result",
     "data": {
      "text/plain": [
       "id        object\n",
       "cites    float64\n",
       "dtype: object"
      ]
     },
     "metadata": {},
     "execution_count": 17
    }
   ],
   "source": [
    "submit_df.dtypes"
   ]
  },
  {
   "cell_type": "code",
   "execution_count": 20,
   "metadata": {},
   "outputs": [
    {
     "output_type": "execute_result",
     "data": {
      "text/plain": [
       "       proba\n",
       "0  11.968837\n",
       "1  24.111304\n",
       "2  88.449786\n",
       "3  11.697223\n",
       "4  11.513199"
      ],
      "text/html": "<div>\n<style scoped>\n    .dataframe tbody tr th:only-of-type {\n        vertical-align: middle;\n    }\n\n    .dataframe tbody tr th {\n        vertical-align: top;\n    }\n\n    .dataframe thead th {\n        text-align: right;\n    }\n</style>\n<table border=\"1\" class=\"dataframe\">\n  <thead>\n    <tr style=\"text-align: right;\">\n      <th></th>\n      <th>proba</th>\n    </tr>\n  </thead>\n  <tbody>\n    <tr>\n      <th>0</th>\n      <td>11.968837</td>\n    </tr>\n    <tr>\n      <th>1</th>\n      <td>24.111304</td>\n    </tr>\n    <tr>\n      <th>2</th>\n      <td>88.449786</td>\n    </tr>\n    <tr>\n      <th>3</th>\n      <td>11.697223</td>\n    </tr>\n    <tr>\n      <th>4</th>\n      <td>11.513199</td>\n    </tr>\n  </tbody>\n</table>\n</div>"
     },
     "metadata": {},
     "execution_count": 20
    }
   ],
   "source": [
    "df_temp = pd.DataFrame(test_predicted).rename(columns={0:'proba'})\n",
    "df_temp.head()"
   ]
  },
  {
   "cell_type": "code",
   "execution_count": null,
   "metadata": {},
   "outputs": [],
   "source": []
  },
  {
   "cell_type": "code",
   "execution_count": 22,
   "metadata": {},
   "outputs": [
    {
     "output_type": "execute_result",
     "data": {
      "text/plain": [
       "          proba\n",
       "10757  0.955899\n",
       "16847  0.994123\n",
       "23924  0.999089\n",
       "28020  0.876113\n",
       "31381  0.928412\n",
       "35790  0.987498"
      ],
      "text/html": "<div>\n<style scoped>\n    .dataframe tbody tr th:only-of-type {\n        vertical-align: middle;\n    }\n\n    .dataframe tbody tr th {\n        vertical-align: top;\n    }\n\n    .dataframe thead th {\n        text-align: right;\n    }\n</style>\n<table border=\"1\" class=\"dataframe\">\n  <thead>\n    <tr style=\"text-align: right;\">\n      <th></th>\n      <th>proba</th>\n    </tr>\n  </thead>\n  <tbody>\n    <tr>\n      <th>10757</th>\n      <td>0.955899</td>\n    </tr>\n    <tr>\n      <th>16847</th>\n      <td>0.994123</td>\n    </tr>\n    <tr>\n      <th>23924</th>\n      <td>0.999089</td>\n    </tr>\n    <tr>\n      <th>28020</th>\n      <td>0.876113</td>\n    </tr>\n    <tr>\n      <th>31381</th>\n      <td>0.928412</td>\n    </tr>\n    <tr>\n      <th>35790</th>\n      <td>0.987498</td>\n    </tr>\n  </tbody>\n</table>\n</div>"
     },
     "metadata": {},
     "execution_count": 22
    }
   ],
   "source": [
    "df_temp[df_temp['proba'] <= 1]"
   ]
  },
  {
   "cell_type": "code",
   "execution_count": null,
   "metadata": {},
   "outputs": [],
   "source": []
  }
 ]
}