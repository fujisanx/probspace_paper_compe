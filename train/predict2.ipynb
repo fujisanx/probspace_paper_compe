{
 "metadata": {
  "orig_nbformat": 2,
  "kernelspec": {
   "name": "python3",
   "display_name": "Python 3",
   "language": "python"
  }
 },
 "nbformat": 4,
 "nbformat_minor": 2,
 "cells": [
  {
   "cell_type": "code",
   "execution_count": 1,
   "metadata": {},
   "outputs": [],
   "source": [
    "import pandas as pd\n",
    "import numpy as np\n",
    "import json\n",
    "import os\n",
    "import random\n",
    "import string\n",
    "import re\n",
    "import matplotlib.pyplot as plt\n",
    "import pickle\n",
    "\n",
    "from pathlib import Path\n",
    "from tqdm import tqdm\n",
    "import tensorflow as tf\n",
    "from tensorflow import keras\n",
    "from tensorflow.keras import layers\n",
    "\n",
    "from catboost import CatBoostRegressor\n",
    "from catboost import Pool\n",
    "import lightgbm as lgb\n",
    "from sklearn.model_selection import KFold\n",
    "from sklearn.metrics import mean_squared_error,mean_squared_log_error\n",
    "import optuna.integration.lightgbm as lgbo\n",
    "from sklearn.preprocessing import StandardScaler\n",
    "\n",
    "import umap\n",
    "pd.set_option('display.max_columns', 2000)\n",
    "\n",
    "SEED = 777\n",
    "\n"
   ]
  },
  {
   "cell_type": "code",
   "execution_count": 2,
   "metadata": {},
   "outputs": [
    {
     "output_type": "execute_result",
     "data": {
      "text/plain": [
       "(59084, 2001)"
      ]
     },
     "metadata": {},
     "execution_count": 2
    }
   ],
   "source": [
    "df_predict = pd.read_pickle('../data/test/full_comp.pickle')\n",
    "df_predict.shape\n"
   ]
  },
  {
   "cell_type": "code",
   "execution_count": 3,
   "metadata": {},
   "outputs": [],
   "source": [
    "dorop_cols = []\n",
    "for col in df_predict.columns:\n",
    "    if '_x' in col:\n",
    "        dorop_cols.append(col)\n",
    "len(dorop_cols), dorop_cols\n",
    "df_predict = df_predict.drop(dorop_cols, axis=1)\n"
   ]
  },
  {
   "cell_type": "code",
   "execution_count": 4,
   "metadata": {},
   "outputs": [],
   "source": [
    "importance_0_cols = ['econ_y', 'eess_y', 'nlin_y', 'physics_y', 'acc-phys_y',\n",
    "       'adap-org_y', 'alg-geom_y', 'ao-sci_y', 'astro-ph_y', 'atom-ph_y',\n",
    "       'bayes-an_y', 'chao-dyn_y', 'chem-ph_y', 'cmp-lg_y', 'comp-gas_y',\n",
    "       'dg-ga_y', 'funct-an_y', 'gr-qc_y', 'math-ph_y', 'mtrl-th_y',\n",
    "       'nucl-ex_y', 'patt-sol_y', 'plasm-ph_y', 'q-alg_y', 'q-fin_y',\n",
    "       'solv-int_y', 'supr-con_y', 'acc_y', 'adap_y', 'alg_y', 'ao_y',\n",
    "       'astro_y', 'atom_y', 'bayes_y', 'chao_y', 'chem_y', 'cmp_y',\n",
    "       'comp_y', 'cond_y', 'dg_y', 'econ', 'eess', 'funct_y', 'gr_y',\n",
    "       'math', 'mtrl_y', 'nlin', 'patt_y', 'physics', 'plasm_y',\n",
    "       'quant_y', 'solv_y', 'stat', 'supr_y', 'astro-ph.ga',\n",
    "       'astro-ph.he', 'astro-ph.sr', 'cond-mat.dis-nn',\n",
    "       'cond-mat.mes-hall', 'cond-mat.other', 'cond-mat.soft',\n",
    "       'cond-mat.stat-mech', 'cs.ai', 'cs.ar', 'cs.cc', 'cs.ce', 'cs.cg',\n",
    "       'cs.cl', 'cs.cr', 'cs.cv', 'cs.cy', 'cs.db', 'cs.dc', 'cs.dl',\n",
    "       'cs.dm', 'cs.et', 'cs.fl', 'cs.gl', 'cs.gr', 'cs.gt', 'cs.hc',\n",
    "       'cs.ir', 'cs.it', 'cs.lo', 'cs.ma', 'cs.mm', 'cs.ms', 'cs.na',\n",
    "       'cs.ne', 'cs.ni', 'cs.oh', 'cs.os', 'cs.pf', 'cs.pl', 'cs.ro',\n",
    "       'cs.sc', 'cs.sd', 'cs.se', 'cs.sy', 'econ.em', 'econ.gn',\n",
    "       'econ.th', 'eess.as', 'eess.iv', 'eess.sp', 'eess.sy', 'math.ac',\n",
    "       'math.ap', 'math.at', 'math.ca', 'math.ct', 'math.cv', 'math.dg',\n",
    "       'math.ds', 'math.fa', 'math.gm', 'math.gn', 'math.gr', 'math.gt',\n",
    "       'math.ho', 'math.it', 'math.kt', 'math.lo', 'math.mg', 'math.mp',\n",
    "       'math.na', 'math.nt', 'math.oa', 'math.oc', 'math.qa', 'math.ra',\n",
    "       'math.rt', 'math.sg', 'math.sp', 'math.st', 'nlin.ao', 'nlin.cd',\n",
    "       'nlin.cg', 'nlin.ps', 'nlin.si', 'physics.acc-ph', 'physics.ao-ph',\n",
    "       'physics.app-ph', 'physics.atm-clus', 'physics.bio-ph',\n",
    "       'physics.chem-ph', 'physics.class-ph', 'physics.comp-ph',\n",
    "       'physics.data-an', 'physics.ed-ph', 'physics.flu-dyn',\n",
    "       'physics.gen-ph', 'physics.geo-ph', 'physics.hist-ph',\n",
    "       'physics.ins-det', 'physics.med-ph', 'physics.optics',\n",
    "       'physics.plasm-ph', 'physics.pop-ph', 'physics.soc-ph', 'q-bio.bm',\n",
    "       'q-bio.cb', 'q-bio.gn', 'q-bio.mn', 'q-bio.nc', 'q-bio.ot',\n",
    "       'q-bio.pe', 'q-bio.qm', 'q-bio.sc', 'q-bio.to', 'q-fin.cp',\n",
    "       'q-fin.ec', 'q-fin.gn', 'q-fin.mf', 'q-fin.pm', 'q-fin.pr',\n",
    "       'q-fin.rm', 'q-fin.st', 'q-fin.tr', 'stat.ap', 'stat.co',\n",
    "       'stat.me', 'stat.ml', 'stat.ot', 'doi_cites_min_doi_id_label',\n",
    "       'doi_cites_min_pub_publisher_label',\n",
    "       'doi_cites_median_pub_publisher_label', 'doi_cites_min_update_ym',\n",
    "       'doi_cites_min_first_created_ym', 'doi_cites_min_license_label',\n",
    "       'doi_cites_max_license_label', 'doi_cites_q10_license_label',\n",
    "       'doi_cites_q75_license_label', 'doi_cites_min_category_main_label',\n",
    "       'doi_cites_q10_category_main_label',\n",
    "       'doi_cites_q25_category_main_label',\n",
    "       'doi_cites_min_category_main_detail_label',\n",
    "       'doi_cites_median_category_main_detail_label',\n",
    "       'doi_cites_q10_category_main_detail_label',\n",
    "       'doi_cites_q25_category_main_detail_label',\n",
    "       'doi_cites_min_category_name_parent_label',\n",
    "       'doi_cites_q10_category_name_parent_label',\n",
    "       'doi_cites_min_category_name_parent_main_label',\n",
    "       'doi_cites_q10_category_name_parent_main_label',\n",
    "       'doi_cites_min_category_name_label',\n",
    "       'pred_doi_cites_min_doi_id_label',\n",
    "       'pred_doi_cites_min_pub_publisher_label',\n",
    "       'pred_doi_cites_median_pub_publisher_label',\n",
    "       'pred_doi_cites_q75_pub_publisher_label',\n",
    "       'pred_doi_cites_min_update_ym', 'pred_doi_cites_q10_update_ym',\n",
    "       'pred_doi_cites_min_first_created_ym',\n",
    "       'pred_doi_cites_q10_first_created_ym',\n",
    "       'pred_doi_cites_mean_license_label',\n",
    "       'pred_doi_cites_count_license_label',\n",
    "       'pred_doi_cites_sum_license_label',\n",
    "       'pred_doi_cites_min_license_label',\n",
    "       'pred_doi_cites_std_license_label',\n",
    "       'pred_doi_cites_q10_license_label',\n",
    "       'pred_doi_cites_q25_license_label',\n",
    "       'pred_doi_cites_q75_license_label',\n",
    "       'pred_doi_cites_mean_category_main_label',\n",
    "       'pred_doi_cites_min_category_main_label',\n",
    "       'pred_doi_cites_median_category_main_label',\n",
    "       'pred_doi_cites_q10_category_main_label',\n",
    "       'pred_doi_cites_q25_category_main_label',\n",
    "       'pred_doi_cites_mean_category_main_detail_label',\n",
    "       'pred_doi_cites_sum_category_main_detail_label',\n",
    "       'pred_doi_cites_min_category_main_detail_label',\n",
    "       'pred_doi_cites_median_category_main_detail_label',\n",
    "       'pred_doi_cites_q10_category_main_detail_label',\n",
    "       'pred_doi_cites_q25_category_main_detail_label',\n",
    "       'pred_doi_cites_q75_category_main_detail_label',\n",
    "       'pred_doi_cites_min_category_name_parent_label',\n",
    "       'pred_doi_cites_median_category_name_parent_label',\n",
    "       'pred_doi_cites_q10_category_name_parent_label',\n",
    "       'pred_doi_cites_q25_category_name_parent_label',\n",
    "       'pred_doi_cites_min_category_name_parent_main_label',\n",
    "       'pred_doi_cites_median_category_name_parent_main_label',\n",
    "       'pred_doi_cites_q10_category_name_parent_main_label',\n",
    "       'pred_doi_cites_q25_category_name_parent_main_label',\n",
    "       'pred_doi_cites_min_category_name_label',\n",
    "       'diff_rate_doi_cites_pred_doi_cites',\n",
    "       'diff_rate_doi_cites_mean_submitter_label_pred_doi_cites_mean_submitter_label',\n",
    "       'diff_rate_doi_cites_mean_doi_id_label_doi_cites_mean_pub_publisher_label',\n",
    "       'diff_rate_doi_cites_mean_doi_id_label_pred_doi_cites_mean_doi_id_label',\n",
    "       'diff_rate_doi_cites_mean_doi_id_label_pred_doi_cites_mean_pub_publisher_label',\n",
    "       'diff_rate_doi_cites_mean_author_first_label_pred_doi_cites_mean_author_first_label',\n",
    "       'diff_doi_cites_mean_author_first_label_pred_doi_cites_mean_category_name_parent_main_label',\n",
    "       'diff_doi_cites_mean_pub_publisher_label_doi_cites_mean_category_main_detail_label',\n",
    "       'diff_rate_doi_cites_mean_pub_publisher_label_pred_doi_cites_mean_pub_publisher_label',\n",
    "       'diff_doi_cites_mean_pub_publisher_label_pred_doi_cites_mean_category_main_detail_label',\n",
    "       'diff_rate_doi_cites_mean_pub_publisher_label_pred_doi_cites_mean_category_main_detail_label',\n",
    "       'diff_rate_doi_cites_mean_update_ym_pred_doi_cites_mean_update_ym',\n",
    "       'diff_doi_cites_mean_update_ym_pred_doi_cites_mean_category_main_detail_label',\n",
    "       'diff_doi_cites_mean_update_ym_pred_doi_cites_mean_category_name_parent_label',\n",
    "       'diff_rate_doi_cites_mean_first_created_ym_pred_doi_cites_mean_first_created_ym',\n",
    "       'diff_rate_doi_cites_mean_license_label_doi_cites_mean_category_main_detail_label',\n",
    "       'diff_doi_cites_mean_license_label_pred_doi_cites_mean_license_label',\n",
    "       'diff_rate_doi_cites_mean_license_label_pred_doi_cites_mean_license_label',\n",
    "       'diff_doi_cites_mean_license_label_pred_doi_cites_mean_category_main_detail_label',\n",
    "       'diff_rate_doi_cites_mean_license_label_pred_doi_cites_mean_category_main_detail_label',\n",
    "       'diff_rate_doi_cites_mean_license_label_pred_doi_cites_mean_category_name_parent_main_label',\n",
    "       'diff_doi_cites_mean_category_main_label_doi_cites_mean_category_main_detail_label',\n",
    "       'diff_rate_doi_cites_mean_category_main_label_doi_cites_mean_category_main_detail_label',\n",
    "       'diff_rate_doi_cites_mean_category_main_label_pred_doi_cites_mean_category_main_label',\n",
    "       'diff_rate_doi_cites_mean_category_main_label_pred_doi_cites_mean_category_main_detail_label',\n",
    "       'diff_rate_doi_cites_mean_category_main_detail_label_doi_cites_mean_category_name_parent_label',\n",
    "       'diff_doi_cites_mean_category_main_detail_label_pred_doi_cites_mean_doi_id_label',\n",
    "       'diff_rate_doi_cites_mean_category_main_detail_label_pred_doi_cites_mean_pub_publisher_label',\n",
    "       'diff_rate_doi_cites_mean_category_main_detail_label_pred_doi_cites_mean_update_ym',\n",
    "       'diff_rate_doi_cites_mean_category_main_detail_label_pred_doi_cites_mean_license_label',\n",
    "       'diff_rate_doi_cites_mean_category_main_detail_label_pred_doi_cites_mean_category_main_label',\n",
    "       'diff_rate_doi_cites_mean_category_main_detail_label_pred_doi_cites_mean_category_main_detail_label',\n",
    "       'diff_doi_cites_mean_category_main_detail_label_pred_doi_cites_mean_category_name_parent_label',\n",
    "       'diff_rate_doi_cites_mean_category_main_detail_label_pred_doi_cites_mean_category_name_parent_label',\n",
    "       'diff_rate_doi_cites_mean_category_main_detail_label_pred_doi_cites_mean_category_name_parent_main_label',\n",
    "       'diff_doi_cites_mean_category_main_detail_label_pred_doi_cites_mean_category_name_label',\n",
    "       'diff_rate_doi_cites_mean_category_main_detail_label_pred_doi_cites_mean_category_name_label',\n",
    "       'diff_rate_doi_cites_mean_category_name_parent_label_pred_doi_cites_mean_update_ym',\n",
    "       'diff_doi_cites_mean_category_name_parent_label_pred_doi_cites_mean_category_main_label',\n",
    "       'diff_rate_doi_cites_mean_category_name_parent_label_pred_doi_cites_mean_category_main_detail_label',\n",
    "       'diff_rate_doi_cites_mean_category_name_parent_label_pred_doi_cites_mean_category_name_parent_label',\n",
    "       'diff_doi_cites_mean_category_name_parent_main_label_pred_doi_cites_mean_license_label',\n",
    "       'diff_rate_doi_cites_mean_category_name_parent_main_label_pred_doi_cites_mean_license_label',\n",
    "       'diff_doi_cites_mean_category_name_parent_main_label_pred_doi_cites_mean_category_main_detail_label',\n",
    "       'diff_rate_doi_cites_mean_category_name_parent_main_label_pred_doi_cites_mean_category_main_detail_label',\n",
    "       'diff_rate_doi_cites_mean_category_name_parent_main_label_pred_doi_cites_mean_category_name_parent_main_label',\n",
    "       'diff_rate_doi_cites_mean_category_name_label_pred_doi_cites_mean_pub_publisher_label',\n",
    "       'diff_doi_cites_mean_category_name_label_pred_doi_cites_mean_category_main_detail_label',\n",
    "       'diff_rate_doi_cites_mean_category_name_label_pred_doi_cites_mean_category_name_label',\n",
    "       'diff_pred_doi_cites_mean_submitter_label_pred_doi_cites_mean_doi_id_label',\n",
    "       'diff_rate_pred_doi_cites_mean_submitter_label_pred_doi_cites_mean_category_main_detail_label',\n",
    "       'diff_pred_doi_cites_mean_doi_id_label_pred_doi_cites_mean_author_first_label',\n",
    "       'diff_rate_pred_doi_cites_mean_doi_id_label_pred_doi_cites_mean_pub_publisher_label',\n",
    "       'diff_pred_doi_cites_mean_doi_id_label_pred_doi_cites_mean_update_ym',\n",
    "       'diff_pred_doi_cites_mean_doi_id_label_pred_doi_cites_mean_first_created_ym',\n",
    "       'diff_rate_pred_doi_cites_mean_doi_id_label_pred_doi_cites_mean_license_label',\n",
    "       'diff_rate_pred_doi_cites_mean_doi_id_label_pred_doi_cites_mean_category_main_label',\n",
    "       'diff_pred_doi_cites_mean_doi_id_label_pred_doi_cites_mean_category_main_detail_label',\n",
    "       'diff_rate_pred_doi_cites_mean_doi_id_label_pred_doi_cites_mean_category_main_detail_label',\n",
    "       'diff_rate_pred_doi_cites_mean_doi_id_label_pred_doi_cites_mean_category_name_label',\n",
    "       'diff_pred_doi_cites_mean_author_first_label_pred_doi_cites_mean_pub_publisher_label',\n",
    "       'diff_rate_pred_doi_cites_mean_author_first_label_pred_doi_cites_mean_update_ym',\n",
    "       'diff_pred_doi_cites_mean_author_first_label_pred_doi_cites_mean_category_main_label',\n",
    "       'diff_rate_pred_doi_cites_mean_author_first_label_pred_doi_cites_mean_category_main_label',\n",
    "       'diff_rate_pred_doi_cites_mean_author_first_label_pred_doi_cites_mean_category_main_detail_label',\n",
    "       'diff_pred_doi_cites_mean_author_first_label_pred_doi_cites_mean_category_name_parent_label',\n",
    "       'diff_pred_doi_cites_mean_author_first_label_pred_doi_cites_mean_category_name_parent_main_label',\n",
    "       'diff_rate_pred_doi_cites_mean_pub_publisher_label_pred_doi_cites_mean_update_ym',\n",
    "       'diff_pred_doi_cites_mean_pub_publisher_label_pred_doi_cites_mean_first_created_ym',\n",
    "       'diff_rate_pred_doi_cites_mean_pub_publisher_label_pred_doi_cites_mean_first_created_ym',\n",
    "       'diff_pred_doi_cites_mean_pub_publisher_label_pred_doi_cites_mean_license_label',\n",
    "       'diff_rate_pred_doi_cites_mean_pub_publisher_label_pred_doi_cites_mean_license_label',\n",
    "       'diff_pred_doi_cites_mean_pub_publisher_label_pred_doi_cites_mean_category_main_label',\n",
    "       'diff_rate_pred_doi_cites_mean_pub_publisher_label_pred_doi_cites_mean_category_main_label',\n",
    "       'diff_pred_doi_cites_mean_pub_publisher_label_pred_doi_cites_mean_category_main_detail_label',\n",
    "       'diff_rate_pred_doi_cites_mean_pub_publisher_label_pred_doi_cites_mean_category_main_detail_label',\n",
    "       'diff_rate_pred_doi_cites_mean_pub_publisher_label_pred_doi_cites_mean_category_name_parent_main_label',\n",
    "       'diff_pred_doi_cites_mean_pub_publisher_label_pred_doi_cites_mean_category_name_label',\n",
    "       'diff_rate_pred_doi_cites_mean_update_ym_pred_doi_cites_mean_license_label',\n",
    "       'diff_pred_doi_cites_mean_update_ym_pred_doi_cites_mean_category_main_label',\n",
    "       'diff_rate_pred_doi_cites_mean_update_ym_pred_doi_cites_mean_category_main_label',\n",
    "       'diff_pred_doi_cites_mean_update_ym_pred_doi_cites_mean_category_main_detail_label',\n",
    "       'diff_rate_pred_doi_cites_mean_update_ym_pred_doi_cites_mean_category_main_detail_label',\n",
    "       'diff_rate_pred_doi_cites_mean_update_ym_pred_doi_cites_mean_category_name_parent_label',\n",
    "       'diff_pred_doi_cites_mean_update_ym_pred_doi_cites_mean_category_name_parent_main_label',\n",
    "       'diff_pred_doi_cites_mean_first_created_ym_pred_doi_cites_mean_license_label',\n",
    "       'diff_rate_pred_doi_cites_mean_first_created_ym_pred_doi_cites_mean_category_name_parent_main_label',\n",
    "       'diff_pred_doi_cites_mean_license_label_pred_doi_cites_mean_category_main_label',\n",
    "       'diff_rate_pred_doi_cites_mean_license_label_pred_doi_cites_mean_category_main_label',\n",
    "       'diff_pred_doi_cites_mean_license_label_pred_doi_cites_mean_category_main_detail_label',\n",
    "       'diff_rate_pred_doi_cites_mean_license_label_pred_doi_cites_mean_category_main_detail_label',\n",
    "       'diff_pred_doi_cites_mean_license_label_pred_doi_cites_mean_category_name_parent_label',\n",
    "       'diff_pred_doi_cites_mean_license_label_pred_doi_cites_mean_category_name_parent_main_label',\n",
    "       'diff_rate_pred_doi_cites_mean_license_label_pred_doi_cites_mean_category_name_parent_main_label',\n",
    "       'diff_pred_doi_cites_mean_category_main_label_pred_doi_cites_mean_category_main_detail_label',\n",
    "       'diff_rate_pred_doi_cites_mean_category_main_label_pred_doi_cites_mean_category_main_detail_label',\n",
    "       'diff_pred_doi_cites_mean_category_main_label_pred_doi_cites_mean_category_name_parent_main_label',\n",
    "       'diff_rate_pred_doi_cites_mean_category_main_label_pred_doi_cites_mean_category_name_parent_main_label',\n",
    "       'diff_pred_doi_cites_mean_category_main_detail_label_pred_doi_cites_mean_category_name_parent_label',\n",
    "       'diff_rate_pred_doi_cites_mean_category_main_detail_label_pred_doi_cites_mean_category_name_parent_label',\n",
    "       'diff_rate_pred_doi_cites_mean_category_main_detail_label_pred_doi_cites_mean_category_name_parent_main_label',\n",
    "       'diff_pred_doi_cites_mean_category_main_detail_label_pred_doi_cites_mean_category_name_label',\n",
    "       'diff_rate_pred_doi_cites_mean_category_main_detail_label_pred_doi_cites_mean_category_name_label',\n",
    "       'diff_rate_pred_doi_cites_mean_category_name_parent_label_pred_doi_cites_mean_category_name_label',\n",
    "       'diff_pred_doi_cites_mean_category_name_parent_main_label_pred_doi_cites_mean_category_name_label',\n",
    "       'diff_rate_pred_doi_cites_mean_category_name_parent_main_label_pred_doi_cites_mean_category_name_label',\n",
    "       'is_null_comments', 'is_null_journal-ref']\n"
   ]
  },
  {
   "cell_type": "code",
   "execution_count": 5,
   "metadata": {},
   "outputs": [],
   "source": [
    "importance_0_cols.extend(['id', 'authors', 'title', 'comments',\n",
    "    'journal-ref', 'doi', 'report-no', 'categories', 'license',\n",
    "    'abstract', 'versions', 'authors_parsed', 'pub_publisher',\n",
    "    'update_date_y', 'first_created_date', 'last_created_date', 'doi_id', 'submitter', 'author_first', 'category_main', 'category_main_detail', 'category_name_parent_main_unique', 'category_name_parent_unique', 'category_name_unique',\n",
    "    'submitter_label','doi_id_label','author_first_label','pub_publisher_label',\n",
    "    'license_label','category_main_label','category_name_parent_label','category_name_parent_main_label', 'category_name_label'\n",
    "    ])"
   ]
  },
  {
   "cell_type": "code",
   "execution_count": 6,
   "metadata": {},
   "outputs": [],
   "source": [
    "NFOLDS = 5"
   ]
  },
  {
   "cell_type": "code",
   "execution_count": 7,
   "metadata": {},
   "outputs": [
    {
     "output_type": "stream",
     "name": "stdout",
     "text": [
      "fold 0\n",
      "fold 1\n",
      "fold 2\n",
      "fold 3\n",
      "fold 4\n"
     ]
    },
    {
     "output_type": "execute_result",
     "data": {
      "text/plain": [
       "(59084,)"
      ]
     },
     "metadata": {},
     "execution_count": 7
    }
   ],
   "source": [
    "result_y_lgb = []\n",
    "\n",
    "predict_data = df_predict.copy()\n",
    "predict_data = predict_data.drop(importance_0_cols, axis=1)\n",
    "test_index = []\n",
    "result = np.zeros([NFOLDS, len(df_predict)])\n",
    "for fold_no in range(NFOLDS):\n",
    "    with open(f'../models/lgb_{fold_no}.pickle', mode='rb') as f:\n",
    "        model = pickle.load(f)\n",
    "        \n",
    "    result[fold_no] = model.predict(predict_data)\n",
    "    print(f\"fold {fold_no}\")\n",
    "\n",
    "result.shape\n",
    "lgb = result.mean(axis=0)\n",
    "lgb.shape"
   ]
  },
  {
   "cell_type": "code",
   "execution_count": 8,
   "metadata": {},
   "outputs": [
    {
     "output_type": "stream",
     "name": "stdout",
     "text": [
      "fold 0\n",
      "fold 1\n",
      "fold 2\n",
      "fold 3\n",
      "fold 4\n"
     ]
    },
    {
     "output_type": "execute_result",
     "data": {
      "text/plain": [
       "(59084,)"
      ]
     },
     "metadata": {},
     "execution_count": 8
    }
   ],
   "source": [
    "result_y_lgb = []\n",
    "\n",
    "predict_data = df_predict.copy()\n",
    "predict_data = predict_data.drop(importance_0_cols, axis=1)\n",
    "test_index = []\n",
    "result = np.zeros([NFOLDS, len(df_predict)])\n",
    "for fold_no in range(NFOLDS):\n",
    "    with open(f'../models/v2_lgb_{fold_no}.pickle', mode='rb') as f:\n",
    "        model = pickle.load(f)\n",
    "        \n",
    "    result[fold_no] = model.predict(predict_data)\n",
    "    print(f\"fold {fold_no}\")\n",
    "\n",
    "result.shape\n",
    "lgb2 = result.mean(axis=0)\n",
    "lgb2.shape"
   ]
  },
  {
   "cell_type": "code",
   "execution_count": 9,
   "metadata": {},
   "outputs": [
    {
     "output_type": "stream",
     "name": "stdout",
     "text": [
      "fold 0\n",
      "fold 1\n",
      "fold 2\n",
      "fold 3\n",
      "fold 4\n"
     ]
    },
    {
     "output_type": "execute_result",
     "data": {
      "text/plain": [
       "(59084,)"
      ]
     },
     "metadata": {},
     "execution_count": 9
    }
   ],
   "source": [
    "predict_data = df_predict.copy()\n",
    "predict_data = predict_data.drop(importance_0_cols, axis=1)\n",
    "result = np.zeros([NFOLDS, len(df_predict)])\n",
    "for fold_no in range(NFOLDS):\n",
    "    with open(f'../models/cat_{fold_no}.pickle', mode='rb') as f:\n",
    "        model = pickle.load(f)\n",
    "        \n",
    "    result[fold_no] = model.predict(predict_data)\n",
    "    print(f\"fold {fold_no}\")\n",
    "\n",
    "result.shape\n",
    "cat = result.mean(axis=0)\n",
    "cat.shape"
   ]
  },
  {
   "cell_type": "code",
   "execution_count": 10,
   "metadata": {},
   "outputs": [
    {
     "output_type": "stream",
     "name": "stdout",
     "text": [
      "fold 0\n",
      "fold 1\n",
      "fold 2\n",
      "fold 3\n",
      "fold 4\n"
     ]
    },
    {
     "output_type": "execute_result",
     "data": {
      "text/plain": [
       "(59084,)"
      ]
     },
     "metadata": {},
     "execution_count": 10
    }
   ],
   "source": [
    "predict_data = df_predict.copy()\n",
    "predict_data = predict_data.drop(importance_0_cols, axis=1)\n",
    "result = np.zeros([NFOLDS, len(df_predict)])\n",
    "for fold_no in range(NFOLDS):\n",
    "    with open(f'../models/v2_cat_{fold_no}.pickle', mode='rb') as f:\n",
    "        model = pickle.load(f)\n",
    "        \n",
    "    result[fold_no] = model.predict(predict_data)\n",
    "    print(f\"fold {fold_no}\")\n",
    "\n",
    "result.shape\n",
    "cat2 = result.mean(axis=0)\n",
    "cat2.shape"
   ]
  },
  {
   "cell_type": "code",
   "execution_count": 11,
   "metadata": {},
   "outputs": [
    {
     "output_type": "stream",
     "name": "stdout",
     "text": [
      "fold 0\n",
      "fold 1\n",
      "fold 2\n",
      "fold 3\n",
      "fold 4\n"
     ]
    },
    {
     "output_type": "execute_result",
     "data": {
      "text/plain": [
       "(59084,)"
      ]
     },
     "metadata": {},
     "execution_count": 11
    }
   ],
   "source": [
    "predict_data = df_predict.copy()\n",
    "predict_data = predict_data.drop(importance_0_cols, axis=1)\n",
    "predict_data = predict_data.fillna(0)\n",
    "\n",
    "result = np.zeros([NFOLDS, len(df_predict)])\n",
    "for fold_no in range(NFOLDS):\n",
    "    with open(f'../models/rf_{fold_no}.pickle', mode='rb') as f:\n",
    "        model = pickle.load(f)\n",
    "        \n",
    "    result[fold_no] = model.predict(predict_data)\n",
    "    print(f\"fold {fold_no}\")\n",
    "\n",
    "rf = result.mean(axis=0)\n",
    "rf.shape"
   ]
  },
  {
   "cell_type": "code",
   "execution_count": 12,
   "metadata": {},
   "outputs": [
    {
     "output_type": "stream",
     "name": "stdout",
     "text": [
      "fold 0\n",
      "fold 1\n",
      "fold 2\n",
      "fold 3\n",
      "fold 4\n"
     ]
    },
    {
     "output_type": "execute_result",
     "data": {
      "text/plain": [
       "(59084,)"
      ]
     },
     "metadata": {},
     "execution_count": 12
    }
   ],
   "source": [
    "predict_data = df_predict.copy()\n",
    "predict_data = predict_data.drop(importance_0_cols, axis=1)\n",
    "predict_data = predict_data.fillna(0)\n",
    "\n",
    "result = np.zeros([NFOLDS, len(df_predict)])\n",
    "for fold_no in range(NFOLDS):\n",
    "    with open(f'../models/v2_rf_{fold_no}.pickle', mode='rb') as f:\n",
    "        model = pickle.load(f)\n",
    "        \n",
    "    result[fold_no] = model.predict(predict_data)\n",
    "    print(f\"fold {fold_no}\")\n",
    "\n",
    "rf2 = result.mean(axis=0)\n",
    "rf2.shape"
   ]
  },
  {
   "cell_type": "code",
   "execution_count": 13,
   "metadata": {},
   "outputs": [
    {
     "output_type": "stream",
     "name": "stdout",
     "text": [
      "fold 0\n",
      "fold 1\n",
      "fold 2\n",
      "fold 3\n",
      "fold 4\n"
     ]
    },
    {
     "output_type": "execute_result",
     "data": {
      "text/plain": [
       "(59084,)"
      ]
     },
     "metadata": {},
     "execution_count": 13
    }
   ],
   "source": [
    "predict_data = df_predict.copy()\n",
    "predict_data = predict_data.drop(importance_0_cols, axis=1)\n",
    "result = np.zeros([NFOLDS, len(df_predict)])\n",
    "\n",
    "scaler = StandardScaler()\n",
    "predict_data = predict_data.fillna(0)\n",
    "predict_data = scaler.fit_transform(predict_data)\n",
    "for fold_no in range(NFOLDS):\n",
    "    with open(f'../models/reg_{fold_no}.pickle', mode='rb') as f:\n",
    "        model = pickle.load(f)\n",
    "        \n",
    "    result[fold_no] = model.predict(predict_data)\n",
    "    print(f\"fold {fold_no}\")\n",
    "\n",
    "reg = result.mean(axis=0)\n",
    "reg.shape"
   ]
  },
  {
   "cell_type": "code",
   "execution_count": 14,
   "metadata": {},
   "outputs": [
    {
     "output_type": "stream",
     "name": "stdout",
     "text": [
      "fold 0\n",
      "fold 1\n",
      "fold 2\n",
      "fold 3\n",
      "fold 4\n"
     ]
    },
    {
     "output_type": "execute_result",
     "data": {
      "text/plain": [
       "(59084,)"
      ]
     },
     "metadata": {},
     "execution_count": 14
    }
   ],
   "source": [
    "predict_data = df_predict.copy()\n",
    "predict_data = predict_data.drop(importance_0_cols, axis=1)\n",
    "result = np.zeros([NFOLDS, len(df_predict)])\n",
    "\n",
    "scaler = StandardScaler()\n",
    "predict_data = predict_data.fillna(0)\n",
    "predict_data = scaler.fit_transform(predict_data)\n",
    "for fold_no in range(NFOLDS):\n",
    "    with open(f'../models/v2_reg_{fold_no}.pickle', mode='rb') as f:\n",
    "        model = pickle.load(f)\n",
    "        \n",
    "    result[fold_no] = model.predict(predict_data)\n",
    "    print(f\"fold {fold_no}\")\n",
    "\n",
    "reg2 = result.mean(axis=0)\n",
    "reg2.shape"
   ]
  },
  {
   "cell_type": "code",
   "execution_count": 15,
   "metadata": {},
   "outputs": [
    {
     "output_type": "stream",
     "name": "stdout",
     "text": [
      "Model: \"functional_1\"\n_________________________________________________________________\nLayer (type)                 Output Shape              Param #   \n=================================================================\ninput (InputLayer)           [(None, 1555)]            0         \n_________________________________________________________________\ndense (Dense)                (None, 256)               398336    \n_________________________________________________________________\ndropout (Dropout)            (None, 256)               0         \n_________________________________________________________________\ndense_1 (Dense)              (None, 128)               32896     \n_________________________________________________________________\noutputs (Dense)              (None, 1)                 129       \n=================================================================\nTotal params: 431,361\nTrainable params: 431,361\nNon-trainable params: 0\n_________________________________________________________________\n"
     ]
    }
   ],
   "source": [
    "def build_model():\n",
    "  input = tf.keras.layers.Input(1555, name=\"input\")\n",
    "  x = tf.keras.layers.Dense(256, activation='relu')(input)\n",
    "  x = tf.keras.layers.Dropout(0.5)(x)\n",
    "  x = tf.keras.layers.Dense(128, activation='relu')(x)\n",
    "  outputs = tf.keras.layers.Dense(1, name='outputs')(x)\n",
    "  optimizer = tf.keras.optimizers.Adam()\n",
    "\n",
    "  model = tf.keras.Model(inputs=input, outputs=outputs)\n",
    "  model.compile(\n",
    "    loss='mse',\n",
    "    metrics=[tf.keras.metrics.RootMeanSquaredError()],\n",
    "    optimizer=optimizer)\n",
    "  return model\n",
    "  \n",
    "model = build_model()\n",
    "model.summary()"
   ]
  },
  {
   "cell_type": "code",
   "execution_count": 16,
   "metadata": {},
   "outputs": [
    {
     "output_type": "stream",
     "name": "stdout",
     "text": [
      "fold 0\n",
      "fold 1\n",
      "fold 2\n",
      "fold 3\n",
      "fold 4\n"
     ]
    },
    {
     "output_type": "execute_result",
     "data": {
      "text/plain": [
       "(59084,)"
      ]
     },
     "metadata": {},
     "execution_count": 16
    }
   ],
   "source": [
    "predict_data = df_predict.copy()\n",
    "predict_data = predict_data.drop(importance_0_cols, axis=1)\n",
    "result = np.zeros([NFOLDS, len(df_predict)])\n",
    "\n",
    "scaler = StandardScaler()\n",
    "predict_data = predict_data.fillna(0)\n",
    "predict_data = scaler.fit_transform(predict_data)\n",
    "for fold_no in range(NFOLDS):\n",
    "    model = build_model()\n",
    "    checkpoint_filepath = f'../models/nn_{fold_no}_weights.hdf5'\n",
    "    model.load_weights(checkpoint_filepath)\n",
    "\n",
    "    result[fold_no] = model.predict(predict_data).flatten()\n",
    "    print(f\"fold {fold_no}\")\n",
    "\n",
    "nn = result.mean(axis=0)\n",
    "nn.shape"
   ]
  },
  {
   "cell_type": "code",
   "execution_count": 30,
   "metadata": {},
   "outputs": [
    {
     "output_type": "stream",
     "name": "stdout",
     "text": [
      "Model: \"functional_23\"\n_________________________________________________________________\nLayer (type)                 Output Shape              Param #   \n=================================================================\ninput (InputLayer)           [(None, 1555)]            0         \n_________________________________________________________________\ndense_22 (Dense)             (None, 256)               398336    \n_________________________________________________________________\ndropout_11 (Dropout)         (None, 256)               0         \n_________________________________________________________________\ndense_23 (Dense)             (None, 128)               32896     \n_________________________________________________________________\noutputs (Dense)              (None, 1)                 129       \n=================================================================\nTotal params: 431,361\nTrainable params: 431,361\nNon-trainable params: 0\n_________________________________________________________________\n"
     ]
    }
   ],
   "source": [
    "def build_model2():\n",
    "  input = tf.keras.layers.Input(1555, name=\"input\")\n",
    "  x = tf.keras.layers.Dense(512, activation='relu')(input)\n",
    "  x = tf.keras.layers.Dropout(0.5)(x)\n",
    "  x = tf.keras.layers.Dense(256, activation='relu')(x)\n",
    "  outputs = tf.keras.layers.Dense(1, name='outputs')(x)\n",
    "  optimizer = tf.keras.optimizers.Adam()\n",
    "\n",
    "  model = tf.keras.Model(inputs=input, outputs=outputs)\n",
    "  model.compile(\n",
    "    loss='mse',\n",
    "    metrics=[tf.keras.metrics.RootMeanSquaredError()],\n",
    "    optimizer=optimizer)\n",
    "  return model\n",
    "  \n",
    "model = build_model()\n",
    "model.summary()"
   ]
  },
  {
   "cell_type": "code",
   "execution_count": 31,
   "metadata": {},
   "outputs": [
    {
     "output_type": "stream",
     "name": "stdout",
     "text": [
      "fold 0\n",
      "fold 1\n",
      "fold 2\n",
      "fold 3\n",
      "fold 4\n"
     ]
    },
    {
     "output_type": "execute_result",
     "data": {
      "text/plain": [
       "(59084,)"
      ]
     },
     "metadata": {},
     "execution_count": 31
    }
   ],
   "source": [
    "predict_data = df_predict.copy()\n",
    "predict_data = predict_data.drop(importance_0_cols, axis=1)\n",
    "result = np.zeros([NFOLDS, len(df_predict)])\n",
    "\n",
    "scaler = StandardScaler()\n",
    "predict_data = predict_data.fillna(0)\n",
    "predict_data = scaler.fit_transform(predict_data)\n",
    "for fold_no in range(NFOLDS):\n",
    "    model = build_model2()\n",
    "    checkpoint_filepath = f'../models/v2_nn_{fold_no}_weights.hdf5'\n",
    "    model.load_weights(checkpoint_filepath)\n",
    "\n",
    "    result[fold_no] = model.predict(predict_data).flatten()\n",
    "    print(f\"fold {fold_no}\")\n",
    "\n",
    "nn2 = result.mean(axis=0)\n",
    "nn2.shape"
   ]
  },
  {
   "cell_type": "code",
   "execution_count": 33,
   "metadata": {},
   "outputs": [
    {
     "output_type": "execute_result",
     "data": {
      "text/plain": [
       "        lgb       cat        rf       reg        nn      lgb2      cat2  \\\n",
       "0  2.538794  2.523266  2.444625  2.590539  2.458217  2.523266  2.523266   \n",
       "1  3.229687  3.254991  3.247383  3.179583  3.034371  3.254991  3.254991   \n",
       "2  4.531537  4.374481  4.453524  4.520423  4.692705  4.374481  4.374481   \n",
       "\n",
       "        rf2      reg2       nn2  \n",
       "0  2.444625  2.590539  2.458217  \n",
       "1  3.247383  3.179583  3.034371  \n",
       "2  4.453524  4.520423  4.692705  "
      ],
      "text/html": "<div>\n<style scoped>\n    .dataframe tbody tr th:only-of-type {\n        vertical-align: middle;\n    }\n\n    .dataframe tbody tr th {\n        vertical-align: top;\n    }\n\n    .dataframe thead th {\n        text-align: right;\n    }\n</style>\n<table border=\"1\" class=\"dataframe\">\n  <thead>\n    <tr style=\"text-align: right;\">\n      <th></th>\n      <th>lgb</th>\n      <th>cat</th>\n      <th>rf</th>\n      <th>reg</th>\n      <th>nn</th>\n      <th>lgb2</th>\n      <th>cat2</th>\n      <th>rf2</th>\n      <th>reg2</th>\n      <th>nn2</th>\n    </tr>\n  </thead>\n  <tbody>\n    <tr>\n      <th>0</th>\n      <td>2.538794</td>\n      <td>2.523266</td>\n      <td>2.444625</td>\n      <td>2.590539</td>\n      <td>2.458217</td>\n      <td>2.523266</td>\n      <td>2.523266</td>\n      <td>2.444625</td>\n      <td>2.590539</td>\n      <td>2.458217</td>\n    </tr>\n    <tr>\n      <th>1</th>\n      <td>3.229687</td>\n      <td>3.254991</td>\n      <td>3.247383</td>\n      <td>3.179583</td>\n      <td>3.034371</td>\n      <td>3.254991</td>\n      <td>3.254991</td>\n      <td>3.247383</td>\n      <td>3.179583</td>\n      <td>3.034371</td>\n    </tr>\n    <tr>\n      <th>2</th>\n      <td>4.531537</td>\n      <td>4.374481</td>\n      <td>4.453524</td>\n      <td>4.520423</td>\n      <td>4.692705</td>\n      <td>4.374481</td>\n      <td>4.374481</td>\n      <td>4.453524</td>\n      <td>4.520423</td>\n      <td>4.692705</td>\n    </tr>\n  </tbody>\n</table>\n</div>"
     },
     "metadata": {},
     "execution_count": 33
    }
   ],
   "source": [
    "df_result = pd.DataFrame(lgb, columns=['lgb'])\n",
    "df_result = pd.concat([df_result, pd.DataFrame(cat, columns=['cat'])], axis=1)\n",
    "df_result = pd.concat([df_result, pd.DataFrame(rf, columns=['rf'])], axis=1)\n",
    "df_result = pd.concat([df_result, pd.DataFrame(reg, columns=['reg'])], axis=1)\n",
    "df_result = pd.concat([df_result, pd.DataFrame(nn, columns=['nn'])], axis=1)\n",
    "df_result = pd.concat([df_result, pd.DataFrame(cat, columns=['lgb2'])], axis=1)\n",
    "df_result = pd.concat([df_result, pd.DataFrame(cat, columns=['cat2'])], axis=1)\n",
    "df_result = pd.concat([df_result, pd.DataFrame(rf, columns=['rf2'])], axis=1)\n",
    "df_result = pd.concat([df_result, pd.DataFrame(reg, columns=['reg2'])], axis=1)\n",
    "df_result = pd.concat([df_result, pd.DataFrame(nn, columns=['nn2'])], axis=1)\n",
    "df_result.head(3)"
   ]
  },
  {
   "cell_type": "code",
   "execution_count": 34,
   "metadata": {},
   "outputs": [
    {
     "output_type": "execute_result",
     "data": {
      "text/plain": [
       "(59084,)"
      ]
     },
     "metadata": {},
     "execution_count": 34
    }
   ],
   "source": [
    "result = np.zeros([NFOLDS, len(df_result)])\n",
    "for fold_no in range(NFOLDS):\n",
    "    with open(f'../models/v2_2nd_svr_{fold_no}.pickle', mode='rb') as f:\n",
    "        model = pickle.load(f)\n",
    "    result[fold_no] = model.predict(df_result)\n",
    "reg1 = result.mean(axis=0)\n",
    "reg1.shape"
   ]
  },
  {
   "cell_type": "code",
   "execution_count": 35,
   "metadata": {},
   "outputs": [
    {
     "output_type": "execute_result",
     "data": {
      "text/plain": [
       "(59084,)"
      ]
     },
     "metadata": {},
     "execution_count": 35
    }
   ],
   "source": [
    "result = np.zeros([NFOLDS, len(df_result)])\n",
    "for fold_no in range(NFOLDS):\n",
    "    with open(f'../models/v2_2nd_ridge_{fold_no}.pickle', mode='rb') as f:\n",
    "        model = pickle.load(f)\n",
    "    result[fold_no] = model.predict(df_result)\n",
    "reg2 = result.mean(axis=0)\n",
    "reg2.shape"
   ]
  },
  {
   "cell_type": "code",
   "execution_count": 36,
   "metadata": {},
   "outputs": [
    {
     "output_type": "execute_result",
     "data": {
      "text/plain": [
       "array([2.52779012, 3.1704312 , 4.54201973, ..., 2.4440839 , 1.60152347,\n",
       "       4.00871844])"
      ]
     },
     "metadata": {},
     "execution_count": 36
    }
   ],
   "source": [
    "result = (reg1 * 0.2) + (reg2 * 0.8)\n",
    "result"
   ]
  },
  {
   "cell_type": "code",
   "execution_count": 37,
   "metadata": {},
   "outputs": [
    {
     "output_type": "execute_result",
     "data": {
      "text/plain": [
       "array([11.52579497, 22.8177524 , 92.88022103, ..., 10.51999125,\n",
       "        3.96058398, 54.07624159])"
      ]
     },
     "metadata": {},
     "execution_count": 37
    }
   ],
   "source": [
    "test_predicted = np.expm1(result)\n",
    "test_predicted"
   ]
  },
  {
   "cell_type": "code",
   "execution_count": 38,
   "metadata": {},
   "outputs": [],
   "source": [
    "submit_df = pd.DataFrame({'id': df_predict['id']})\n",
    "submit_df['cites'] = np.where(test_predicted < 0, 0, test_predicted)\n",
    "submit_df.to_csv(\"submission_20210328_1023.csv\", index=False)"
   ]
  },
  {
   "cell_type": "code",
   "execution_count": 39,
   "metadata": {},
   "outputs": [
    {
     "output_type": "execute_result",
     "data": {
      "text/plain": [
       "       proba\n",
       "0  11.525795\n",
       "1  22.817752\n",
       "2  92.880221\n",
       "3  11.722009\n",
       "4  10.741093"
      ],
      "text/html": "<div>\n<style scoped>\n    .dataframe tbody tr th:only-of-type {\n        vertical-align: middle;\n    }\n\n    .dataframe tbody tr th {\n        vertical-align: top;\n    }\n\n    .dataframe thead th {\n        text-align: right;\n    }\n</style>\n<table border=\"1\" class=\"dataframe\">\n  <thead>\n    <tr style=\"text-align: right;\">\n      <th></th>\n      <th>proba</th>\n    </tr>\n  </thead>\n  <tbody>\n    <tr>\n      <th>0</th>\n      <td>11.525795</td>\n    </tr>\n    <tr>\n      <th>1</th>\n      <td>22.817752</td>\n    </tr>\n    <tr>\n      <th>2</th>\n      <td>92.880221</td>\n    </tr>\n    <tr>\n      <th>3</th>\n      <td>11.722009</td>\n    </tr>\n    <tr>\n      <th>4</th>\n      <td>10.741093</td>\n    </tr>\n  </tbody>\n</table>\n</div>"
     },
     "metadata": {},
     "execution_count": 39
    }
   ],
   "source": [
    "df_temp = pd.DataFrame(test_predicted).rename(columns={0:'proba'})\n",
    "df_temp.head()"
   ]
  },
  {
   "cell_type": "code",
   "execution_count": 38,
   "metadata": {},
   "outputs": [
    {
     "output_type": "execute_result",
     "data": {
      "text/plain": [
       "       proba\n",
       "0  11.469900\n",
       "1  22.764166\n",
       "2  94.341634\n",
       "3  11.828095\n",
       "4  11.006620"
      ],
      "text/html": "<div>\n<style scoped>\n    .dataframe tbody tr th:only-of-type {\n        vertical-align: middle;\n    }\n\n    .dataframe tbody tr th {\n        vertical-align: top;\n    }\n\n    .dataframe thead th {\n        text-align: right;\n    }\n</style>\n<table border=\"1\" class=\"dataframe\">\n  <thead>\n    <tr style=\"text-align: right;\">\n      <th></th>\n      <th>proba</th>\n    </tr>\n  </thead>\n  <tbody>\n    <tr>\n      <th>0</th>\n      <td>11.469900</td>\n    </tr>\n    <tr>\n      <th>1</th>\n      <td>22.764166</td>\n    </tr>\n    <tr>\n      <th>2</th>\n      <td>94.341634</td>\n    </tr>\n    <tr>\n      <th>3</th>\n      <td>11.828095</td>\n    </tr>\n    <tr>\n      <th>4</th>\n      <td>11.006620</td>\n    </tr>\n  </tbody>\n</table>\n</div>"
     },
     "metadata": {},
     "execution_count": 38
    }
   ],
   "source": [
    "df_temp = pd.DataFrame(test_predicted).rename(columns={0:'proba'})\n",
    "df_temp.head()"
   ]
  },
  {
   "cell_type": "code",
   "execution_count": null,
   "metadata": {},
   "outputs": [],
   "source": []
  },
  {
   "cell_type": "code",
   "execution_count": null,
   "metadata": {},
   "outputs": [],
   "source": [
    "df_temp[df_temp['proba'] <= 1]"
   ]
  },
  {
   "cell_type": "code",
   "execution_count": null,
   "metadata": {},
   "outputs": [],
   "source": [
    "df_temp = pd.DataFrame(test_predicted).rename(columns={0:'proba'})\n",
    "df_temp.head()"
   ]
  },
  {
   "cell_type": "code",
   "execution_count": 40,
   "metadata": {},
   "outputs": [
    {
     "output_type": "execute_result",
     "data": {
      "text/plain": [
       "                     id      cites\n",
       "0            1605.00995  11.968837\n",
       "1             1206.6911  24.111304\n",
       "2      cond-mat/0504055  88.449786\n",
       "3      astro-ph/9907297  11.697223\n",
       "4             1104.5407  11.513199\n",
       "...                 ...        ...\n",
       "59079         1210.4112  20.889329\n",
       "59080        1701.03465   5.116972\n",
       "59081        1709.10428  10.521577\n",
       "59082     gr-qc/9803020   3.669175\n",
       "59083  cond-mat/0512492  55.614043\n",
       "\n",
       "[59084 rows x 2 columns]"
      ],
      "text/html": "<div>\n<style scoped>\n    .dataframe tbody tr th:only-of-type {\n        vertical-align: middle;\n    }\n\n    .dataframe tbody tr th {\n        vertical-align: top;\n    }\n\n    .dataframe thead th {\n        text-align: right;\n    }\n</style>\n<table border=\"1\" class=\"dataframe\">\n  <thead>\n    <tr style=\"text-align: right;\">\n      <th></th>\n      <th>id</th>\n      <th>cites</th>\n    </tr>\n  </thead>\n  <tbody>\n    <tr>\n      <th>0</th>\n      <td>1605.00995</td>\n      <td>11.968837</td>\n    </tr>\n    <tr>\n      <th>1</th>\n      <td>1206.6911</td>\n      <td>24.111304</td>\n    </tr>\n    <tr>\n      <th>2</th>\n      <td>cond-mat/0504055</td>\n      <td>88.449786</td>\n    </tr>\n    <tr>\n      <th>3</th>\n      <td>astro-ph/9907297</td>\n      <td>11.697223</td>\n    </tr>\n    <tr>\n      <th>4</th>\n      <td>1104.5407</td>\n      <td>11.513199</td>\n    </tr>\n    <tr>\n      <th>...</th>\n      <td>...</td>\n      <td>...</td>\n    </tr>\n    <tr>\n      <th>59079</th>\n      <td>1210.4112</td>\n      <td>20.889329</td>\n    </tr>\n    <tr>\n      <th>59080</th>\n      <td>1701.03465</td>\n      <td>5.116972</td>\n    </tr>\n    <tr>\n      <th>59081</th>\n      <td>1709.10428</td>\n      <td>10.521577</td>\n    </tr>\n    <tr>\n      <th>59082</th>\n      <td>gr-qc/9803020</td>\n      <td>3.669175</td>\n    </tr>\n    <tr>\n      <th>59083</th>\n      <td>cond-mat/0512492</td>\n      <td>55.614043</td>\n    </tr>\n  </tbody>\n</table>\n<p>59084 rows × 2 columns</p>\n</div>"
     },
     "metadata": {},
     "execution_count": 40
    }
   ],
   "source": [
    "pd.read_csv('submission20210328.csv')"
   ]
  },
  {
   "cell_type": "code",
   "execution_count": null,
   "metadata": {},
   "outputs": [],
   "source": []
  }
 ]
}